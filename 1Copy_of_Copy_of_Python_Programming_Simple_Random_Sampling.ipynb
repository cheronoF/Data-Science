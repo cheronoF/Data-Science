{
  "nbformat": 4,
  "nbformat_minor": 0,
  "metadata": {
    "colab": {
      "name": "1Copy of Copy of Python Programming: Simple Random Sampling",
      "provenance": [],
      "collapsed_sections": [
        "s0-xi8v6eATI",
        "c2SS_SWaQXE2",
        "cSWmgSy3SV5D",
        "RcV5DlN5R2uh",
        "PA5HaWPvTALQ",
        "BeUYGvGhTsm1",
        "bNWFLKL-gRTO",
        "kV0dRO0nUJzL",
        "0gGIBBpggZT2",
        "DwOtPvA3UnHf",
        "LZgY26bsgfJv",
        "-22NquhoWF7l",
        "8QVs13BcYJpm"
      ],
      "include_colab_link": true
    },
    "kernelspec": {
      "name": "python3",
      "display_name": "Python 3"
    }
  },
  "cells": [
    {
      "cell_type": "markdown",
      "metadata": {
        "id": "view-in-github",
        "colab_type": "text"
      },
      "source": [
        "<a href=\"https://colab.research.google.com/github/cheronoF/Data-Science/blob/main/1Copy_of_Copy_of_Python_Programming_Simple_Random_Sampling.ipynb\" target=\"_parent\"><img src=\"https://colab.research.google.com/assets/colab-badge.svg\" alt=\"Open In Colab\"/></a>"
      ]
    },
    {
      "cell_type": "markdown",
      "metadata": {
        "id": "YutBgvuBdPHi"
      },
      "source": [
        "<font color=\"green\">To start working on this notebook, or any other notebook that we will use in the Moringa Data Science Course, we will need to save our own copy of it. We can do this by clicking File > Save a Copy in Drive. We will then be able to make edits to our own copy of this notebook.</font>"
      ]
    },
    {
      "cell_type": "markdown",
      "metadata": {
        "id": "5zn7dG78QUoE"
      },
      "source": [
        "# Python Programming:  Simple Random Sampling\n"
      ]
    },
    {
      "cell_type": "markdown",
      "metadata": {
        "id": "s0-xi8v6eATI"
      },
      "source": [
        "## Importing our Libraries"
      ]
    },
    {
      "cell_type": "code",
      "metadata": {
        "id": "suQkBJ4BTRWv"
      },
      "source": [
        "# importing numpy\n",
        "import numpy as np\n",
        "\n",
        "# importing pandas\n",
        "import pandas as pd\n",
        "\n",
        "# importing random module\n",
        "# we will use random.sample() function to return a k length \n",
        "# list of unique elements chosen from our population\n",
        "import random"
      ],
      "execution_count": null,
      "outputs": []
    },
    {
      "cell_type": "markdown",
      "metadata": {
        "id": "c2SS_SWaQXE2"
      },
      "source": [
        "## 1.0 Selecting More than One item from a List"
      ]
    },
    {
      "cell_type": "code",
      "metadata": {
        "id": "ttRODtArQMVS",
        "colab": {
          "base_uri": "https://localhost:8080/"
        },
        "outputId": "a0408385-0ad0-4e56-f2ac-349a6b69acda"
      },
      "source": [
        "# Example 1\n",
        "# ---\n",
        "# Selecting more than one item from a list \n",
        "# ---\n",
        "#\n",
        "\n",
        "list = [20, 40, 80, 100, 120]\n",
        "print (\"Choosing 3 random items from a list using sample function\", random.sample(list, k=3))\n",
        "\n",
        "list = [20, 40, 20, 20, 20]\n",
        "print (\"Choosing 3 random items from a list using sample function\",random.sample(list, k=2))\n",
        "\n",
        "# As you can see we pass k=3 to choose 3 random elements from a list. \n",
        "# In return, we got a list of 3 random items."
      ],
      "execution_count": null,
      "outputs": [
        {
          "output_type": "stream",
          "name": "stdout",
          "text": [
            "Choosing 3 random items from a list using sample function [100, 40, 20]\n",
            "Choosing 3 random items from a list using sample function [20, 20]\n"
          ]
        }
      ]
    },
    {
      "cell_type": "markdown",
      "metadata": {
        "id": "cSWmgSy3SV5D"
      },
      "source": [
        "### <font color=\"green\"> 1.0 Challenges</font>"
      ]
    },
    {
      "cell_type": "code",
      "metadata": {
        "id": "Ga8D2XvfRFaP",
        "colab": {
          "base_uri": "https://localhost:8080/"
        },
        "outputId": "3684d342-9d48-4f33-b67d-995d068af42a"
      },
      "source": [
        "# Challenge 1\n",
        "# ---\n",
        "# Question: Create a list containing 10 counties in Kenya \n",
        "# then select 2 random counties from the list.\n",
        "\n",
        "\n",
        "list = [\"Uasin Gingu\", \"Machakos\", \"Kiambu\", \"Kakamega\", \"Kwale\", \"Lamu\", \"Bomet\", \"Laikipia\", \"Baringo\", \"Nandi\"]\n",
        "print (random.sample(list, k=2))"
      ],
      "execution_count": null,
      "outputs": [
        {
          "output_type": "stream",
          "name": "stdout",
          "text": [
            "['Laikipia', 'Machakos']\n"
          ]
        }
      ]
    },
    {
      "cell_type": "code",
      "metadata": {
        "id": "6pFNCl-NP8ZV",
        "colab": {
          "base_uri": "https://localhost:8080/"
        },
        "outputId": "0216443f-7718-428e-bfee-da5cff148f24"
      },
      "source": [
        "list = [ 1, 2, 3, 5, 7, 8 , 9]\n",
        "random.sample(list, k=3)"
      ],
      "execution_count": null,
      "outputs": [
        {
          "output_type": "execute_result",
          "data": {
            "text/plain": [
              "[5, 1, 7]"
            ]
          },
          "metadata": {},
          "execution_count": 30
        }
      ]
    },
    {
      "cell_type": "markdown",
      "metadata": {
        "id": "RcV5DlN5R2uh"
      },
      "source": [
        "## 2.0  Selecting the Random Sample from Dictionary"
      ]
    },
    {
      "cell_type": "code",
      "metadata": {
        "id": "yerkTFAPSIlT",
        "colab": {
          "base_uri": "https://localhost:8080/"
        },
        "outputId": "39309514-2d9a-4829-d0a6-1c59324d9aa8"
      },
      "source": [
        "# Example 1\n",
        "# ---\n",
        "# We can select a random key-value pair from the dictionary as shown \n",
        "# ---\n",
        "#\n",
        "marks_dict = {\n",
        "  \"Kelly\": 55,\n",
        "  \"jhon\": 70,\n",
        "  \"Donald\": 60,\n",
        "  \"Lennin\" :50\n",
        "}\n",
        "\n",
        "print (\"Choosing 2 random items from a dictionary using sample method \", random.sample(marks_dict.items(), k=2))"
      ],
      "execution_count": null,
      "outputs": [
        {
          "output_type": "stream",
          "name": "stdout",
          "text": [
            "Choosing 2 random items from a dictionary using sample method  [('Donald', 60), ('Kelly', 55)]\n"
          ]
        }
      ]
    },
    {
      "cell_type": "markdown",
      "metadata": {
        "id": "PA5HaWPvTALQ"
      },
      "source": [
        "### <font color=\"green\">2.0 Challenges</font>"
      ]
    },
    {
      "cell_type": "code",
      "metadata": {
        "id": "GZimMc1TSSGU",
        "colab": {
          "base_uri": "https://localhost:8080/"
        },
        "outputId": "55652615-1d09-40c4-9b6c-22a430901b83"
      },
      "source": [
        "# Challenge 1\n",
        "# ---\n",
        "# A caterer offers three different food packages; \n",
        "# bronze package: starch:rice stew:chicken curry vegetable:cabbages desert:melon\n",
        "# silver package: starch:rice and chappati  stew:beef curry vegetable:spinach desert:melon and bananas\n",
        "# gold package: starch:rice, chappati and mukimo stew: beef curry vegetable:spinach and managu desert: tart\n",
        "# Create a dictionary that stores the above information and select a sample of size 2 \n",
        "# ---\n",
        "#\n",
        "\n",
        "food_packages = { 'Bronze Package': {'Starch': 'Rice Stew', 'Stew': 'Chicken Curry', 'Vegetable': ' Cabbages', 'Desert': 'Melon'},\n",
        "                'Silver Package': {'Starch': 'Rice and Chapati', 'Stew': 'Beef Curry', 'Vegetable': 'Spinach', 'Desert': 'Melon and Bananas'},\n",
        "                 'Gold Package': {'Starch': 'Rice, Chapati & Mukimo', 'Stew':'Beef Curry', 'Vegetable':'Spinach and Managu', 'Desert':'Tart'}}\n",
        "\n",
        "random.sample(food_packages.items(), k=2)"
      ],
      "execution_count": null,
      "outputs": [
        {
          "output_type": "execute_result",
          "data": {
            "text/plain": [
              "[('Silver Package',\n",
              "  {'Desert': 'Melon and Bananas',\n",
              "   'Starch': 'Rice and Chapati',\n",
              "   'Stew': 'Beef Curry',\n",
              "   'Vegetable': 'Spinach'}),\n",
              " ('Gold Package',\n",
              "  {'Desert': 'Tart',\n",
              "   'Starch': 'Rice, Chapati & Mukimo',\n",
              "   'Stew': 'Beef Curry',\n",
              "   'Vegetable': 'Spinach and Managu'})]"
            ]
          },
          "metadata": {},
          "execution_count": 32
        }
      ]
    },
    {
      "cell_type": "markdown",
      "metadata": {
        "id": "BeUYGvGhTsm1"
      },
      "source": [
        "## 3.0 Selecting a Random Sample with Replacement to including repetition\n"
      ]
    },
    {
      "cell_type": "code",
      "metadata": {
        "id": "9lDLmuqyT0DH",
        "colab": {
          "base_uri": "https://localhost:8080/"
        },
        "outputId": "55fddc91-e621-439c-c5dc-a8f2138eb435"
      },
      "source": [
        "# Example 1\n",
        "# ---\n",
        "# We can select a random sample with replacement to include repetition as shown below\n",
        "\n",
        "names = [\"Roger\", \"Nadal\", \"Novac\", \"Andre\", \"Sarena\", \"Mariya\", \"Martina\"]\n",
        "\n",
        "print(\"random sample with replacement to including repetition \", random.choices(names, k=3))"
      ],
      "execution_count": null,
      "outputs": [
        {
          "output_type": "stream",
          "name": "stdout",
          "text": [
            "random sample with replacement to including repetition  ['Roger', 'Martina', 'Andre']\n"
          ]
        }
      ]
    },
    {
      "cell_type": "markdown",
      "metadata": {
        "id": "bNWFLKL-gRTO"
      },
      "source": [
        "### <font color=\"green\">3.0 Challenges</font>"
      ]
    },
    {
      "cell_type": "code",
      "metadata": {
        "id": "OYjj3osOUCC3",
        "colab": {
          "base_uri": "https://localhost:8080/"
        },
        "outputId": "f6db7e94-7466-40af-c552-2182c54e22ea"
      },
      "source": [
        "# Challenge 1\n",
        "# ---\n",
        "# Question: Select a random sample of 3 with replacement to include replacement from the \n",
        "# following list of months\n",
        "# ---\n",
        "#\n",
        "\n",
        "months = ['January', 'February', 'March', 'April', 'May', 'June', 'July',\n",
        "          'August', 'September', 'October', 'November', 'December']\n",
        "\n",
        "print(\"random sample with replacement to including repetition \", random.choices(months, k=3))"
      ],
      "execution_count": null,
      "outputs": [
        {
          "output_type": "stream",
          "name": "stdout",
          "text": [
            "random sample with replacement to including repetition  ['November', 'March', 'October']\n"
          ]
        }
      ]
    },
    {
      "cell_type": "markdown",
      "metadata": {
        "id": "kV0dRO0nUJzL"
      },
      "source": [
        "## 4.0 Selecting a Random Sample from a Range of Integers"
      ]
    },
    {
      "cell_type": "code",
      "metadata": {
        "id": "HBqhmibxUIgt",
        "colab": {
          "base_uri": "https://localhost:8080/"
        },
        "outputId": "411991ce-4dd4-42b4-dcfc-7d17a2919161"
      },
      "source": [
        "# Example 1\n",
        "# ---\n",
        "# We can select a random sample from a range of integers as shown below\n",
        "# ---\n",
        "# \n",
        "\n",
        "weight_set = {40, 50, 55, 65, 75, 80}\n",
        "\n",
        "print (\"Choosing 4 random items from a set \", random.sample(weight_set, k=4))"
      ],
      "execution_count": null,
      "outputs": [
        {
          "output_type": "stream",
          "name": "stdout",
          "text": [
            "Choosing 4 random items from a set  [55, 80, 75, 40]\n"
          ]
        }
      ]
    },
    {
      "cell_type": "markdown",
      "metadata": {
        "id": "0gGIBBpggZT2"
      },
      "source": [
        "### <font color=\"green\">4.1 Challenges</font>"
      ]
    },
    {
      "cell_type": "code",
      "metadata": {
        "id": "IIAkil2VUjuI",
        "colab": {
          "base_uri": "https://localhost:8080/"
        },
        "outputId": "c2863967-cf18-4984-b33e-d0def3cffdbd"
      },
      "source": [
        "# Challenge 1\n",
        "# ---\n",
        "# Question: Select a random sample from a range of integers as shown below\n",
        "# --- \n",
        "# \n",
        "weight_set = {4, 5, 6, 7, 8, 9, 10}\n",
        "\n",
        "random.sample(weight_set, k=2)"
      ],
      "execution_count": null,
      "outputs": [
        {
          "output_type": "execute_result",
          "data": {
            "text/plain": [
              "[5, 9]"
            ]
          },
          "metadata": {},
          "execution_count": 36
        }
      ]
    },
    {
      "cell_type": "markdown",
      "metadata": {
        "id": "DwOtPvA3UnHf"
      },
      "source": [
        "## 5.0 Selecting a Sample Array from a Large multidimensional Array\n",
        "\n"
      ]
    },
    {
      "cell_type": "code",
      "metadata": {
        "id": "RxtsWbUtU2cW",
        "colab": {
          "base_uri": "https://localhost:8080/"
        },
        "outputId": "61d0ca84-53b4-4a16-ebc1-1c2ceb83d4f9"
      },
      "source": [
        "# Example 1\n",
        "# ---\n",
        "# We can select a sample array from a large multidimensional array as shown\n",
        "# ---\n",
        "# \n",
        "\n",
        "array = np.array([[2 ,4, 6], [5, 10, 15], [6, 12, 18], [7, 14, 21], [8, 16, 24]]) \n",
        "print(\"Printing 2D Array\")\n",
        "print(array)\n",
        "\n",
        "# selecting multiple random rows from the 2D as shown\n",
        "print(\"Selecting multiple random rows from the 2D array\")\n",
        "randomRows = np.random.randint(5, size=2)\n",
        "for i in randomRows:\n",
        "  print(array[i,:])"
      ],
      "execution_count": null,
      "outputs": [
        {
          "output_type": "stream",
          "name": "stdout",
          "text": [
            "Printing 2D Array\n",
            "[[ 2  4  6]\n",
            " [ 5 10 15]\n",
            " [ 6 12 18]\n",
            " [ 7 14 21]\n",
            " [ 8 16 24]]\n",
            "Selecting multiple random rows from the 2D array\n",
            "[ 7 14 21]\n",
            "[ 5 10 15]\n"
          ]
        }
      ]
    },
    {
      "cell_type": "markdown",
      "metadata": {
        "id": "LZgY26bsgfJv"
      },
      "source": [
        "### <font color=\"green\">5.0 Challenges</font>"
      ]
    },
    {
      "cell_type": "code",
      "metadata": {
        "id": "mJt1ePbSVR9j",
        "colab": {
          "base_uri": "https://localhost:8080/"
        },
        "outputId": "2a84af7b-a2e3-4f40-cbce-4eb7a85740e0"
      },
      "source": [
        "# Challenge 1\n",
        "# ---\n",
        "# Question: Select two arrays from the given multidimensional array\n",
        "# ---\n",
        "# \n",
        "\n",
        "a = np.array([[2, 4, 6, 8, 10], [3, 6, 9, 12, 15], [4, 8, 12, 16, 20], [1 ,2 , 4, 5, 6], [5, 10, 15, 20, 25], [6, 12, 18, 24, 30], [7, 14, 21, 28, 35]])\n",
        "\n",
        "print(\"Printing 2D Array\")\n",
        "print(a)\n"
      ],
      "execution_count": null,
      "outputs": [
        {
          "output_type": "stream",
          "name": "stdout",
          "text": [
            "Printing 2D Array\n",
            "[[ 2  4  6  8 10]\n",
            " [ 3  6  9 12 15]\n",
            " [ 4  8 12 16 20]\n",
            " [ 1  2  4  5  6]\n",
            " [ 5 10 15 20 25]\n",
            " [ 6 12 18 24 30]\n",
            " [ 7 14 21 28 35]]\n"
          ]
        }
      ]
    },
    {
      "cell_type": "code",
      "metadata": {
        "colab": {
          "base_uri": "https://localhost:8080/"
        },
        "id": "s9El3JIyZ5kh",
        "outputId": "a0d1c0a1-3dc0-44ec-a420-872201e022f7"
      },
      "source": [
        "# selecting multiple random rows from the 2D as shown\n",
        "print(\"Selecting two arrays from the 2D array\")\n",
        "randomRows = np.random.randint(5, size=2)\n",
        "for i in randomRows:\n",
        "  print(a[i,:])"
      ],
      "execution_count": null,
      "outputs": [
        {
          "output_type": "stream",
          "name": "stdout",
          "text": [
            "Selecting two arrays from the 2D array\n",
            "[1 2 4 5 6]\n",
            "[1 2 4 5 6]\n"
          ]
        }
      ]
    },
    {
      "cell_type": "markdown",
      "metadata": {
        "id": "-22NquhoWF7l"
      },
      "source": [
        "## 6.0 Selecting Random Samples from a Dataset"
      ]
    },
    {
      "cell_type": "code",
      "metadata": {
        "id": "gimbl5z3Waat"
      },
      "source": [
        "# Example 1\n",
        "# ---\n",
        "# Selecting a random sample from the following medical appointments dataset\n",
        "# ---\n",
        "# Dataset url = http://bit.ly/MedicalAppointmentsDataset\n",
        "# ---\n",
        "# \n",
        "\n",
        "# Loading the dataset\n",
        "medical_df = pd.read_csv(\"http://bit.ly/MedicalAppointmentsDataset\")\n",
        "\n",
        "# Determining the size\n",
        "print(medical_df.shape)\n",
        "\n",
        "\n",
        "# Previewing the dataset\n",
        "print(medical_df.head())\n",
        "\n",
        "# Selecting the sample \n",
        "medical_sample = medical_df.sample(n = 10, replace=\"False\")\n",
        "print(medical_sample)"
      ],
      "execution_count": null,
      "outputs": []
    },
    {
      "cell_type": "code",
      "metadata": {
        "id": "RwuKrYera3Uw",
        "colab": {
          "base_uri": "https://localhost:8080/",
          "height": 138
        },
        "outputId": "db6a8567-ed72-4355-dc21-39757cb5d6fd"
      },
      "source": [
        "medical_df = pd.read_csv(\"http://bit.ly/MedicalAppointmentsDataset\")\n",
        "medical_df.head(3)"
      ],
      "execution_count": null,
      "outputs": [
        {
          "output_type": "execute_result",
          "data": {
            "text/html": [
              "<div>\n",
              "<style scoped>\n",
              "    .dataframe tbody tr th:only-of-type {\n",
              "        vertical-align: middle;\n",
              "    }\n",
              "\n",
              "    .dataframe tbody tr th {\n",
              "        vertical-align: top;\n",
              "    }\n",
              "\n",
              "    .dataframe thead th {\n",
              "        text-align: right;\n",
              "    }\n",
              "</style>\n",
              "<table border=\"1\" class=\"dataframe\">\n",
              "  <thead>\n",
              "    <tr style=\"text-align: right;\">\n",
              "      <th></th>\n",
              "      <th>PatientId</th>\n",
              "      <th>AppointmentID</th>\n",
              "      <th>Gender</th>\n",
              "      <th>ScheduledDay</th>\n",
              "      <th>AppointmentDay</th>\n",
              "      <th>Age</th>\n",
              "      <th>Neighbourhood</th>\n",
              "      <th>Scholarship</th>\n",
              "      <th>Hipertension</th>\n",
              "      <th>Diabetes</th>\n",
              "      <th>Alcoholism</th>\n",
              "      <th>Handcap</th>\n",
              "      <th>SMS_received</th>\n",
              "      <th>No-show</th>\n",
              "    </tr>\n",
              "  </thead>\n",
              "  <tbody>\n",
              "    <tr>\n",
              "      <th>0</th>\n",
              "      <td>2.987250e+13</td>\n",
              "      <td>5642903</td>\n",
              "      <td>F</td>\n",
              "      <td>2016-04-29T18:38:08Z</td>\n",
              "      <td>2016-04-29T00:00:00Z</td>\n",
              "      <td>62</td>\n",
              "      <td>JARDIM DA PENHA</td>\n",
              "      <td>0</td>\n",
              "      <td>1</td>\n",
              "      <td>0</td>\n",
              "      <td>0</td>\n",
              "      <td>0</td>\n",
              "      <td>0</td>\n",
              "      <td>No</td>\n",
              "    </tr>\n",
              "    <tr>\n",
              "      <th>1</th>\n",
              "      <td>5.589978e+14</td>\n",
              "      <td>5642503</td>\n",
              "      <td>M</td>\n",
              "      <td>2016-04-29T16:08:27Z</td>\n",
              "      <td>2016-04-29T00:00:00Z</td>\n",
              "      <td>56</td>\n",
              "      <td>JARDIM DA PENHA</td>\n",
              "      <td>0</td>\n",
              "      <td>0</td>\n",
              "      <td>0</td>\n",
              "      <td>0</td>\n",
              "      <td>0</td>\n",
              "      <td>0</td>\n",
              "      <td>No</td>\n",
              "    </tr>\n",
              "    <tr>\n",
              "      <th>2</th>\n",
              "      <td>4.262962e+12</td>\n",
              "      <td>5642549</td>\n",
              "      <td>F</td>\n",
              "      <td>2016-04-29T16:19:04Z</td>\n",
              "      <td>2016-04-29T00:00:00Z</td>\n",
              "      <td>62</td>\n",
              "      <td>MATA DA PRAIA</td>\n",
              "      <td>0</td>\n",
              "      <td>0</td>\n",
              "      <td>0</td>\n",
              "      <td>0</td>\n",
              "      <td>0</td>\n",
              "      <td>0</td>\n",
              "      <td>No</td>\n",
              "    </tr>\n",
              "  </tbody>\n",
              "</table>\n",
              "</div>"
            ],
            "text/plain": [
              "      PatientId  AppointmentID Gender  ... Handcap SMS_received  No-show\n",
              "0  2.987250e+13        5642903      F  ...       0            0       No\n",
              "1  5.589978e+14        5642503      M  ...       0            0       No\n",
              "2  4.262962e+12        5642549      F  ...       0            0       No\n",
              "\n",
              "[3 rows x 14 columns]"
            ]
          },
          "metadata": {},
          "execution_count": 47
        }
      ]
    },
    {
      "cell_type": "code",
      "metadata": {
        "id": "EIN0WBsHbFep",
        "colab": {
          "base_uri": "https://localhost:8080/"
        },
        "outputId": "a58ebfbd-40ce-42f4-aadd-ee9c8a00349d"
      },
      "source": [
        "# Determining the size\n",
        "print(medical_df.shape)"
      ],
      "execution_count": null,
      "outputs": [
        {
          "output_type": "stream",
          "name": "stdout",
          "text": [
            "(110527, 14)\n"
          ]
        }
      ]
    },
    {
      "cell_type": "code",
      "metadata": {
        "id": "kOOVZrFxbFS4",
        "colab": {
          "base_uri": "https://localhost:8080/"
        },
        "outputId": "ea9bb67a-756e-4be5-b68e-6509d91f2217"
      },
      "source": [
        "# Previewing the dataset\n",
        "print(medical_df.head())"
      ],
      "execution_count": null,
      "outputs": [
        {
          "output_type": "stream",
          "name": "stdout",
          "text": [
            "      PatientId  AppointmentID Gender  ... Handcap SMS_received  No-show\n",
            "0  2.987250e+13        5642903      F  ...       0            0       No\n",
            "1  5.589978e+14        5642503      M  ...       0            0       No\n",
            "2  4.262962e+12        5642549      F  ...       0            0       No\n",
            "3  8.679512e+11        5642828      F  ...       0            0       No\n",
            "4  8.841186e+12        5642494      F  ...       0            0       No\n",
            "\n",
            "[5 rows x 14 columns]\n"
          ]
        }
      ]
    },
    {
      "cell_type": "code",
      "metadata": {
        "id": "7Y7EgDT1bNBa",
        "colab": {
          "base_uri": "https://localhost:8080/"
        },
        "outputId": "6e921b45-dc4d-45d1-e089-3cbc27828384"
      },
      "source": [
        "# Selecting the sample \n",
        "medical_sample = medical_df.sample(n = 10, replace=\"False\")\n",
        "print(medical_sample)"
      ],
      "execution_count": null,
      "outputs": [
        {
          "output_type": "stream",
          "name": "stdout",
          "text": [
            "          PatientId  AppointmentID Gender  ... Handcap SMS_received  No-show\n",
            "25574  5.883369e+14        5684538      M  ...       0            1       No\n",
            "43193  3.476624e+10        5692753      M  ...       0            0      Yes\n",
            "2754   6.597319e+12        5516717      M  ...       0            1      Yes\n",
            "76437  7.434455e+14        5655751      F  ...       0            0       No\n",
            "64384  2.145389e+13        5687858      F  ...       0            0       No\n",
            "82893  7.424723e+14        5594272      F  ...       0            0      Yes\n",
            "43013  4.111860e+14        5528668      F  ...       0            0      Yes\n",
            "15877  2.616696e+12        5684378      F  ...       0            0      Yes\n",
            "1541   3.979298e+11        5641196      F  ...       0            0      Yes\n",
            "14191  1.845411e+14        5754070      M  ...       0            0       No\n",
            "\n",
            "[10 rows x 14 columns]\n"
          ]
        }
      ]
    },
    {
      "cell_type": "markdown",
      "metadata": {
        "id": "8QVs13BcYJpm"
      },
      "source": [
        "### <font color=\"green\">6.0 Challenges </font>"
      ]
    },
    {
      "cell_type": "code",
      "metadata": {
        "id": "VZEi6JOnXJNt"
      },
      "source": [
        "# Challenge 1\n",
        "# ---\n",
        "# Select a random sample of 10 from the given dataset below \n",
        "# ---\n",
        "# Dataset url = http://bit.ly/DSRussianInvestigation"
      ],
      "execution_count": null,
      "outputs": []
    },
    {
      "cell_type": "code",
      "metadata": {
        "id": "rT-Ieiv9bgm6",
        "colab": {
          "base_uri": "https://localhost:8080/",
          "height": 200
        },
        "outputId": "534c666d-c920-4c13-bd1d-120434708118"
      },
      "source": [
        "# Loading the dataset\n",
        "Russian_df = pd.read_csv(\"http://bit.ly/DSRussianInvestigation\")\n",
        "Russian_df.head(5)"
      ],
      "execution_count": null,
      "outputs": [
        {
          "output_type": "execute_result",
          "data": {
            "text/html": [
              "<div>\n",
              "<style scoped>\n",
              "    .dataframe tbody tr th:only-of-type {\n",
              "        vertical-align: middle;\n",
              "    }\n",
              "\n",
              "    .dataframe tbody tr th {\n",
              "        vertical-align: top;\n",
              "    }\n",
              "\n",
              "    .dataframe thead th {\n",
              "        text-align: right;\n",
              "    }\n",
              "</style>\n",
              "<table border=\"1\" class=\"dataframe\">\n",
              "  <thead>\n",
              "    <tr style=\"text-align: right;\">\n",
              "      <th></th>\n",
              "      <th>investigation</th>\n",
              "      <th>investigation-start</th>\n",
              "      <th>investigation-end</th>\n",
              "      <th>investigation-days</th>\n",
              "      <th>name</th>\n",
              "      <th>indictment-days</th>\n",
              "      <th>type</th>\n",
              "      <th>cp-date</th>\n",
              "      <th>cp-days</th>\n",
              "      <th>overturned</th>\n",
              "      <th>pardoned</th>\n",
              "      <th>american</th>\n",
              "      <th>president</th>\n",
              "    </tr>\n",
              "  </thead>\n",
              "  <tbody>\n",
              "    <tr>\n",
              "      <th>0</th>\n",
              "      <td>watergate</td>\n",
              "      <td>1973-05-19</td>\n",
              "      <td>1977-06-19</td>\n",
              "      <td>1492</td>\n",
              "      <td>James W. McCord</td>\n",
              "      <td>-246.0</td>\n",
              "      <td>conviction</td>\n",
              "      <td>1973-01-30</td>\n",
              "      <td>-109.0</td>\n",
              "      <td>False</td>\n",
              "      <td>False</td>\n",
              "      <td>True</td>\n",
              "      <td>Richard Nixon</td>\n",
              "    </tr>\n",
              "    <tr>\n",
              "      <th>1</th>\n",
              "      <td>watergate</td>\n",
              "      <td>1973-05-19</td>\n",
              "      <td>1977-06-19</td>\n",
              "      <td>1492</td>\n",
              "      <td>Bernard L. Barker</td>\n",
              "      <td>-246.0</td>\n",
              "      <td>conviction</td>\n",
              "      <td>1973-01-15</td>\n",
              "      <td>-124.0</td>\n",
              "      <td>False</td>\n",
              "      <td>False</td>\n",
              "      <td>True</td>\n",
              "      <td>Richard Nixon</td>\n",
              "    </tr>\n",
              "    <tr>\n",
              "      <th>2</th>\n",
              "      <td>watergate</td>\n",
              "      <td>1973-05-19</td>\n",
              "      <td>1977-06-19</td>\n",
              "      <td>1492</td>\n",
              "      <td>Bernard L. Barker</td>\n",
              "      <td>292.0</td>\n",
              "      <td>conviction</td>\n",
              "      <td>1974-07-12</td>\n",
              "      <td>419.0</td>\n",
              "      <td>True</td>\n",
              "      <td>False</td>\n",
              "      <td>True</td>\n",
              "      <td>Richard Nixon</td>\n",
              "    </tr>\n",
              "    <tr>\n",
              "      <th>3</th>\n",
              "      <td>watergate</td>\n",
              "      <td>1973-05-19</td>\n",
              "      <td>1977-06-19</td>\n",
              "      <td>1492</td>\n",
              "      <td>Eugenio R. Martinez</td>\n",
              "      <td>-246.0</td>\n",
              "      <td>guilty-plea</td>\n",
              "      <td>1973-01-15</td>\n",
              "      <td>-124.0</td>\n",
              "      <td>False</td>\n",
              "      <td>True</td>\n",
              "      <td>True</td>\n",
              "      <td>Richard Nixon</td>\n",
              "    </tr>\n",
              "    <tr>\n",
              "      <th>4</th>\n",
              "      <td>watergate</td>\n",
              "      <td>1973-05-19</td>\n",
              "      <td>1977-06-19</td>\n",
              "      <td>1492</td>\n",
              "      <td>Eugenio R. Martinez</td>\n",
              "      <td>292.0</td>\n",
              "      <td>conviction</td>\n",
              "      <td>1974-07-12</td>\n",
              "      <td>419.0</td>\n",
              "      <td>True</td>\n",
              "      <td>False</td>\n",
              "      <td>True</td>\n",
              "      <td>Richard Nixon</td>\n",
              "    </tr>\n",
              "  </tbody>\n",
              "</table>\n",
              "</div>"
            ],
            "text/plain": [
              "  investigation investigation-start  ... american      president\n",
              "0     watergate          1973-05-19  ...     True  Richard Nixon\n",
              "1     watergate          1973-05-19  ...     True  Richard Nixon\n",
              "2     watergate          1973-05-19  ...     True  Richard Nixon\n",
              "3     watergate          1973-05-19  ...     True  Richard Nixon\n",
              "4     watergate          1973-05-19  ...     True  Richard Nixon\n",
              "\n",
              "[5 rows x 13 columns]"
            ]
          },
          "metadata": {},
          "execution_count": 51
        }
      ]
    },
    {
      "cell_type": "code",
      "metadata": {
        "id": "7b7zYKeGbgkF",
        "colab": {
          "base_uri": "https://localhost:8080/"
        },
        "outputId": "67f512b3-6f38-472f-f1df-38e260d2df7f"
      },
      "source": [
        "# Determining the size\n",
        "print(Russian_df.shape)"
      ],
      "execution_count": null,
      "outputs": [
        {
          "output_type": "stream",
          "name": "stdout",
          "text": [
            "(194, 13)\n"
          ]
        }
      ]
    },
    {
      "cell_type": "code",
      "metadata": {
        "id": "pFDkaakObggL",
        "colab": {
          "base_uri": "https://localhost:8080/"
        },
        "outputId": "790a899f-12b7-4857-ed02-24733a1c5d23"
      },
      "source": [
        "# Previewing the dataset\n",
        "print(Russian_df.head())"
      ],
      "execution_count": null,
      "outputs": [
        {
          "output_type": "stream",
          "name": "stdout",
          "text": [
            "  investigation investigation-start  ... american      president\n",
            "0     watergate          1973-05-19  ...     True  Richard Nixon\n",
            "1     watergate          1973-05-19  ...     True  Richard Nixon\n",
            "2     watergate          1973-05-19  ...     True  Richard Nixon\n",
            "3     watergate          1973-05-19  ...     True  Richard Nixon\n",
            "4     watergate          1973-05-19  ...     True  Richard Nixon\n",
            "\n",
            "[5 rows x 13 columns]\n"
          ]
        }
      ]
    },
    {
      "cell_type": "code",
      "metadata": {
        "id": "TwD8a9GPbgcQ",
        "colab": {
          "base_uri": "https://localhost:8080/"
        },
        "outputId": "98255b18-6f07-4b92-e9c7-4ed489664f00"
      },
      "source": [
        "# Selecting the sample \n",
        "\n",
        "Russian_Investigation = Russian_df.sample(n = 10, replace = \"False\")\n",
        "print(Russian_Investigation)\n"
      ],
      "execution_count": null,
      "outputs": [
        {
          "output_type": "stream",
          "name": "stdout",
          "text": [
            "    investigation investigation-start  ... american         president\n",
            "84    iran-contra          1986-12-19  ...     True     Ronald Reagan\n",
            "87    iran-contra          1986-12-19  ...     True     Ronald Reagan\n",
            "39      watergate          1973-05-19  ...     True     Richard Nixon\n",
            "80    iran-contra          1986-12-19  ...     True     Ronald Reagan\n",
            "183        russia          2017-05-17  ...    False      Donald Trump\n",
            "50      watergate          1973-05-19  ...     True     Richard Nixon\n",
            "83    iran-contra          1986-12-19  ...     True     Ronald Reagan\n",
            "112        pierce          1990-03-01  ...     True  George H.W. Bush\n",
            "53      watergate          1973-05-19  ...     True     Richard Nixon\n",
            "99         pierce          1990-03-01  ...     True  George H.W. Bush\n",
            "\n",
            "[10 rows x 13 columns]\n"
          ]
        }
      ]
    },
    {
      "cell_type": "code",
      "metadata": {
        "id": "WZgm88i7YTRf",
        "colab": {
          "base_uri": "https://localhost:8080/",
          "height": 138
        },
        "outputId": "e41220af-9f67-40a2-d6d4-ef499100caf6"
      },
      "source": [
        "# Challenge 2\n",
        "# ---\n",
        "# A medical company would like to follow up with 50 patients who never showed up for appointments \n",
        "# but received an sms. Select a random sample from such patients given the medical dataset below \n",
        "# ---\n",
        "# Dataset url = http://bit.ly/MedicalAppointmentsDataset\n",
        "\n",
        "Appointments = pd.read_csv(\"http://bit.ly/MedicalAppointmentsDataset\")\n",
        "Appointments.head(3)"
      ],
      "execution_count": null,
      "outputs": [
        {
          "output_type": "execute_result",
          "data": {
            "text/html": [
              "<div>\n",
              "<style scoped>\n",
              "    .dataframe tbody tr th:only-of-type {\n",
              "        vertical-align: middle;\n",
              "    }\n",
              "\n",
              "    .dataframe tbody tr th {\n",
              "        vertical-align: top;\n",
              "    }\n",
              "\n",
              "    .dataframe thead th {\n",
              "        text-align: right;\n",
              "    }\n",
              "</style>\n",
              "<table border=\"1\" class=\"dataframe\">\n",
              "  <thead>\n",
              "    <tr style=\"text-align: right;\">\n",
              "      <th></th>\n",
              "      <th>PatientId</th>\n",
              "      <th>AppointmentID</th>\n",
              "      <th>Gender</th>\n",
              "      <th>ScheduledDay</th>\n",
              "      <th>AppointmentDay</th>\n",
              "      <th>Age</th>\n",
              "      <th>Neighbourhood</th>\n",
              "      <th>Scholarship</th>\n",
              "      <th>Hipertension</th>\n",
              "      <th>Diabetes</th>\n",
              "      <th>Alcoholism</th>\n",
              "      <th>Handcap</th>\n",
              "      <th>SMS_received</th>\n",
              "      <th>No-show</th>\n",
              "    </tr>\n",
              "  </thead>\n",
              "  <tbody>\n",
              "    <tr>\n",
              "      <th>0</th>\n",
              "      <td>2.987250e+13</td>\n",
              "      <td>5642903</td>\n",
              "      <td>F</td>\n",
              "      <td>2016-04-29T18:38:08Z</td>\n",
              "      <td>2016-04-29T00:00:00Z</td>\n",
              "      <td>62</td>\n",
              "      <td>JARDIM DA PENHA</td>\n",
              "      <td>0</td>\n",
              "      <td>1</td>\n",
              "      <td>0</td>\n",
              "      <td>0</td>\n",
              "      <td>0</td>\n",
              "      <td>0</td>\n",
              "      <td>No</td>\n",
              "    </tr>\n",
              "    <tr>\n",
              "      <th>1</th>\n",
              "      <td>5.589978e+14</td>\n",
              "      <td>5642503</td>\n",
              "      <td>M</td>\n",
              "      <td>2016-04-29T16:08:27Z</td>\n",
              "      <td>2016-04-29T00:00:00Z</td>\n",
              "      <td>56</td>\n",
              "      <td>JARDIM DA PENHA</td>\n",
              "      <td>0</td>\n",
              "      <td>0</td>\n",
              "      <td>0</td>\n",
              "      <td>0</td>\n",
              "      <td>0</td>\n",
              "      <td>0</td>\n",
              "      <td>No</td>\n",
              "    </tr>\n",
              "    <tr>\n",
              "      <th>2</th>\n",
              "      <td>4.262962e+12</td>\n",
              "      <td>5642549</td>\n",
              "      <td>F</td>\n",
              "      <td>2016-04-29T16:19:04Z</td>\n",
              "      <td>2016-04-29T00:00:00Z</td>\n",
              "      <td>62</td>\n",
              "      <td>MATA DA PRAIA</td>\n",
              "      <td>0</td>\n",
              "      <td>0</td>\n",
              "      <td>0</td>\n",
              "      <td>0</td>\n",
              "      <td>0</td>\n",
              "      <td>0</td>\n",
              "      <td>No</td>\n",
              "    </tr>\n",
              "  </tbody>\n",
              "</table>\n",
              "</div>"
            ],
            "text/plain": [
              "      PatientId  AppointmentID Gender  ... Handcap SMS_received  No-show\n",
              "0  2.987250e+13        5642903      F  ...       0            0       No\n",
              "1  5.589978e+14        5642503      M  ...       0            0       No\n",
              "2  4.262962e+12        5642549      F  ...       0            0       No\n",
              "\n",
              "[3 rows x 14 columns]"
            ]
          },
          "metadata": {},
          "execution_count": 58
        }
      ]
    },
    {
      "cell_type": "code",
      "metadata": {
        "id": "VNetZacXc1eF",
        "colab": {
          "base_uri": "https://localhost:8080/"
        },
        "outputId": "8fddbecf-5512-4743-b56a-127bd1ef534c"
      },
      "source": [
        "# Determining the size\n",
        "print(Appointments.shape)"
      ],
      "execution_count": null,
      "outputs": [
        {
          "output_type": "stream",
          "name": "stdout",
          "text": [
            "(110527, 14)\n"
          ]
        }
      ]
    },
    {
      "cell_type": "code",
      "metadata": {
        "id": "Ty8qdnS2c31y",
        "colab": {
          "base_uri": "https://localhost:8080/"
        },
        "outputId": "07556a47-6a1c-4e9f-fe72-ef5a1f4320d0"
      },
      "source": [
        "# Previewing the dataset\n",
        "print(Appointments.head())"
      ],
      "execution_count": null,
      "outputs": [
        {
          "output_type": "stream",
          "name": "stdout",
          "text": [
            "      PatientId  AppointmentID Gender  ... Handcap SMS_received  No-show\n",
            "0  2.987250e+13        5642903      F  ...       0            0       No\n",
            "1  5.589978e+14        5642503      M  ...       0            0       No\n",
            "2  4.262962e+12        5642549      F  ...       0            0       No\n",
            "3  8.679512e+11        5642828      F  ...       0            0       No\n",
            "4  8.841186e+12        5642494      F  ...       0            0       No\n",
            "\n",
            "[5 rows x 14 columns]\n"
          ]
        }
      ]
    },
    {
      "cell_type": "code",
      "metadata": {
        "id": "dAGVOn0gc761",
        "colab": {
          "base_uri": "https://localhost:8080/",
          "height": 1000
        },
        "outputId": "80cc8109-80f1-4f6c-cda5-658eccd37549"
      },
      "source": [
        "# Finding the sample\n",
        "\n",
        "Medical_Appointments = Appointments.sample(n = 50, replace = \"False\")\n",
        "Medical_Appointments"
      ],
      "execution_count": null,
      "outputs": [
        {
          "output_type": "execute_result",
          "data": {
            "text/html": [
              "<div>\n",
              "<style scoped>\n",
              "    .dataframe tbody tr th:only-of-type {\n",
              "        vertical-align: middle;\n",
              "    }\n",
              "\n",
              "    .dataframe tbody tr th {\n",
              "        vertical-align: top;\n",
              "    }\n",
              "\n",
              "    .dataframe thead th {\n",
              "        text-align: right;\n",
              "    }\n",
              "</style>\n",
              "<table border=\"1\" class=\"dataframe\">\n",
              "  <thead>\n",
              "    <tr style=\"text-align: right;\">\n",
              "      <th></th>\n",
              "      <th>PatientId</th>\n",
              "      <th>AppointmentID</th>\n",
              "      <th>Gender</th>\n",
              "      <th>ScheduledDay</th>\n",
              "      <th>AppointmentDay</th>\n",
              "      <th>Age</th>\n",
              "      <th>Neighbourhood</th>\n",
              "      <th>Scholarship</th>\n",
              "      <th>Hipertension</th>\n",
              "      <th>Diabetes</th>\n",
              "      <th>Alcoholism</th>\n",
              "      <th>Handcap</th>\n",
              "      <th>SMS_received</th>\n",
              "      <th>No-show</th>\n",
              "    </tr>\n",
              "  </thead>\n",
              "  <tbody>\n",
              "    <tr>\n",
              "      <th>89425</th>\n",
              "      <td>4.912537e+13</td>\n",
              "      <td>5779653</td>\n",
              "      <td>M</td>\n",
              "      <td>2016-06-07T07:10:19Z</td>\n",
              "      <td>2016-06-07T00:00:00Z</td>\n",
              "      <td>56</td>\n",
              "      <td>NOVA PALESTINA</td>\n",
              "      <td>0</td>\n",
              "      <td>1</td>\n",
              "      <td>1</td>\n",
              "      <td>0</td>\n",
              "      <td>0</td>\n",
              "      <td>0</td>\n",
              "      <td>No</td>\n",
              "    </tr>\n",
              "    <tr>\n",
              "      <th>98004</th>\n",
              "      <td>6.668787e+13</td>\n",
              "      <td>5645966</td>\n",
              "      <td>F</td>\n",
              "      <td>2016-05-02T10:39:23Z</td>\n",
              "      <td>2016-06-06T00:00:00Z</td>\n",
              "      <td>17</td>\n",
              "      <td>MARUÍPE</td>\n",
              "      <td>0</td>\n",
              "      <td>0</td>\n",
              "      <td>0</td>\n",
              "      <td>0</td>\n",
              "      <td>0</td>\n",
              "      <td>1</td>\n",
              "      <td>No</td>\n",
              "    </tr>\n",
              "    <tr>\n",
              "      <th>33978</th>\n",
              "      <td>1.484611e+13</td>\n",
              "      <td>5635244</td>\n",
              "      <td>F</td>\n",
              "      <td>2016-04-28T13:01:16Z</td>\n",
              "      <td>2016-05-10T00:00:00Z</td>\n",
              "      <td>43</td>\n",
              "      <td>GURIGICA</td>\n",
              "      <td>0</td>\n",
              "      <td>0</td>\n",
              "      <td>0</td>\n",
              "      <td>0</td>\n",
              "      <td>0</td>\n",
              "      <td>1</td>\n",
              "      <td>No</td>\n",
              "    </tr>\n",
              "    <tr>\n",
              "      <th>21998</th>\n",
              "      <td>8.644573e+14</td>\n",
              "      <td>5709306</td>\n",
              "      <td>F</td>\n",
              "      <td>2016-05-17T13:28:20Z</td>\n",
              "      <td>2016-05-17T00:00:00Z</td>\n",
              "      <td>84</td>\n",
              "      <td>VILA RUBIM</td>\n",
              "      <td>0</td>\n",
              "      <td>1</td>\n",
              "      <td>0</td>\n",
              "      <td>0</td>\n",
              "      <td>0</td>\n",
              "      <td>0</td>\n",
              "      <td>No</td>\n",
              "    </tr>\n",
              "    <tr>\n",
              "      <th>99068</th>\n",
              "      <td>8.765746e+14</td>\n",
              "      <td>5770123</td>\n",
              "      <td>F</td>\n",
              "      <td>2016-06-03T09:46:22Z</td>\n",
              "      <td>2016-06-06T00:00:00Z</td>\n",
              "      <td>21</td>\n",
              "      <td>DA PENHA</td>\n",
              "      <td>0</td>\n",
              "      <td>0</td>\n",
              "      <td>0</td>\n",
              "      <td>0</td>\n",
              "      <td>0</td>\n",
              "      <td>1</td>\n",
              "      <td>No</td>\n",
              "    </tr>\n",
              "    <tr>\n",
              "      <th>44407</th>\n",
              "      <td>2.153462e+13</td>\n",
              "      <td>5639991</td>\n",
              "      <td>F</td>\n",
              "      <td>2016-04-29T09:56:52Z</td>\n",
              "      <td>2016-05-17T00:00:00Z</td>\n",
              "      <td>27</td>\n",
              "      <td>JABOUR</td>\n",
              "      <td>1</td>\n",
              "      <td>0</td>\n",
              "      <td>0</td>\n",
              "      <td>0</td>\n",
              "      <td>0</td>\n",
              "      <td>0</td>\n",
              "      <td>Yes</td>\n",
              "    </tr>\n",
              "    <tr>\n",
              "      <th>52241</th>\n",
              "      <td>2.141687e+13</td>\n",
              "      <td>5708529</td>\n",
              "      <td>M</td>\n",
              "      <td>2016-05-17T11:26:06Z</td>\n",
              "      <td>2016-05-19T00:00:00Z</td>\n",
              "      <td>68</td>\n",
              "      <td>CONQUISTA</td>\n",
              "      <td>0</td>\n",
              "      <td>1</td>\n",
              "      <td>0</td>\n",
              "      <td>1</td>\n",
              "      <td>0</td>\n",
              "      <td>0</td>\n",
              "      <td>No</td>\n",
              "    </tr>\n",
              "    <tr>\n",
              "      <th>26512</th>\n",
              "      <td>8.231720e+12</td>\n",
              "      <td>5664364</td>\n",
              "      <td>F</td>\n",
              "      <td>2016-05-05T12:01:51Z</td>\n",
              "      <td>2016-05-13T00:00:00Z</td>\n",
              "      <td>42</td>\n",
              "      <td>SÃO PEDRO</td>\n",
              "      <td>0</td>\n",
              "      <td>0</td>\n",
              "      <td>0</td>\n",
              "      <td>0</td>\n",
              "      <td>0</td>\n",
              "      <td>0</td>\n",
              "      <td>No</td>\n",
              "    </tr>\n",
              "    <tr>\n",
              "      <th>32470</th>\n",
              "      <td>9.458741e+14</td>\n",
              "      <td>5598194</td>\n",
              "      <td>F</td>\n",
              "      <td>2016-04-19T07:20:42Z</td>\n",
              "      <td>2016-05-02T00:00:00Z</td>\n",
              "      <td>60</td>\n",
              "      <td>JABOUR</td>\n",
              "      <td>0</td>\n",
              "      <td>0</td>\n",
              "      <td>0</td>\n",
              "      <td>0</td>\n",
              "      <td>0</td>\n",
              "      <td>1</td>\n",
              "      <td>No</td>\n",
              "    </tr>\n",
              "    <tr>\n",
              "      <th>18826</th>\n",
              "      <td>1.819924e+13</td>\n",
              "      <td>5703880</td>\n",
              "      <td>F</td>\n",
              "      <td>2016-05-16T14:38:37Z</td>\n",
              "      <td>2016-05-19T00:00:00Z</td>\n",
              "      <td>18</td>\n",
              "      <td>FORTE SÃO JOÃO</td>\n",
              "      <td>0</td>\n",
              "      <td>0</td>\n",
              "      <td>0</td>\n",
              "      <td>0</td>\n",
              "      <td>0</td>\n",
              "      <td>0</td>\n",
              "      <td>Yes</td>\n",
              "    </tr>\n",
              "    <tr>\n",
              "      <th>81517</th>\n",
              "      <td>3.891146e+13</td>\n",
              "      <td>5603263</td>\n",
              "      <td>F</td>\n",
              "      <td>2016-04-19T17:35:59Z</td>\n",
              "      <td>2016-05-05T00:00:00Z</td>\n",
              "      <td>56</td>\n",
              "      <td>JABOUR</td>\n",
              "      <td>0</td>\n",
              "      <td>0</td>\n",
              "      <td>0</td>\n",
              "      <td>0</td>\n",
              "      <td>0</td>\n",
              "      <td>1</td>\n",
              "      <td>No</td>\n",
              "    </tr>\n",
              "    <tr>\n",
              "      <th>32446</th>\n",
              "      <td>6.827596e+13</td>\n",
              "      <td>5682315</td>\n",
              "      <td>F</td>\n",
              "      <td>2016-05-10T16:14:52Z</td>\n",
              "      <td>2016-05-13T00:00:00Z</td>\n",
              "      <td>29</td>\n",
              "      <td>JABOUR</td>\n",
              "      <td>0</td>\n",
              "      <td>0</td>\n",
              "      <td>0</td>\n",
              "      <td>0</td>\n",
              "      <td>0</td>\n",
              "      <td>0</td>\n",
              "      <td>No</td>\n",
              "    </tr>\n",
              "    <tr>\n",
              "      <th>84634</th>\n",
              "      <td>5.355689e+13</td>\n",
              "      <td>5761430</td>\n",
              "      <td>F</td>\n",
              "      <td>2016-06-01T17:54:53Z</td>\n",
              "      <td>2016-06-01T00:00:00Z</td>\n",
              "      <td>64</td>\n",
              "      <td>SOLON BORGES</td>\n",
              "      <td>0</td>\n",
              "      <td>0</td>\n",
              "      <td>0</td>\n",
              "      <td>0</td>\n",
              "      <td>0</td>\n",
              "      <td>0</td>\n",
              "      <td>No</td>\n",
              "    </tr>\n",
              "    <tr>\n",
              "      <th>56179</th>\n",
              "      <td>5.714997e+14</td>\n",
              "      <td>5712897</td>\n",
              "      <td>F</td>\n",
              "      <td>2016-05-18T09:26:57Z</td>\n",
              "      <td>2016-05-18T00:00:00Z</td>\n",
              "      <td>56</td>\n",
              "      <td>REPÚBLICA</td>\n",
              "      <td>0</td>\n",
              "      <td>0</td>\n",
              "      <td>0</td>\n",
              "      <td>0</td>\n",
              "      <td>0</td>\n",
              "      <td>0</td>\n",
              "      <td>No</td>\n",
              "    </tr>\n",
              "    <tr>\n",
              "      <th>66805</th>\n",
              "      <td>2.714365e+14</td>\n",
              "      <td>5671550</td>\n",
              "      <td>M</td>\n",
              "      <td>2016-05-06T18:14:34Z</td>\n",
              "      <td>2016-05-06T00:00:00Z</td>\n",
              "      <td>59</td>\n",
              "      <td>JARDIM CAMBURI</td>\n",
              "      <td>0</td>\n",
              "      <td>0</td>\n",
              "      <td>0</td>\n",
              "      <td>0</td>\n",
              "      <td>0</td>\n",
              "      <td>0</td>\n",
              "      <td>No</td>\n",
              "    </tr>\n",
              "    <tr>\n",
              "      <th>48329</th>\n",
              "      <td>4.323282e+14</td>\n",
              "      <td>5632286</td>\n",
              "      <td>F</td>\n",
              "      <td>2016-04-28T07:50:36Z</td>\n",
              "      <td>2016-05-18T00:00:00Z</td>\n",
              "      <td>2</td>\n",
              "      <td>PIEDADE</td>\n",
              "      <td>1</td>\n",
              "      <td>0</td>\n",
              "      <td>0</td>\n",
              "      <td>0</td>\n",
              "      <td>0</td>\n",
              "      <td>0</td>\n",
              "      <td>No</td>\n",
              "    </tr>\n",
              "    <tr>\n",
              "      <th>42571</th>\n",
              "      <td>8.611562e+14</td>\n",
              "      <td>5706226</td>\n",
              "      <td>F</td>\n",
              "      <td>2016-05-17T08:01:09Z</td>\n",
              "      <td>2016-05-31T00:00:00Z</td>\n",
              "      <td>17</td>\n",
              "      <td>JABOUR</td>\n",
              "      <td>0</td>\n",
              "      <td>0</td>\n",
              "      <td>0</td>\n",
              "      <td>0</td>\n",
              "      <td>0</td>\n",
              "      <td>1</td>\n",
              "      <td>No</td>\n",
              "    </tr>\n",
              "    <tr>\n",
              "      <th>44054</th>\n",
              "      <td>4.887834e+14</td>\n",
              "      <td>5667850</td>\n",
              "      <td>M</td>\n",
              "      <td>2016-05-06T08:11:20Z</td>\n",
              "      <td>2016-05-10T00:00:00Z</td>\n",
              "      <td>0</td>\n",
              "      <td>GURIGICA</td>\n",
              "      <td>0</td>\n",
              "      <td>0</td>\n",
              "      <td>0</td>\n",
              "      <td>0</td>\n",
              "      <td>0</td>\n",
              "      <td>0</td>\n",
              "      <td>No</td>\n",
              "    </tr>\n",
              "    <tr>\n",
              "      <th>86668</th>\n",
              "      <td>3.723555e+14</td>\n",
              "      <td>5750573</td>\n",
              "      <td>F</td>\n",
              "      <td>2016-05-31T09:01:54Z</td>\n",
              "      <td>2016-06-08T00:00:00Z</td>\n",
              "      <td>60</td>\n",
              "      <td>DA PENHA</td>\n",
              "      <td>0</td>\n",
              "      <td>1</td>\n",
              "      <td>0</td>\n",
              "      <td>0</td>\n",
              "      <td>0</td>\n",
              "      <td>1</td>\n",
              "      <td>No</td>\n",
              "    </tr>\n",
              "    <tr>\n",
              "      <th>2</th>\n",
              "      <td>4.262962e+12</td>\n",
              "      <td>5642549</td>\n",
              "      <td>F</td>\n",
              "      <td>2016-04-29T16:19:04Z</td>\n",
              "      <td>2016-04-29T00:00:00Z</td>\n",
              "      <td>62</td>\n",
              "      <td>MATA DA PRAIA</td>\n",
              "      <td>0</td>\n",
              "      <td>0</td>\n",
              "      <td>0</td>\n",
              "      <td>0</td>\n",
              "      <td>0</td>\n",
              "      <td>0</td>\n",
              "      <td>No</td>\n",
              "    </tr>\n",
              "    <tr>\n",
              "      <th>47823</th>\n",
              "      <td>4.944228e+11</td>\n",
              "      <td>5661954</td>\n",
              "      <td>M</td>\n",
              "      <td>2016-05-05T07:57:19Z</td>\n",
              "      <td>2016-05-05T00:00:00Z</td>\n",
              "      <td>11</td>\n",
              "      <td>MARUÍPE</td>\n",
              "      <td>0</td>\n",
              "      <td>0</td>\n",
              "      <td>0</td>\n",
              "      <td>0</td>\n",
              "      <td>0</td>\n",
              "      <td>0</td>\n",
              "      <td>No</td>\n",
              "    </tr>\n",
              "    <tr>\n",
              "      <th>74230</th>\n",
              "      <td>2.685859e+13</td>\n",
              "      <td>5668339</td>\n",
              "      <td>F</td>\n",
              "      <td>2016-05-06T08:53:06Z</td>\n",
              "      <td>2016-05-06T00:00:00Z</td>\n",
              "      <td>57</td>\n",
              "      <td>BONFIM</td>\n",
              "      <td>0</td>\n",
              "      <td>1</td>\n",
              "      <td>0</td>\n",
              "      <td>1</td>\n",
              "      <td>0</td>\n",
              "      <td>0</td>\n",
              "      <td>No</td>\n",
              "    </tr>\n",
              "    <tr>\n",
              "      <th>63798</th>\n",
              "      <td>1.231725e+11</td>\n",
              "      <td>5670400</td>\n",
              "      <td>M</td>\n",
              "      <td>2016-05-06T13:44:56Z</td>\n",
              "      <td>2016-05-09T00:00:00Z</td>\n",
              "      <td>20</td>\n",
              "      <td>BELA VISTA</td>\n",
              "      <td>0</td>\n",
              "      <td>0</td>\n",
              "      <td>0</td>\n",
              "      <td>0</td>\n",
              "      <td>0</td>\n",
              "      <td>0</td>\n",
              "      <td>No</td>\n",
              "    </tr>\n",
              "    <tr>\n",
              "      <th>78787</th>\n",
              "      <td>1.626932e+14</td>\n",
              "      <td>5602487</td>\n",
              "      <td>F</td>\n",
              "      <td>2016-04-19T15:00:21Z</td>\n",
              "      <td>2016-05-24T00:00:00Z</td>\n",
              "      <td>40</td>\n",
              "      <td>JARDIM CAMBURI</td>\n",
              "      <td>0</td>\n",
              "      <td>0</td>\n",
              "      <td>0</td>\n",
              "      <td>0</td>\n",
              "      <td>0</td>\n",
              "      <td>1</td>\n",
              "      <td>No</td>\n",
              "    </tr>\n",
              "    <tr>\n",
              "      <th>81409</th>\n",
              "      <td>7.232866e+13</td>\n",
              "      <td>5751196</td>\n",
              "      <td>M</td>\n",
              "      <td>2016-05-31T09:49:31Z</td>\n",
              "      <td>2016-05-31T00:00:00Z</td>\n",
              "      <td>34</td>\n",
              "      <td>BONFIM</td>\n",
              "      <td>0</td>\n",
              "      <td>0</td>\n",
              "      <td>0</td>\n",
              "      <td>0</td>\n",
              "      <td>0</td>\n",
              "      <td>0</td>\n",
              "      <td>No</td>\n",
              "    </tr>\n",
              "    <tr>\n",
              "      <th>104417</th>\n",
              "      <td>9.366588e+14</td>\n",
              "      <td>5779537</td>\n",
              "      <td>M</td>\n",
              "      <td>2016-06-07T07:04:25Z</td>\n",
              "      <td>2016-06-07T00:00:00Z</td>\n",
              "      <td>5</td>\n",
              "      <td>GURIGICA</td>\n",
              "      <td>1</td>\n",
              "      <td>0</td>\n",
              "      <td>0</td>\n",
              "      <td>0</td>\n",
              "      <td>0</td>\n",
              "      <td>0</td>\n",
              "      <td>No</td>\n",
              "    </tr>\n",
              "    <tr>\n",
              "      <th>51824</th>\n",
              "      <td>7.427843e+14</td>\n",
              "      <td>5717335</td>\n",
              "      <td>M</td>\n",
              "      <td>2016-05-19T07:51:43Z</td>\n",
              "      <td>2016-05-20T00:00:00Z</td>\n",
              "      <td>20</td>\n",
              "      <td>ILHA DO PRÍNCIPE</td>\n",
              "      <td>0</td>\n",
              "      <td>0</td>\n",
              "      <td>0</td>\n",
              "      <td>0</td>\n",
              "      <td>0</td>\n",
              "      <td>0</td>\n",
              "      <td>Yes</td>\n",
              "    </tr>\n",
              "    <tr>\n",
              "      <th>10135</th>\n",
              "      <td>3.965613e+12</td>\n",
              "      <td>5719717</td>\n",
              "      <td>F</td>\n",
              "      <td>2016-05-19T11:53:14Z</td>\n",
              "      <td>2016-05-19T00:00:00Z</td>\n",
              "      <td>22</td>\n",
              "      <td>FORTE SÃO JOÃO</td>\n",
              "      <td>0</td>\n",
              "      <td>0</td>\n",
              "      <td>0</td>\n",
              "      <td>0</td>\n",
              "      <td>0</td>\n",
              "      <td>0</td>\n",
              "      <td>No</td>\n",
              "    </tr>\n",
              "    <tr>\n",
              "      <th>24330</th>\n",
              "      <td>1.893995e+13</td>\n",
              "      <td>5592268</td>\n",
              "      <td>M</td>\n",
              "      <td>2016-04-18T07:49:01Z</td>\n",
              "      <td>2016-05-12T00:00:00Z</td>\n",
              "      <td>22</td>\n",
              "      <td>SANTO ANDRÉ</td>\n",
              "      <td>0</td>\n",
              "      <td>0</td>\n",
              "      <td>0</td>\n",
              "      <td>0</td>\n",
              "      <td>0</td>\n",
              "      <td>1</td>\n",
              "      <td>No</td>\n",
              "    </tr>\n",
              "    <tr>\n",
              "      <th>17548</th>\n",
              "      <td>3.922749e+12</td>\n",
              "      <td>5723581</td>\n",
              "      <td>F</td>\n",
              "      <td>2016-05-20T08:24:17Z</td>\n",
              "      <td>2016-05-20T00:00:00Z</td>\n",
              "      <td>10</td>\n",
              "      <td>REDENÇÃO</td>\n",
              "      <td>0</td>\n",
              "      <td>0</td>\n",
              "      <td>0</td>\n",
              "      <td>0</td>\n",
              "      <td>0</td>\n",
              "      <td>0</td>\n",
              "      <td>No</td>\n",
              "    </tr>\n",
              "    <tr>\n",
              "      <th>21358</th>\n",
              "      <td>3.491332e+13</td>\n",
              "      <td>5739046</td>\n",
              "      <td>F</td>\n",
              "      <td>2016-05-25T12:21:43Z</td>\n",
              "      <td>2016-05-31T00:00:00Z</td>\n",
              "      <td>68</td>\n",
              "      <td>RESISTÊNCIA</td>\n",
              "      <td>0</td>\n",
              "      <td>1</td>\n",
              "      <td>0</td>\n",
              "      <td>0</td>\n",
              "      <td>0</td>\n",
              "      <td>1</td>\n",
              "      <td>No</td>\n",
              "    </tr>\n",
              "    <tr>\n",
              "      <th>71036</th>\n",
              "      <td>8.458184e+13</td>\n",
              "      <td>5667710</td>\n",
              "      <td>M</td>\n",
              "      <td>2016-05-06T08:03:58Z</td>\n",
              "      <td>2016-05-06T00:00:00Z</td>\n",
              "      <td>46</td>\n",
              "      <td>FONTE GRANDE</td>\n",
              "      <td>0</td>\n",
              "      <td>0</td>\n",
              "      <td>1</td>\n",
              "      <td>1</td>\n",
              "      <td>0</td>\n",
              "      <td>0</td>\n",
              "      <td>No</td>\n",
              "    </tr>\n",
              "    <tr>\n",
              "      <th>64347</th>\n",
              "      <td>4.139345e+12</td>\n",
              "      <td>5687796</td>\n",
              "      <td>F</td>\n",
              "      <td>2016-05-11T16:40:39Z</td>\n",
              "      <td>2016-05-16T00:00:00Z</td>\n",
              "      <td>19</td>\n",
              "      <td>JARDIM CAMBURI</td>\n",
              "      <td>0</td>\n",
              "      <td>0</td>\n",
              "      <td>0</td>\n",
              "      <td>0</td>\n",
              "      <td>0</td>\n",
              "      <td>0</td>\n",
              "      <td>Yes</td>\n",
              "    </tr>\n",
              "    <tr>\n",
              "      <th>99952</th>\n",
              "      <td>2.963966e+11</td>\n",
              "      <td>5735968</td>\n",
              "      <td>F</td>\n",
              "      <td>2016-05-25T07:46:18Z</td>\n",
              "      <td>2016-06-03T00:00:00Z</td>\n",
              "      <td>40</td>\n",
              "      <td>RESISTÊNCIA</td>\n",
              "      <td>0</td>\n",
              "      <td>0</td>\n",
              "      <td>0</td>\n",
              "      <td>0</td>\n",
              "      <td>0</td>\n",
              "      <td>1</td>\n",
              "      <td>No</td>\n",
              "    </tr>\n",
              "    <tr>\n",
              "      <th>31592</th>\n",
              "      <td>1.315567e+14</td>\n",
              "      <td>5540451</td>\n",
              "      <td>F</td>\n",
              "      <td>2016-04-05T07:04:10Z</td>\n",
              "      <td>2016-05-02T00:00:00Z</td>\n",
              "      <td>17</td>\n",
              "      <td>SANTA TEREZA</td>\n",
              "      <td>0</td>\n",
              "      <td>0</td>\n",
              "      <td>0</td>\n",
              "      <td>0</td>\n",
              "      <td>0</td>\n",
              "      <td>1</td>\n",
              "      <td>Yes</td>\n",
              "    </tr>\n",
              "    <tr>\n",
              "      <th>72045</th>\n",
              "      <td>6.986486e+12</td>\n",
              "      <td>5695630</td>\n",
              "      <td>F</td>\n",
              "      <td>2016-05-13T10:37:37Z</td>\n",
              "      <td>2016-05-18T00:00:00Z</td>\n",
              "      <td>66</td>\n",
              "      <td>MARIA ORTIZ</td>\n",
              "      <td>0</td>\n",
              "      <td>0</td>\n",
              "      <td>0</td>\n",
              "      <td>0</td>\n",
              "      <td>0</td>\n",
              "      <td>0</td>\n",
              "      <td>No</td>\n",
              "    </tr>\n",
              "    <tr>\n",
              "      <th>106496</th>\n",
              "      <td>5.464824e+14</td>\n",
              "      <td>5762694</td>\n",
              "      <td>F</td>\n",
              "      <td>2016-06-02T08:03:55Z</td>\n",
              "      <td>2016-06-02T00:00:00Z</td>\n",
              "      <td>70</td>\n",
              "      <td>JESUS DE NAZARETH</td>\n",
              "      <td>0</td>\n",
              "      <td>1</td>\n",
              "      <td>0</td>\n",
              "      <td>0</td>\n",
              "      <td>0</td>\n",
              "      <td>0</td>\n",
              "      <td>No</td>\n",
              "    </tr>\n",
              "    <tr>\n",
              "      <th>54825</th>\n",
              "      <td>6.999114e+12</td>\n",
              "      <td>5625743</td>\n",
              "      <td>F</td>\n",
              "      <td>2016-04-27T07:32:38Z</td>\n",
              "      <td>2016-05-04T00:00:00Z</td>\n",
              "      <td>51</td>\n",
              "      <td>ILHA DO PRÍNCIPE</td>\n",
              "      <td>0</td>\n",
              "      <td>0</td>\n",
              "      <td>0</td>\n",
              "      <td>0</td>\n",
              "      <td>0</td>\n",
              "      <td>1</td>\n",
              "      <td>No</td>\n",
              "    </tr>\n",
              "    <tr>\n",
              "      <th>30382</th>\n",
              "      <td>5.149657e+12</td>\n",
              "      <td>5563201</td>\n",
              "      <td>F</td>\n",
              "      <td>2016-04-08T15:23:31Z</td>\n",
              "      <td>2016-05-06T00:00:00Z</td>\n",
              "      <td>31</td>\n",
              "      <td>RESISTÊNCIA</td>\n",
              "      <td>0</td>\n",
              "      <td>1</td>\n",
              "      <td>1</td>\n",
              "      <td>0</td>\n",
              "      <td>0</td>\n",
              "      <td>1</td>\n",
              "      <td>No</td>\n",
              "    </tr>\n",
              "    <tr>\n",
              "      <th>9829</th>\n",
              "      <td>1.551827e+13</td>\n",
              "      <td>5661035</td>\n",
              "      <td>F</td>\n",
              "      <td>2016-05-05T07:09:11Z</td>\n",
              "      <td>2016-05-09T00:00:00Z</td>\n",
              "      <td>33</td>\n",
              "      <td>ROMÃO</td>\n",
              "      <td>0</td>\n",
              "      <td>0</td>\n",
              "      <td>0</td>\n",
              "      <td>0</td>\n",
              "      <td>0</td>\n",
              "      <td>0</td>\n",
              "      <td>No</td>\n",
              "    </tr>\n",
              "    <tr>\n",
              "      <th>72157</th>\n",
              "      <td>3.694111e+12</td>\n",
              "      <td>5658400</td>\n",
              "      <td>M</td>\n",
              "      <td>2016-05-04T11:06:16Z</td>\n",
              "      <td>2016-05-10T00:00:00Z</td>\n",
              "      <td>40</td>\n",
              "      <td>ENSEADA DO SUÁ</td>\n",
              "      <td>0</td>\n",
              "      <td>0</td>\n",
              "      <td>0</td>\n",
              "      <td>0</td>\n",
              "      <td>0</td>\n",
              "      <td>0</td>\n",
              "      <td>No</td>\n",
              "    </tr>\n",
              "    <tr>\n",
              "      <th>86748</th>\n",
              "      <td>3.362583e+12</td>\n",
              "      <td>5783746</td>\n",
              "      <td>F</td>\n",
              "      <td>2016-06-07T14:32:14Z</td>\n",
              "      <td>2016-06-07T00:00:00Z</td>\n",
              "      <td>44</td>\n",
              "      <td>PARQUE MOSCOSO</td>\n",
              "      <td>1</td>\n",
              "      <td>0</td>\n",
              "      <td>0</td>\n",
              "      <td>0</td>\n",
              "      <td>0</td>\n",
              "      <td>0</td>\n",
              "      <td>No</td>\n",
              "    </tr>\n",
              "    <tr>\n",
              "      <th>60640</th>\n",
              "      <td>6.534486e+13</td>\n",
              "      <td>5694042</td>\n",
              "      <td>M</td>\n",
              "      <td>2016-05-13T08:02:41Z</td>\n",
              "      <td>2016-05-13T00:00:00Z</td>\n",
              "      <td>34</td>\n",
              "      <td>CARATOÍRA</td>\n",
              "      <td>0</td>\n",
              "      <td>0</td>\n",
              "      <td>0</td>\n",
              "      <td>0</td>\n",
              "      <td>0</td>\n",
              "      <td>0</td>\n",
              "      <td>No</td>\n",
              "    </tr>\n",
              "    <tr>\n",
              "      <th>92806</th>\n",
              "      <td>9.792126e+13</td>\n",
              "      <td>5765032</td>\n",
              "      <td>F</td>\n",
              "      <td>2016-06-02T11:24:01Z</td>\n",
              "      <td>2016-06-06T00:00:00Z</td>\n",
              "      <td>59</td>\n",
              "      <td>JARDIM CAMBURI</td>\n",
              "      <td>0</td>\n",
              "      <td>0</td>\n",
              "      <td>0</td>\n",
              "      <td>0</td>\n",
              "      <td>0</td>\n",
              "      <td>1</td>\n",
              "      <td>Yes</td>\n",
              "    </tr>\n",
              "    <tr>\n",
              "      <th>26309</th>\n",
              "      <td>9.367946e+13</td>\n",
              "      <td>5670787</td>\n",
              "      <td>M</td>\n",
              "      <td>2016-05-06T14:40:15Z</td>\n",
              "      <td>2016-05-10T00:00:00Z</td>\n",
              "      <td>12</td>\n",
              "      <td>SANTO ANTÔNIO</td>\n",
              "      <td>0</td>\n",
              "      <td>0</td>\n",
              "      <td>0</td>\n",
              "      <td>0</td>\n",
              "      <td>0</td>\n",
              "      <td>1</td>\n",
              "      <td>No</td>\n",
              "    </tr>\n",
              "    <tr>\n",
              "      <th>61193</th>\n",
              "      <td>7.373846e+13</td>\n",
              "      <td>5651782</td>\n",
              "      <td>F</td>\n",
              "      <td>2016-05-03T09:16:31Z</td>\n",
              "      <td>2016-05-04T00:00:00Z</td>\n",
              "      <td>24</td>\n",
              "      <td>GRANDE VITÓRIA</td>\n",
              "      <td>0</td>\n",
              "      <td>0</td>\n",
              "      <td>0</td>\n",
              "      <td>0</td>\n",
              "      <td>0</td>\n",
              "      <td>0</td>\n",
              "      <td>Yes</td>\n",
              "    </tr>\n",
              "    <tr>\n",
              "      <th>41315</th>\n",
              "      <td>6.695248e+13</td>\n",
              "      <td>5518762</td>\n",
              "      <td>F</td>\n",
              "      <td>2016-03-29T08:03:42Z</td>\n",
              "      <td>2016-05-06T00:00:00Z</td>\n",
              "      <td>23</td>\n",
              "      <td>JOANA D´ARC</td>\n",
              "      <td>0</td>\n",
              "      <td>0</td>\n",
              "      <td>0</td>\n",
              "      <td>0</td>\n",
              "      <td>0</td>\n",
              "      <td>1</td>\n",
              "      <td>No</td>\n",
              "    </tr>\n",
              "    <tr>\n",
              "      <th>77360</th>\n",
              "      <td>3.956229e+13</td>\n",
              "      <td>5662380</td>\n",
              "      <td>F</td>\n",
              "      <td>2016-05-05T08:28:07Z</td>\n",
              "      <td>2016-05-17T00:00:00Z</td>\n",
              "      <td>51</td>\n",
              "      <td>SANTO ANTÔNIO</td>\n",
              "      <td>0</td>\n",
              "      <td>1</td>\n",
              "      <td>0</td>\n",
              "      <td>0</td>\n",
              "      <td>0</td>\n",
              "      <td>0</td>\n",
              "      <td>Yes</td>\n",
              "    </tr>\n",
              "    <tr>\n",
              "      <th>60858</th>\n",
              "      <td>4.415275e+13</td>\n",
              "      <td>5699309</td>\n",
              "      <td>M</td>\n",
              "      <td>2016-05-16T08:23:11Z</td>\n",
              "      <td>2016-05-16T00:00:00Z</td>\n",
              "      <td>17</td>\n",
              "      <td>SANTA TEREZA</td>\n",
              "      <td>0</td>\n",
              "      <td>0</td>\n",
              "      <td>0</td>\n",
              "      <td>0</td>\n",
              "      <td>2</td>\n",
              "      <td>0</td>\n",
              "      <td>No</td>\n",
              "    </tr>\n",
              "    <tr>\n",
              "      <th>6457</th>\n",
              "      <td>5.243277e+12</td>\n",
              "      <td>5665318</td>\n",
              "      <td>M</td>\n",
              "      <td>2016-05-05T14:15:34Z</td>\n",
              "      <td>2016-05-09T00:00:00Z</td>\n",
              "      <td>61</td>\n",
              "      <td>CENTRO</td>\n",
              "      <td>0</td>\n",
              "      <td>1</td>\n",
              "      <td>0</td>\n",
              "      <td>0</td>\n",
              "      <td>0</td>\n",
              "      <td>0</td>\n",
              "      <td>No</td>\n",
              "    </tr>\n",
              "  </tbody>\n",
              "</table>\n",
              "</div>"
            ],
            "text/plain": [
              "           PatientId  AppointmentID Gender  ... Handcap SMS_received  No-show\n",
              "89425   4.912537e+13        5779653      M  ...       0            0       No\n",
              "98004   6.668787e+13        5645966      F  ...       0            1       No\n",
              "33978   1.484611e+13        5635244      F  ...       0            1       No\n",
              "21998   8.644573e+14        5709306      F  ...       0            0       No\n",
              "99068   8.765746e+14        5770123      F  ...       0            1       No\n",
              "44407   2.153462e+13        5639991      F  ...       0            0      Yes\n",
              "52241   2.141687e+13        5708529      M  ...       0            0       No\n",
              "26512   8.231720e+12        5664364      F  ...       0            0       No\n",
              "32470   9.458741e+14        5598194      F  ...       0            1       No\n",
              "18826   1.819924e+13        5703880      F  ...       0            0      Yes\n",
              "81517   3.891146e+13        5603263      F  ...       0            1       No\n",
              "32446   6.827596e+13        5682315      F  ...       0            0       No\n",
              "84634   5.355689e+13        5761430      F  ...       0            0       No\n",
              "56179   5.714997e+14        5712897      F  ...       0            0       No\n",
              "66805   2.714365e+14        5671550      M  ...       0            0       No\n",
              "48329   4.323282e+14        5632286      F  ...       0            0       No\n",
              "42571   8.611562e+14        5706226      F  ...       0            1       No\n",
              "44054   4.887834e+14        5667850      M  ...       0            0       No\n",
              "86668   3.723555e+14        5750573      F  ...       0            1       No\n",
              "2       4.262962e+12        5642549      F  ...       0            0       No\n",
              "47823   4.944228e+11        5661954      M  ...       0            0       No\n",
              "74230   2.685859e+13        5668339      F  ...       0            0       No\n",
              "63798   1.231725e+11        5670400      M  ...       0            0       No\n",
              "78787   1.626932e+14        5602487      F  ...       0            1       No\n",
              "81409   7.232866e+13        5751196      M  ...       0            0       No\n",
              "104417  9.366588e+14        5779537      M  ...       0            0       No\n",
              "51824   7.427843e+14        5717335      M  ...       0            0      Yes\n",
              "10135   3.965613e+12        5719717      F  ...       0            0       No\n",
              "24330   1.893995e+13        5592268      M  ...       0            1       No\n",
              "17548   3.922749e+12        5723581      F  ...       0            0       No\n",
              "21358   3.491332e+13        5739046      F  ...       0            1       No\n",
              "71036   8.458184e+13        5667710      M  ...       0            0       No\n",
              "64347   4.139345e+12        5687796      F  ...       0            0      Yes\n",
              "99952   2.963966e+11        5735968      F  ...       0            1       No\n",
              "31592   1.315567e+14        5540451      F  ...       0            1      Yes\n",
              "72045   6.986486e+12        5695630      F  ...       0            0       No\n",
              "106496  5.464824e+14        5762694      F  ...       0            0       No\n",
              "54825   6.999114e+12        5625743      F  ...       0            1       No\n",
              "30382   5.149657e+12        5563201      F  ...       0            1       No\n",
              "9829    1.551827e+13        5661035      F  ...       0            0       No\n",
              "72157   3.694111e+12        5658400      M  ...       0            0       No\n",
              "86748   3.362583e+12        5783746      F  ...       0            0       No\n",
              "60640   6.534486e+13        5694042      M  ...       0            0       No\n",
              "92806   9.792126e+13        5765032      F  ...       0            1      Yes\n",
              "26309   9.367946e+13        5670787      M  ...       0            1       No\n",
              "61193   7.373846e+13        5651782      F  ...       0            0      Yes\n",
              "41315   6.695248e+13        5518762      F  ...       0            1       No\n",
              "77360   3.956229e+13        5662380      F  ...       0            0      Yes\n",
              "60858   4.415275e+13        5699309      M  ...       2            0       No\n",
              "6457    5.243277e+12        5665318      M  ...       0            0       No\n",
              "\n",
              "[50 rows x 14 columns]"
            ]
          },
          "metadata": {},
          "execution_count": 62
        }
      ]
    },
    {
      "cell_type": "code",
      "metadata": {
        "id": "z4Lz_6fhdb7_",
        "colab": {
          "base_uri": "https://localhost:8080/"
        },
        "outputId": "515ca895-6bb8-4d7d-e0c1-49c360ff0ab4"
      },
      "source": [
        "Medical_Appointments = Appointments.sample(n = 50, replace = \"False\")\n",
        "print(Medical_Appointments)"
      ],
      "execution_count": null,
      "outputs": [
        {
          "output_type": "stream",
          "name": "stdout",
          "text": [
            "           PatientId  AppointmentID Gender  ... Handcap SMS_received  No-show\n",
            "108858  8.131241e+13        5771872      F  ...       0            0       No\n",
            "9740    2.634855e+13        5722719      M  ...       0            0       No\n",
            "15607   6.165972e+13        5621761      F  ...       0            0       No\n",
            "104489  1.779894e+13        5755980      F  ...       0            0      Yes\n",
            "28221   6.859188e+13        5653313      M  ...       0            0       No\n",
            "47370   2.925556e+12        5530818      F  ...       0            1       No\n",
            "66990   4.572634e+11        5632800      M  ...       0            0       No\n",
            "71758   2.336118e+12        5726133      F  ...       0            0       No\n",
            "97595   1.958650e+14        5764230      F  ...       0            0       No\n",
            "53002   6.846545e+13        5686051      F  ...       0            0       No\n",
            "101231  6.897527e+13        5665998      F  ...       0            1       No\n",
            "78531   9.518185e+13        5732530      M  ...       0            0       No\n",
            "35381   3.628387e+10        5680985      M  ...       1            0       No\n",
            "51949   6.655270e+13        5748845      F  ...       0            0      Yes\n",
            "68022   3.652757e+10        5649997      M  ...       0            0       No\n",
            "90275   2.745156e+12        5760690      F  ...       0            1       No\n",
            "86341   8.718894e+14        5698214      F  ...       0            1       No\n",
            "79581   6.925615e+14        5657755      M  ...       0            1       No\n",
            "13936   9.361429e+13        5498173      F  ...       0            1       No\n",
            "27168   1.561775e+12        5360261      F  ...       0            1       No\n",
            "5129    4.484968e+12        5694502      F  ...       0            0       No\n",
            "10544   6.754363e+12        5520894      F  ...       0            0       No\n",
            "80105   2.336138e+12        5642642      M  ...       0            1       No\n",
            "31882   4.294665e+12        5596321      F  ...       0            0       No\n",
            "32747   8.887497e+14        5603962      M  ...       0            1      Yes\n",
            "70116   3.964125e+13        5645685      M  ...       0            0       No\n",
            "10409   7.731478e+14        5640489      M  ...       0            1      Yes\n",
            "42402   5.848762e+14        5711639      M  ...       0            1       No\n",
            "15828   5.236265e+13        5619499      M  ...       0            1      Yes\n",
            "89993   8.784143e+13        5775906      M  ...       0            0       No\n",
            "65381   3.226258e+12        5536240      M  ...       0            0      Yes\n",
            "98144   5.532193e+13        5755929      M  ...       0            0       No\n",
            "26744   6.871887e+13        5702546      F  ...       0            0       No\n",
            "53601   9.715136e+12        5741154      F  ...       0            0      Yes\n",
            "52325   7.618975e+13        5683567      F  ...       0            0      Yes\n",
            "36785   7.497972e+14        5625774      M  ...       0            1       No\n",
            "84594   6.635650e+13        5758374      F  ...       0            0       No\n",
            "95136   8.622669e+13        5765408      M  ...       0            0       No\n",
            "31068   6.556641e+13        5605592      M  ...       0            0       No\n",
            "70061   9.467835e+12        5688767      F  ...       0            0       No\n",
            "35441   2.565167e+12        5591282      M  ...       0            0      Yes\n",
            "60908   7.825260e+13        5602532      F  ...       0            1       No\n",
            "43429   5.696963e+14        5631594      F  ...       0            1       No\n",
            "96721   4.461794e+11        5762287      M  ...       0            1      Yes\n",
            "24326   6.668383e+11        5574603      F  ...       0            1       No\n",
            "1591    5.875292e+13        5539343      F  ...       0            1       No\n",
            "14035   2.236167e+13        5631263      F  ...       0            0       No\n",
            "30026   9.587377e+13        5664264      M  ...       0            0       No\n",
            "82796   8.156867e+13        5709256      M  ...       0            0       No\n",
            "54334   4.952224e+11        5717814      M  ...       0            0       No\n",
            "\n",
            "[50 rows x 14 columns]\n"
          ]
        }
      ]
    }
  ]
}