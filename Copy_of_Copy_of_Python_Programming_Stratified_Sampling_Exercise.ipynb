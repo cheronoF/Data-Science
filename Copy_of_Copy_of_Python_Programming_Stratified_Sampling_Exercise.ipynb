{
  "nbformat": 4,
  "nbformat_minor": 0,
  "metadata": {
    "colab": {
      "name": "Copy of Copy of Python Programming: Stratified Sampling Exercise",
      "provenance": [],
      "collapsed_sections": [
        "c_l7pRnbX4Ws",
        "xIswFcWu4X-M"
      ],
      "include_colab_link": true
    },
    "kernelspec": {
      "name": "python3",
      "display_name": "Python 3"
    }
  },
  "cells": [
    {
      "cell_type": "markdown",
      "metadata": {
        "id": "view-in-github",
        "colab_type": "text"
      },
      "source": [
        "<a href=\"https://colab.research.google.com/github/cheronoF/Data-Science/blob/main/Copy_of_Copy_of_Python_Programming_Stratified_Sampling_Exercise.ipynb\" target=\"_parent\"><img src=\"https://colab.research.google.com/assets/colab-badge.svg\" alt=\"Open In Colab\"/></a>"
      ]
    },
    {
      "cell_type": "markdown",
      "metadata": {
        "id": "xyMO0fjEat9e"
      },
      "source": [
        "<font color=\"green\">*To start working on this notebook, or any other notebook that we will use in the Moringa Data Science Course, we will need to save our own copy of it. We can do this by clicking File > Save a Copy in Drive. We will then be able to make edits to our own copy of this notebook.*</font>"
      ]
    },
    {
      "cell_type": "markdown",
      "metadata": {
        "id": "roBP_xMEBpqE"
      },
      "source": [
        "# Python Programming: Stratified Sampling Exercise"
      ]
    },
    {
      "cell_type": "markdown",
      "metadata": {
        "id": "c_l7pRnbX4Ws"
      },
      "source": [
        "## Example"
      ]
    },
    {
      "cell_type": "markdown",
      "metadata": {
        "id": "2g6eBvTuD1-M"
      },
      "source": [
        "We are going to use the example we looked at in the overview. Our dataset is comprised of different heights of Moringa School students. It has 10,000 entries whereby 60% are female and 40% are Male. We are going to perform stratified sampling on this population so that we can get a sample of 1000 students which has the same proportion as the population."
      ]
    },
    {
      "cell_type": "markdown",
      "metadata": {
        "id": "RM4m989jCC9m"
      },
      "source": [
        "**Import relevant Libraries**"
      ]
    },
    {
      "cell_type": "code",
      "metadata": {
        "id": "SqwTmeFQZqp7"
      },
      "source": [
        "import pandas as pd\n"
      ],
      "execution_count": null,
      "outputs": []
    },
    {
      "cell_type": "markdown",
      "metadata": {
        "id": "Z02bhgrMCQdc"
      },
      "source": [
        "**Load the Dataset**\n",
        "\n",
        "Here is the dataset we are going to use in this example.[Dataset Download](https://drive.google.com/file/d/1ODcSRSs_isRKCAShFwnMrXdcphed9kYn/view?usp=sharing)"
      ]
    },
    {
      "cell_type": "code",
      "metadata": {
        "id": "e61iXAYnaNqV"
      },
      "source": [
        "# Load the data into a panda dataframe\n",
        "data= pd.read_csv('Gender_heights.csv')\n",
        "\n",
        "# Check out the data\n",
        "data\n",
        "\n"
      ],
      "execution_count": null,
      "outputs": []
    },
    {
      "cell_type": "code",
      "metadata": {
        "id": "9SDKk4eUGrx_",
        "colab": {
          "base_uri": "https://localhost:8080/"
        },
        "outputId": "76aec74c-7217-4c1b-ed2f-10f3f5d11395"
      },
      "source": [
        "# Now we will confirm how many Female students and Male students are there in our dataset.\n",
        "# To achieve this we will use pandas .value_count() method. This method outputs the number of times a value appears in a column.\n",
        "data['gender'].value_counts()"
      ],
      "execution_count": null,
      "outputs": [
        {
          "output_type": "execute_result",
          "data": {
            "text/plain": [
              "F    6000\n",
              "M    4000\n",
              "Name: gender, dtype: int64"
            ]
          },
          "metadata": {},
          "execution_count": 21
        }
      ]
    },
    {
      "cell_type": "markdown",
      "metadata": {
        "id": "_u_K93F9KrS-"
      },
      "source": [
        "Now that we have confirmed that our popluation follows the correct proportion, we are going to first create a random sample of 1000 students without stratification just to see how it behaves."
      ]
    },
    {
      "cell_type": "code",
      "metadata": {
        "id": "-tWJJwM7LJn6",
        "colab": {
          "base_uri": "https://localhost:8080/"
        },
        "outputId": "3ce4c472-d680-451a-ccff-ee90041b6989"
      },
      "source": [
        "# To create a random sample from a dataframe we use the pandas sample method. You can read more about it here.https://pandas.pydata.org/pandas-docs/stable/reference/api/pandas.DataFrame.sample.html\n",
        "# We pass in an argument called frac which symbolises the fraction of the population we want to use as our sample\n",
        "\n",
        "# Non stratified sample\n",
        "non_strat_output = data.sample(frac=0.1) \n",
        "\n",
        "# check the proportion of the non_stratified sample\n",
        "print(non_strat_output['gender'].value_counts())"
      ],
      "execution_count": null,
      "outputs": [
        {
          "output_type": "stream",
          "name": "stdout",
          "text": [
            "F    618\n",
            "M    382\n",
            "Name: gender, dtype: int64\n"
          ]
        }
      ]
    },
    {
      "cell_type": "markdown",
      "metadata": {
        "id": "9KY2PgCAUsa5"
      },
      "source": [
        "Run the code several times, taking note of the proportion of Female and Male. What do you notice?\n",
        "\n",
        "When you run it several time, you'll notice that the proportion varies each time. Although it ranges closely to our desired proportion, its not quite the 60-40 proportion we want. To remedy it, this is where stratified sampling comes in handy.\n",
        "\n",
        "Let's us create a stratified random sample and see how it behaves"
      ]
    },
    {
      "cell_type": "code",
      "metadata": {
        "id": "Mgxm7zGZWHj5",
        "cellView": "both",
        "colab": {
          "base_uri": "https://localhost:8080/"
        },
        "outputId": "31badf5a-b8d7-40f2-802d-4f00827b1894"
      },
      "source": [
        "\n",
        "# To create a stratified random sample we'll use pandas groupBy method. Basically what the method does is that it splits our dataset into sets and then applies a function on each subset.\n",
        "# In our case, we are going to applies a function that puts each subset into a random sample with a size of 100. The beauty about this method is that it strictly maintains the populations proportion.\n",
        "\n",
        "# Stratified sample\n",
        "strat_output = data.groupby('gender', group_keys=False).apply(lambda grouped_subset : grouped_subset.sample(frac=0.1))\n",
        "\n",
        "# proportion of the non_stratified sample\n",
        "print(strat_output['gender'].value_counts())\n",
        "\n",
        "# Check the stratified output\n",
        "print(strat_output)\n",
        "\n",
        " "
      ],
      "execution_count": null,
      "outputs": [
        {
          "output_type": "stream",
          "name": "stdout",
          "text": [
            "F    600\n",
            "M    400\n",
            "Name: gender, dtype: int64\n",
            "     gender         ht\n",
            "2809      F  57.999551\n",
            "69        F  68.038378\n",
            "2106      F  67.503046\n",
            "5058      F  60.443173\n",
            "1188      F  58.968027\n",
            "...     ...        ...\n",
            "7638      M  85.052857\n",
            "6772      M  86.741967\n",
            "6616      M  92.597088\n",
            "7329      M  87.790862\n",
            "7162      M  90.415005\n",
            "\n",
            "[1000 rows x 2 columns]\n"
          ]
        }
      ]
    },
    {
      "cell_type": "markdown",
      "metadata": {
        "id": "xIswFcWu4X-M"
      },
      "source": [
        "## <font color=\"green\">Challenges</font>"
      ]
    },
    {
      "cell_type": "markdown",
      "metadata": {
        "id": "zSxsuINwvciJ"
      },
      "source": [
        "### Challenge 1"
      ]
    },
    {
      "cell_type": "code",
      "metadata": {
        "id": "KKKNoN-pYBAa",
        "colab": {
          "base_uri": "https://localhost:8080/",
          "height": 200
        },
        "outputId": "4fc6e66c-1759-4d02-9979-c588d467a146"
      },
      "source": [
        "# Challenge 1\n",
        "# ---\n",
        "# Question: Moringa school is doing an analysis on how the students perform based on the different programmes that they offer.\n",
        "# Given a dataset of 10000 students and you are told that 50% are Core students, 25% are Prep students and 25% are Pre-prep students. \n",
        "# Also in the dataset, 60% of the students are Female and the rest are Male. \n",
        "# You are tasked with creating a stratified random sample that represents that population.\n",
        "# ---\n",
        "# Dataset Source = https://drive.google.com/file/d/10THQj3iqund_D5tgypBdeKoc2FZ9pC0S/view?usp=sharing\n",
        "\n",
        "# Load the data into a panda dataframe\n",
        "Moringa = pd.read_csv('Moringa_Students_heights.csv')\n",
        "\n",
        "# Checking data\n",
        "\n",
        "Moringa.head(5)\n",
        "\n"
      ],
      "execution_count": null,
      "outputs": [
        {
          "output_type": "execute_result",
          "data": {
            "text/html": [
              "<div>\n",
              "<style scoped>\n",
              "    .dataframe tbody tr th:only-of-type {\n",
              "        vertical-align: middle;\n",
              "    }\n",
              "\n",
              "    .dataframe tbody tr th {\n",
              "        vertical-align: top;\n",
              "    }\n",
              "\n",
              "    .dataframe thead th {\n",
              "        text-align: right;\n",
              "    }\n",
              "</style>\n",
              "<table border=\"1\" class=\"dataframe\">\n",
              "  <thead>\n",
              "    <tr style=\"text-align: right;\">\n",
              "      <th></th>\n",
              "      <th>programme</th>\n",
              "      <th>gender</th>\n",
              "      <th>ht</th>\n",
              "    </tr>\n",
              "  </thead>\n",
              "  <tbody>\n",
              "    <tr>\n",
              "      <th>0</th>\n",
              "      <td>Prep</td>\n",
              "      <td>F</td>\n",
              "      <td>57.861539</td>\n",
              "    </tr>\n",
              "    <tr>\n",
              "      <th>1</th>\n",
              "      <td>Prep</td>\n",
              "      <td>F</td>\n",
              "      <td>65.550765</td>\n",
              "    </tr>\n",
              "    <tr>\n",
              "      <th>2</th>\n",
              "      <td>Core</td>\n",
              "      <td>F</td>\n",
              "      <td>52.142763</td>\n",
              "    </tr>\n",
              "    <tr>\n",
              "      <th>3</th>\n",
              "      <td>Pre-prep</td>\n",
              "      <td>F</td>\n",
              "      <td>69.453854</td>\n",
              "    </tr>\n",
              "    <tr>\n",
              "      <th>4</th>\n",
              "      <td>Pre-prep</td>\n",
              "      <td>F</td>\n",
              "      <td>54.203258</td>\n",
              "    </tr>\n",
              "  </tbody>\n",
              "</table>\n",
              "</div>"
            ],
            "text/plain": [
              "  programme gender         ht\n",
              "0      Prep      F  57.861539\n",
              "1      Prep      F  65.550765\n",
              "2      Core      F  52.142763\n",
              "3  Pre-prep      F  69.453854\n",
              "4  Pre-prep      F  54.203258"
            ]
          },
          "metadata": {},
          "execution_count": 25
        }
      ]
    },
    {
      "cell_type": "code",
      "metadata": {
        "id": "0HG3wY-ixHy1",
        "colab": {
          "base_uri": "https://localhost:8080/"
        },
        "outputId": "30fe77b8-015c-4da8-ec1f-848fe8bd4cc2"
      },
      "source": [
        "Moringa.shape"
      ],
      "execution_count": null,
      "outputs": [
        {
          "output_type": "execute_result",
          "data": {
            "text/plain": [
              "(10000, 3)"
            ]
          },
          "metadata": {},
          "execution_count": 38
        }
      ]
    },
    {
      "cell_type": "code",
      "metadata": {
        "id": "jK1IQhJavfSZ",
        "colab": {
          "base_uri": "https://localhost:8080/"
        },
        "outputId": "7911d560-4ad6-459d-b7fa-dc5503a96bc4"
      },
      "source": [
        "# Confirming how many Female students and Male students and the programmes they're on in our dataset.\n",
        "Moringa['gender'].value_counts()"
      ],
      "execution_count": null,
      "outputs": [
        {
          "output_type": "execute_result",
          "data": {
            "text/plain": [
              "F    6000\n",
              "M    4000\n",
              "Name: gender, dtype: int64"
            ]
          },
          "metadata": {},
          "execution_count": 27
        }
      ]
    },
    {
      "cell_type": "code",
      "metadata": {
        "id": "4PpOkc0Nv0I6",
        "colab": {
          "base_uri": "https://localhost:8080/"
        },
        "outputId": "32fb05c6-7cc3-4744-f0bf-1bdd4683050a"
      },
      "source": [
        "Moringa['programme'].value_counts()"
      ],
      "execution_count": null,
      "outputs": [
        {
          "output_type": "execute_result",
          "data": {
            "text/plain": [
              "Core        5000\n",
              "Pre-prep    2500\n",
              "Prep        2500\n",
              "Name: programme, dtype: int64"
            ]
          },
          "metadata": {},
          "execution_count": 28
        }
      ]
    },
    {
      "cell_type": "code",
      "metadata": {
        "id": "19fwQzNtv6ws",
        "colab": {
          "base_uri": "https://localhost:8080/"
        },
        "outputId": "62198360-f38c-4c1f-ccfc-52e4eaabc920"
      },
      "source": [
        "# Trying out Non-stratified sampling\n",
        "# Non stratified sample\n",
        "non_strat_output = Moringa.sample(frac=0.1) \n",
        "\n",
        "# check the proportion of the non_stratified sample\n",
        "print(non_strat_output['gender'].value_counts())\n"
      ],
      "execution_count": null,
      "outputs": [
        {
          "output_type": "stream",
          "name": "stdout",
          "text": [
            "F    612\n",
            "M    388\n",
            "Name: gender, dtype: int64\n"
          ]
        }
      ]
    },
    {
      "cell_type": "code",
      "metadata": {
        "id": "8WYDuNpewRX5",
        "colab": {
          "base_uri": "https://localhost:8080/"
        },
        "outputId": "38e34860-9cd4-4ebb-c2fa-da89b8384324"
      },
      "source": [
        "# Stratified sample\n",
        "strat_output = Moringa.groupby('gender', group_keys=False).apply(lambda grouped_subset : grouped_subset.sample(frac=0.1))\n",
        "\n",
        "# proportion of the non_stratified sample\n",
        "print(strat_output['gender'].value_counts())\n",
        "\n",
        "# Check the stratified output\n",
        "print(strat_output)\n"
      ],
      "execution_count": null,
      "outputs": [
        {
          "output_type": "stream",
          "name": "stdout",
          "text": [
            "F    600\n",
            "M    400\n",
            "Name: gender, dtype: int64\n",
            "     programme gender         ht\n",
            "3965  Pre-prep      F  60.408243\n",
            "365       Core      F  62.865218\n",
            "552       Prep      F  55.503927\n",
            "5953      Core      F  63.424460\n",
            "5463      Core      F  61.206943\n",
            "...        ...    ...        ...\n",
            "9554  Pre-prep      M  86.012101\n",
            "7255      Prep      M  84.730698\n",
            "6557      Prep      M  90.471306\n",
            "6600      Prep      M  80.664773\n",
            "8389      Core      M  97.555265\n",
            "\n",
            "[1000 rows x 3 columns]\n"
          ]
        }
      ]
    },
    {
      "cell_type": "code",
      "metadata": {
        "id": "DLGIoKKpwY6w",
        "colab": {
          "base_uri": "https://localhost:8080/"
        },
        "outputId": "478c8906-2ab3-4bf4-e6af-f46c703bb936"
      },
      "source": [
        "strat_output = Moringa.groupby('programme', group_keys=False).apply(lambda grouped_subset : grouped_subset.sample(frac=0.1))\n",
        "\n",
        "# proportion of the non_stratified sample\n",
        "print(strat_output['programme'].value_counts())\n",
        "\n",
        "# Check the stratified output\n",
        "print(strat_output)"
      ],
      "execution_count": null,
      "outputs": [
        {
          "output_type": "stream",
          "name": "stdout",
          "text": [
            "Core        500\n",
            "Pre-prep    250\n",
            "Prep        250\n",
            "Name: programme, dtype: int64\n",
            "     programme gender         ht\n",
            "409       Core      F  55.123906\n",
            "7314      Core      M  90.424957\n",
            "966       Core      F  59.757305\n",
            "4433      Core      F  60.928354\n",
            "2949      Core      F  65.699003\n",
            "...        ...    ...        ...\n",
            "584       Prep      F  67.065707\n",
            "3640      Prep      F  57.466359\n",
            "9970      Prep      M  96.051919\n",
            "7820      Prep      M  89.710478\n",
            "4774      Prep      F  75.107617\n",
            "\n",
            "[1000 rows x 3 columns]\n"
          ]
        }
      ]
    },
    {
      "cell_type": "markdown",
      "metadata": {
        "id": "5QE5VUjew8HH"
      },
      "source": [
        "### Challenge 2"
      ]
    },
    {
      "cell_type": "code",
      "metadata": {
        "id": "A3JYY6qkYOXt",
        "colab": {
          "base_uri": "https://localhost:8080/",
          "height": 200
        },
        "outputId": "a441b200-46b0-49b6-b064-ca95ef9e0b91"
      },
      "source": [
        "# Challenge 2\n",
        "# ---\n",
        "# Question: A wine company would like to perform some analysis on a variety of new red wines. \n",
        "# Select a stratified sample based on wine quality from the given dataset.\n",
        "# ---\n",
        "# Dataset url = http://bit.ly/RedWinesDataset\n",
        "\n",
        "RedWine = pd.read_csv(\"http://bit.ly/RedWinesDataset\")\n",
        "\n",
        "RedWine.head(5)\n"
      ],
      "execution_count": null,
      "outputs": [
        {
          "output_type": "execute_result",
          "data": {
            "text/html": [
              "<div>\n",
              "<style scoped>\n",
              "    .dataframe tbody tr th:only-of-type {\n",
              "        vertical-align: middle;\n",
              "    }\n",
              "\n",
              "    .dataframe tbody tr th {\n",
              "        vertical-align: top;\n",
              "    }\n",
              "\n",
              "    .dataframe thead th {\n",
              "        text-align: right;\n",
              "    }\n",
              "</style>\n",
              "<table border=\"1\" class=\"dataframe\">\n",
              "  <thead>\n",
              "    <tr style=\"text-align: right;\">\n",
              "      <th></th>\n",
              "      <th>fixed acidity</th>\n",
              "      <th>volatile acidity</th>\n",
              "      <th>citric acid</th>\n",
              "      <th>residual sugar</th>\n",
              "      <th>chlorides</th>\n",
              "      <th>free sulfur dioxide</th>\n",
              "      <th>total sulfur dioxide</th>\n",
              "      <th>density</th>\n",
              "      <th>pH</th>\n",
              "      <th>sulphates</th>\n",
              "      <th>alcohol</th>\n",
              "      <th>quality</th>\n",
              "    </tr>\n",
              "  </thead>\n",
              "  <tbody>\n",
              "    <tr>\n",
              "      <th>0</th>\n",
              "      <td>7.4</td>\n",
              "      <td>0.70</td>\n",
              "      <td>0.00</td>\n",
              "      <td>1.9</td>\n",
              "      <td>0.076</td>\n",
              "      <td>11.0</td>\n",
              "      <td>34.0</td>\n",
              "      <td>0.9978</td>\n",
              "      <td>3.51</td>\n",
              "      <td>0.56</td>\n",
              "      <td>9.4</td>\n",
              "      <td>5</td>\n",
              "    </tr>\n",
              "    <tr>\n",
              "      <th>1</th>\n",
              "      <td>7.8</td>\n",
              "      <td>0.88</td>\n",
              "      <td>0.00</td>\n",
              "      <td>2.6</td>\n",
              "      <td>0.098</td>\n",
              "      <td>25.0</td>\n",
              "      <td>67.0</td>\n",
              "      <td>0.9968</td>\n",
              "      <td>3.20</td>\n",
              "      <td>0.68</td>\n",
              "      <td>9.8</td>\n",
              "      <td>5</td>\n",
              "    </tr>\n",
              "    <tr>\n",
              "      <th>2</th>\n",
              "      <td>7.8</td>\n",
              "      <td>0.76</td>\n",
              "      <td>0.04</td>\n",
              "      <td>2.3</td>\n",
              "      <td>0.092</td>\n",
              "      <td>15.0</td>\n",
              "      <td>54.0</td>\n",
              "      <td>0.9970</td>\n",
              "      <td>3.26</td>\n",
              "      <td>0.65</td>\n",
              "      <td>9.8</td>\n",
              "      <td>5</td>\n",
              "    </tr>\n",
              "    <tr>\n",
              "      <th>3</th>\n",
              "      <td>11.2</td>\n",
              "      <td>0.28</td>\n",
              "      <td>0.56</td>\n",
              "      <td>1.9</td>\n",
              "      <td>0.075</td>\n",
              "      <td>17.0</td>\n",
              "      <td>60.0</td>\n",
              "      <td>0.9980</td>\n",
              "      <td>3.16</td>\n",
              "      <td>0.58</td>\n",
              "      <td>9.8</td>\n",
              "      <td>6</td>\n",
              "    </tr>\n",
              "    <tr>\n",
              "      <th>4</th>\n",
              "      <td>7.4</td>\n",
              "      <td>0.70</td>\n",
              "      <td>0.00</td>\n",
              "      <td>1.9</td>\n",
              "      <td>0.076</td>\n",
              "      <td>11.0</td>\n",
              "      <td>34.0</td>\n",
              "      <td>0.9978</td>\n",
              "      <td>3.51</td>\n",
              "      <td>0.56</td>\n",
              "      <td>9.4</td>\n",
              "      <td>5</td>\n",
              "    </tr>\n",
              "  </tbody>\n",
              "</table>\n",
              "</div>"
            ],
            "text/plain": [
              "   fixed acidity  volatile acidity  citric acid  ...  sulphates  alcohol  quality\n",
              "0            7.4              0.70         0.00  ...       0.56      9.4        5\n",
              "1            7.8              0.88         0.00  ...       0.68      9.8        5\n",
              "2            7.8              0.76         0.04  ...       0.65      9.8        5\n",
              "3           11.2              0.28         0.56  ...       0.58      9.8        6\n",
              "4            7.4              0.70         0.00  ...       0.56      9.4        5\n",
              "\n",
              "[5 rows x 12 columns]"
            ]
          },
          "metadata": {},
          "execution_count": 39
        }
      ]
    },
    {
      "cell_type": "code",
      "metadata": {
        "id": "sP7IG2ynxcaJ",
        "colab": {
          "base_uri": "https://localhost:8080/"
        },
        "outputId": "fbed99f8-1bc5-4f1a-8b1d-80b4ba8f710b"
      },
      "source": [
        "RedWine.shape"
      ],
      "execution_count": null,
      "outputs": [
        {
          "output_type": "execute_result",
          "data": {
            "text/plain": [
              "(1599, 12)"
            ]
          },
          "metadata": {},
          "execution_count": 40
        }
      ]
    },
    {
      "cell_type": "code",
      "metadata": {
        "id": "xNbkdzPNxhxX",
        "colab": {
          "base_uri": "https://localhost:8080/"
        },
        "outputId": "de6b32ec-7fc8-497a-8e01-966ef5abb168"
      },
      "source": [
        "# Trying out Non-stratified sampling\n",
        "# Non stratified sample\n",
        "non_strat_output = RedWine.sample(frac=0.1) \n",
        "\n",
        "# check the proportion of the non_stratified sample\n",
        "print(non_strat_output['quality'].value_counts())"
      ],
      "execution_count": null,
      "outputs": [
        {
          "output_type": "stream",
          "name": "stdout",
          "text": [
            "5    67\n",
            "6    54\n",
            "7    29\n",
            "4     9\n",
            "3     1\n",
            "Name: quality, dtype: int64\n"
          ]
        }
      ]
    },
    {
      "cell_type": "code",
      "metadata": {
        "id": "KpoIEmkWx8s_",
        "colab": {
          "base_uri": "https://localhost:8080/"
        },
        "outputId": "45d9f735-11fc-4115-9074-fbe068ab4759"
      },
      "source": [
        "strat_output = RedWine.groupby('quality', group_keys=False).apply(lambda grouped_subset : grouped_subset.sample(frac=0.1))\n",
        "\n",
        "# proportion of the non_stratified sample\n",
        "print(strat_output['quality'].value_counts())\n",
        "\n",
        "# Check the stratified output\n",
        "print(strat_output)"
      ],
      "execution_count": null,
      "outputs": [
        {
          "output_type": "stream",
          "name": "stdout",
          "text": [
            "5    68\n",
            "6    64\n",
            "7    20\n",
            "4     5\n",
            "8     2\n",
            "3     1\n",
            "Name: quality, dtype: int64\n",
            "      fixed acidity  volatile acidity  citric acid  ...  sulphates  alcohol  quality\n",
            "832            10.4             0.440         0.42  ...       0.86      9.9        3\n",
            "1484            6.8             0.910         0.06  ...       0.64     10.9        4\n",
            "1176            6.5             0.880         0.03  ...       0.50     11.2        4\n",
            "1239            6.5             0.670         0.00  ...       0.56     11.8        4\n",
            "633            10.1             0.935         0.22  ...       0.64     11.3        4\n",
            "...             ...               ...          ...  ...        ...      ...      ...\n",
            "430            10.5             0.240         0.47  ...       0.90     11.0        7\n",
            "200             9.6             0.320         0.47  ...       0.82     10.3        7\n",
            "502            10.4             0.440         0.73  ...       0.85     12.0        7\n",
            "828             7.8             0.570         0.09  ...       0.74     12.7        8\n",
            "1549            7.4             0.360         0.30  ...       0.70     11.4        8\n",
            "\n",
            "[160 rows x 12 columns]\n"
          ]
        }
      ]
    },
    {
      "cell_type": "code",
      "metadata": {
        "id": "RF_Fy0CPPRza"
      },
      "source": [
        "import pandas as pd"
      ],
      "execution_count": null,
      "outputs": []
    },
    {
      "cell_type": "markdown",
      "metadata": {
        "id": "sLwt9rXfzLYC"
      },
      "source": [
        "### Challenge 3"
      ]
    },
    {
      "cell_type": "code",
      "metadata": {
        "id": "qY0aF-pJZzzs",
        "colab": {
          "base_uri": "https://localhost:8080/",
          "height": 200
        },
        "outputId": "8d49508c-c1bc-4a8c-bac9-fa49432d744d"
      },
      "source": [
        "# Challenge 3\n",
        "# ---\n",
        "# Question: You have been provided with a list of employees of a certain company with some details about their gender (male/female) \n",
        "# and their type of employment (full-time/part-time). The HR team wants to conduct a survey on the working condition \n",
        "# that will be representative of the general opinion without interviewing every employee. \n",
        "# They request you conduct stratified sampling before any analysis is done. \n",
        "# ---\n",
        "# Dataset url = http://bit.ly/StratifiedEmployeeDataset\n",
        "\n",
        "# Hint: Perform EDA first\n",
        "\n",
        "\n",
        "Employee = pd.read_excel(\"http://bit.ly/StratifiedEmployeeDataset\")\n",
        "Employee.head(5)"
      ],
      "execution_count": null,
      "outputs": [
        {
          "output_type": "execute_result",
          "data": {
            "text/html": [
              "<div>\n",
              "<style scoped>\n",
              "    .dataframe tbody tr th:only-of-type {\n",
              "        vertical-align: middle;\n",
              "    }\n",
              "\n",
              "    .dataframe tbody tr th {\n",
              "        vertical-align: top;\n",
              "    }\n",
              "\n",
              "    .dataframe thead th {\n",
              "        text-align: right;\n",
              "    }\n",
              "</style>\n",
              "<table border=\"1\" class=\"dataframe\">\n",
              "  <thead>\n",
              "    <tr style=\"text-align: right;\">\n",
              "      <th></th>\n",
              "      <th>Employee</th>\n",
              "      <th>Gender</th>\n",
              "      <th>Time</th>\n",
              "      <th>Strata</th>\n",
              "    </tr>\n",
              "  </thead>\n",
              "  <tbody>\n",
              "    <tr>\n",
              "      <th>0</th>\n",
              "      <td>Em001</td>\n",
              "      <td>Male</td>\n",
              "      <td>Full-time</td>\n",
              "      <td>MF</td>\n",
              "    </tr>\n",
              "    <tr>\n",
              "      <th>1</th>\n",
              "      <td>Em002</td>\n",
              "      <td>Male</td>\n",
              "      <td>Part-time</td>\n",
              "      <td>MP</td>\n",
              "    </tr>\n",
              "    <tr>\n",
              "      <th>2</th>\n",
              "      <td>Em003</td>\n",
              "      <td>Male</td>\n",
              "      <td>Full-time</td>\n",
              "      <td>MF</td>\n",
              "    </tr>\n",
              "    <tr>\n",
              "      <th>3</th>\n",
              "      <td>Em004</td>\n",
              "      <td>Female</td>\n",
              "      <td>Part-time</td>\n",
              "      <td>FP</td>\n",
              "    </tr>\n",
              "    <tr>\n",
              "      <th>4</th>\n",
              "      <td>Em005</td>\n",
              "      <td>Male</td>\n",
              "      <td>Full-time</td>\n",
              "      <td>MF</td>\n",
              "    </tr>\n",
              "  </tbody>\n",
              "</table>\n",
              "</div>"
            ],
            "text/plain": [
              "  Employee  Gender       Time Strata\n",
              "0    Em001    Male  Full-time     MF\n",
              "1    Em002    Male  Part-time     MP\n",
              "2    Em003    Male  Full-time     MF\n",
              "3    Em004  Female  Part-time     FP\n",
              "4    Em005    Male  Full-time     MF"
            ]
          },
          "metadata": {},
          "execution_count": 2
        }
      ]
    }
  ]
}