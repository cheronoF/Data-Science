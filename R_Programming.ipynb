{
  "nbformat": 4,
  "nbformat_minor": 0,
  "metadata": {
    "colab": {
      "name": "R_Programming ",
      "provenance": [],
      "authorship_tag": "ABX9TyNPBQUjSU2K1OsUtm5DWYaR",
      "include_colab_link": true
    },
    "kernelspec": {
      "name": "python3",
      "display_name": "Python 3"
    },
    "language_info": {
      "name": "python"
    }
  },
  "cells": [
    {
      "cell_type": "markdown",
      "metadata": {
        "id": "view-in-github",
        "colab_type": "text"
      },
      "source": [
        "<a href=\"https://colab.research.google.com/github/cheronoF/Data-Science/blob/main/R_Programming.ipynb\" target=\"_parent\"><img src=\"https://colab.research.google.com/assets/colab-badge.svg\" alt=\"Open In Colab\"/></a>"
      ]
    },
    {
      "cell_type": "code",
      "execution_count": null,
      "metadata": {
        "id": "2uWXZllXw4dP"
      },
      "outputs": [],
      "source": [
        "#Run rmagic by executing this command \n",
        "\n",
        "%load_ext rpy2.ipython"
      ]
    },
    {
      "cell_type": "code",
      "source": [
        "# Missing Data\n",
        "\n",
        "## 1. Finding Missing Values\n",
        "\n",
        "\n",
        "# In R, the missing values are shown by the symbol NA. To identify missing values in your dataset the function is.na() is normally used."
      ],
      "metadata": {
        "id": "gK45gyAy9813"
      },
      "execution_count": null,
      "outputs": []
    },
    {
      "cell_type": "code",
      "source": [
        "\n",
        "#### Finding Missing Values Example 1.1 \n",
        "\n",
        "\n",
        "%%R\n",
        "## Example \n",
        "# ---\n",
        "# Lets create a dataset dt\n",
        "# ---\n",
        "# OUR CODE GOES BELOW\n",
        "#\n",
        "Name <- c(\"John\", \"Tim\", NA)\n",
        "Sex <- c(\"men\", \"men\", \"women\")\n",
        "Age <- c(45, 53, NA)\n",
        "dt <- data.frame(Name, Sex, Age)\n",
        "\n",
        "# Then print out this dataset below\n",
        "dt\n",
        "\n",
        "\n",
        "```\n"
      ],
      "metadata": {
        "id": "qq9Al6Z2-cr-"
      },
      "execution_count": null,
      "outputs": []
    },
    {
      "cell_type": "code",
      "source": [
        "\n",
        "\n",
        "```R\n",
        "# Lets Identify missing data in your dataset \n",
        "# by using the function is.na() \n",
        "# ---\n",
        "# \n",
        "is.na(dt)\n",
        "\n",
        "\n",
        "```\n",
        "\n",
        "\n",
        "```R\n",
        "# Example \n",
        "# ---\n",
        "# We can also find out total missing values in each column \n",
        "# by using the function colSums()\n",
        "# ---\n",
        "# OUR CODE GOES BELOW\n",
        "#\n",
        "colSums(is.na(dt))\n",
        "\n",
        "\n",
        "```\n",
        "\n",
        "## 2. Dealing with Missing Values\n",
        "\n",
        "\n",
        "Using na.omit() to omit all rows containing missing values.\n",
        "\n",
        "#### Dealing with Missing Values Code Example 2.1\n",
        "\n",
        "\n",
        "```R\n",
        "## Example \n",
        "# ---\n",
        "# Question: Show all rows from the dataset which don't contain any missing values \n",
        "# ---\n",
        "# OUR CODE GOES BELOW\n",
        "#\n",
        "na.omit(dt)\n",
        "\n",
        "```\n",
        "\n",
        "#### Dealing with Missing Values Code Example 2.2\n",
        "\n",
        "\n",
        "```R\n",
        "## Example \n",
        "# ---\n",
        "# Question: Recode/fill the missing value in a column with a number\n",
        "# ---\n",
        "# OUR CODE GOES BELOW\n",
        "#\n",
        "dt$Age[is.na(dt$Age)] <- 99\n",
        "\n",
        "dt\n",
        "```\n",
        "\n",
        "#### Dealing with Missing Values Code Example 2.3\n",
        "\n",
        "\n",
        "```R\n",
        "## Example\n",
        "# ---\n",
        "# Question: Recode or fill the missing value in a column with the mean value of the column-#-\n",
        "# ---\n",
        "# OUR CODE GOES BELOW\n",
        "#\n",
        "dt$Age[is.na(dt$Age)] <- mean(dt$Age, na.rm = TRUE)\n",
        "\n",
        "# print the dt table below\n",
        "\n",
        "```\n",
        "\n",
        "\n",
        "```R\n",
        "## Challenge 1\n",
        "# ---\n",
        "# Question: Using the given bus dataset below, recode the missing values of the payment_method \n",
        "# and travel_to columns with athen appropriate values\n",
        "# ---\n",
        "# OUR CODE GOES BELOW\n",
        "#\n",
        "\n",
        "# Lets first of all import our data table\n",
        "# ---\n",
        "#\n",
        "library(\"data.table\")\n",
        "bus_dataset <- fread('http://bit.ly/BusNairobiWesternTransport')\n",
        "\n",
        "# First check have a look at the dataset\n",
        "# --\n",
        "#\n",
        "head(bus_dataset)\n",
        "\n",
        "\n",
        "```\n",
        "\n",
        "\n",
        "```R\n",
        "## Challenge 2\n",
        "# ---\n",
        "# Question: Clean the given dataset \n",
        "# ---\n",
        "# Dataset url = http://bit.ly/MS-PropertyDataset\n",
        "# ---\n",
        "# OUR CODE GOES BELOW\n",
        "# \n",
        "\n",
        "\n",
        "```\n",
        "\n",
        "\n",
        "```R\n",
        "## Challenge 3\n",
        "# ---\n",
        "# Question: \n",
        "# ---\n",
        "# Dataset url = http://bit.ly/AirQualityDataset\n",
        "# ---\n",
        "# OUR CODE GOES BELOW\n",
        "# \n",
        "\n",
        "\n",
        "```"
      ],
      "metadata": {
        "id": "AUMD1vpc-O7B"
      },
      "execution_count": null,
      "outputs": []
    },
    {
      "cell_type": "code",
      "source": [
        "%%R \n",
        "x <- 5 \n",
        "y <- 16 \n",
        "\n",
        "## Then, we add x and y together using the addition operator +\n",
        "# ---\n",
        "x + y\n"
      ],
      "metadata": {
        "colab": {
          "base_uri": "https://localhost:8080/"
        },
        "id": "Bsbfc63ZxIAx",
        "outputId": "861c0ed3-466c-42f4-f49c-a58a339087e9"
      },
      "execution_count": null,
      "outputs": [
        {
          "output_type": "stream",
          "name": "stdout",
          "text": [
            "[1] 21\n"
          ]
        }
      ]
    },
    {
      "cell_type": "code",
      "source": [
        "%%R \n",
        "x <- 5 \n",
        "y <- 16 \n",
        "\n",
        "x - y\n"
      ],
      "metadata": {
        "colab": {
          "base_uri": "https://localhost:8080/"
        },
        "id": "p0R-K33Pyczj",
        "outputId": "f0721ced-0803-4fa3-c34b-fded810d95ae"
      },
      "execution_count": null,
      "outputs": [
        {
          "output_type": "stream",
          "name": "stdout",
          "text": [
            "[1] -11\n"
          ]
        }
      ]
    },
    {
      "cell_type": "code",
      "source": [
        "%%R\n",
        "x <- 5 \n",
        "y <- 16 \n",
        "\n",
        "x * y"
      ],
      "metadata": {
        "colab": {
          "base_uri": "https://localhost:8080/"
        },
        "id": "-YxGP3aayumQ",
        "outputId": "94e7876b-55a6-40ff-bf14-88179d059a10"
      },
      "execution_count": null,
      "outputs": [
        {
          "output_type": "stream",
          "name": "stdout",
          "text": [
            "[1] 80\n"
          ]
        }
      ]
    },
    {
      "cell_type": "code",
      "source": [
        "%%R\n",
        "x <- 5 \n",
        "y <- 16 \n",
        "\n",
        "x / y"
      ],
      "metadata": {
        "colab": {
          "base_uri": "https://localhost:8080/"
        },
        "id": "C7olBe3Ay_PE",
        "outputId": "7a95812b-14e6-4a85-8945-c51a4bdda1b5"
      },
      "execution_count": null,
      "outputs": [
        {
          "output_type": "stream",
          "name": "stdout",
          "text": [
            "[1] 0.3125\n"
          ]
        }
      ]
    },
    {
      "cell_type": "code",
      "source": [
        "%%R\n",
        "x <- 5 \n",
        "y <- 16 \n",
        "\n",
        "x %% y"
      ],
      "metadata": {
        "colab": {
          "base_uri": "https://localhost:8080/"
        },
        "id": "NTsX5c4yzBz9",
        "outputId": "b85f2c38-440f-49f0-c87e-2fdc4be270cf"
      },
      "execution_count": null,
      "outputs": [
        {
          "output_type": "stream",
          "name": "stdout",
          "text": [
            "[1] 5\n"
          ]
        }
      ]
    },
    {
      "cell_type": "code",
      "source": [
        ""
      ],
      "metadata": {
        "id": "3qQ3DBj6zKhK"
      },
      "execution_count": null,
      "outputs": []
    }
  ]
}