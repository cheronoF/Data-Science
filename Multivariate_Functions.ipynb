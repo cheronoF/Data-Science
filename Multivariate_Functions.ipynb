{
  "cells": [
    {
      "cell_type": "markdown",
      "metadata": {
        "id": "view-in-github",
        "colab_type": "text"
      },
      "source": [
        "<a href=\"https://colab.research.google.com/github/cheronoF/Data-Science/blob/main/Multivariate_Functions.ipynb\" target=\"_parent\"><img src=\"https://colab.research.google.com/assets/colab-badge.svg\" alt=\"Open In Colab\"/></a>"
      ]
    },
    {
      "cell_type": "code",
      "execution_count": 1,
      "metadata": {
        "id": "uEInauCPMSgs"
      },
      "outputs": [],
      "source": [
        "# PCA \n",
        "# Factor Analysis \n",
        "# LDA "
      ]
    },
    {
      "cell_type": "markdown",
      "metadata": {
        "id": "5HZt4zWDuu_Y"
      },
      "source": [
        "# Multivariate Functions Lesson\n",
        "Multiple regression is the most commonly utilized multivariate technique.\n",
        "\n",
        "It examines the relationship between a single dependent variable and two or more independent variables. \n",
        "\n",
        "\n",
        "\n",
        "The technique relies upon determining the linear relationship with the lowest sum of squared variances; therefore, assumptions of normality, linearity, and equal variance are carefully observed. \n",
        "The beta coefficients (weights) are the marginal impacts of each variable, and the size of the weight can be interpreted directly. \n",
        "Multiple regression is often used as a forecasting tool\n",
        "\n",
        "\n",
        "# OBJECTIVES\n",
        "The main objective of this leasson is to explain Multivariate techniques to students in a manner that is easy to understand, comprehend and work through.\n",
        "\n",
        "The dataset we're using is “https://archive.ics.uci.edu/ml/datasets/Dry+Bean+Dataset”\n",
        "\n",
        "Data Description:\n",
        "\n",
        "1.) Area (A): The area of a bean zone and the number of pixels within its boundaries\n",
        "\n",
        "2.) Perimeter (P): Bean circumference is defined as the length of its border\n",
        "\n",
        "3.) Major axis length (L): The distance between the ends of the longest line that can be drawn from a bean\n",
        "\n",
        "4.) Minor axis length (l): The longest line that can be drawn from the bean while standing perpendicular to the main axis\n",
        "\n",
        "5.) Aspect ratio (K): Defines the relationship between L and l\n",
        "\n",
        "6.) Eccentricity (Ec): Eccentricity of the ellipse having the same moments as the region\n",
        "\n",
        "7.) Convex area (C): Number of pixels in the smallest convex polygon that can contain the area of a bean seed\n",
        "\n",
        "8.) Equivalent diameter (Ed): The diameter of a circle having the same area as a bean seed area\n",
        "\n",
        "9.) Extent (Ex): The ratio of the pixels in the bounding box to the bean area\n",
        "\n",
        "10.)Solidity (S): Also known as convexity. The ratio of the pixels in the convex shell to those found in beans\n",
        "\n",
        "11.)Roundness (R): Calculated with the following formula: (4piA)/(P^2)\n",
        "\n",
        "12.)Compactness (CO): Measures the roundness of an object: Ed/L\n",
        "\n",
        "13.)ShapeFactor1 (SF1)\n",
        "\n",
        "14.)ShapeFactor2 (SF2)\n",
        "\n",
        "15.)ShapeFactor3 (SF3)\n",
        "\n",
        "16.)ShapeFactor4 (SF4)\n",
        "\n",
        "17.)Class (Seker, Barbunya, Bombay, Cali, Dermosan, Horoz and Sira)\n",
        "\n",
        "\n",
        "The students are provided with two challenges using the following work through\n",
        "\n",
        "Challenge 1 - Classification Problem - Video Gaming Dataset\n",
        "\n",
        "Challenge 2 - Covid 19 Surveillance Data \n",
        "\n",
        "\n",
        "Specific objectives\n",
        "\n",
        "# Defining the Metric for Success\n",
        "To come up with an exercise that clearly explains and takes the students through different multivariate techniques. This will be accompanied by quick prompts and questions about the previously learned Univariate and Bivariate Techniques. \n",
        "\n",
        "# Experimental Design\n",
        "Below is the expected workflow for this project.\n",
        "\n",
        "# Data Cleaning and preparation\n",
        "\n",
        "Loading our libraries and dataset\n",
        "Dealing with missing values\n",
        "Dealing with duplicates\n",
        "Performing EDA\n",
        "\n",
        "# Univariate Analysis\n",
        "# Bivariate Analysis\n",
        "# Multivariate Analysis\n",
        "- What type of relationship is being examined? Dependence or Interdependence \n",
        "# Feature Engineering\n",
        "\n",
        "# Modelling\n",
        "\n",
        "# Conclusion\n",
        "\n",
        "# Recommendations\n",
        "\n",
        "\n",
        "\n",
        "#Checking the data\n",
        "\n",
        "#External Data Source Validation\n",
        "It's very important to make sure that the data matches something outside of the dataset. It allows us to ensure that the measurements are roughly in line with what they should be and it serves as a check on what other things might be wrong in the given dataset. In this case, a mushroom crop data has been used to for validity purposes.\n",
        "\n",
        "#Data Cleaning Procedures\n"
      ]
    },
    {
      "cell_type": "markdown",
      "metadata": {
        "id": "lzKLjZCGxDX5"
      },
      "source": [
        "# Reading the Data "
      ]
    },
    {
      "cell_type": "code",
      "execution_count": 2,
      "metadata": {
        "id": "ktrPinPvxB2n"
      },
      "outputs": [],
      "source": [
        "# Importing Libraries\n",
        "\n",
        "import pandas as pd\n",
        "import numpy as np\n",
        "import matplotlib.pyplot as plt\n",
        "import matplotlib.patches as mpatches\n",
        "\n",
        "import seaborn as sns\n",
        "%matplotlib inline"
      ]
    },
    {
      "cell_type": "code",
      "execution_count": 3,
      "metadata": {
        "id": "XUMo2THzxccj"
      },
      "outputs": [],
      "source": [
        "# Reading the Data \n",
        "\n",
        "\n",
        "df = pd.read_excel(\"/content/Dry_Bean_Dataset.xlsx\")\n"
      ]
    },
    {
      "cell_type": "code",
      "execution_count": 4,
      "metadata": {
        "colab": {
          "base_uri": "https://localhost:8080/",
          "height": 270
        },
        "id": "PoEq1-ssy-p3",
        "outputId": "89b1c76a-dbf8-4c36-b067-792e27a2478e"
      },
      "outputs": [
        {
          "output_type": "execute_result",
          "data": {
            "text/plain": [
              "    Area  Perimeter  MajorAxisLength  MinorAxisLength  AspectRation  \\\n",
              "0  28395    610.291       208.178117       173.888747      1.197191   \n",
              "1  28734    638.018       200.524796       182.734419      1.097356   \n",
              "2  29380    624.110       212.826130       175.931143      1.209713   \n",
              "3  30008    645.884       210.557999       182.516516      1.153638   \n",
              "4  30140    620.134       201.847882       190.279279      1.060798   \n",
              "\n",
              "   Eccentricity  ConvexArea  EquivDiameter    Extent  Solidity  roundness  \\\n",
              "0      0.549812       28715     190.141097  0.763923  0.988856   0.958027   \n",
              "1      0.411785       29172     191.272750  0.783968  0.984986   0.887034   \n",
              "2      0.562727       29690     193.410904  0.778113  0.989559   0.947849   \n",
              "3      0.498616       30724     195.467062  0.782681  0.976696   0.903936   \n",
              "4      0.333680       30417     195.896503  0.773098  0.990893   0.984877   \n",
              "\n",
              "   Compactness  ShapeFactor1  ShapeFactor2  ShapeFactor3  ShapeFactor4  Class  \n",
              "0     0.913358      0.007332      0.003147      0.834222      0.998724  SEKER  \n",
              "1     0.953861      0.006979      0.003564      0.909851      0.998430  SEKER  \n",
              "2     0.908774      0.007244      0.003048      0.825871      0.999066  SEKER  \n",
              "3     0.928329      0.007017      0.003215      0.861794      0.994199  SEKER  \n",
              "4     0.970516      0.006697      0.003665      0.941900      0.999166  SEKER  "
            ],
            "text/html": [
              "\n",
              "  <div id=\"df-9135ec61-9ca8-4918-8c6b-efecfa279e94\">\n",
              "    <div class=\"colab-df-container\">\n",
              "      <div>\n",
              "<style scoped>\n",
              "    .dataframe tbody tr th:only-of-type {\n",
              "        vertical-align: middle;\n",
              "    }\n",
              "\n",
              "    .dataframe tbody tr th {\n",
              "        vertical-align: top;\n",
              "    }\n",
              "\n",
              "    .dataframe thead th {\n",
              "        text-align: right;\n",
              "    }\n",
              "</style>\n",
              "<table border=\"1\" class=\"dataframe\">\n",
              "  <thead>\n",
              "    <tr style=\"text-align: right;\">\n",
              "      <th></th>\n",
              "      <th>Area</th>\n",
              "      <th>Perimeter</th>\n",
              "      <th>MajorAxisLength</th>\n",
              "      <th>MinorAxisLength</th>\n",
              "      <th>AspectRation</th>\n",
              "      <th>Eccentricity</th>\n",
              "      <th>ConvexArea</th>\n",
              "      <th>EquivDiameter</th>\n",
              "      <th>Extent</th>\n",
              "      <th>Solidity</th>\n",
              "      <th>roundness</th>\n",
              "      <th>Compactness</th>\n",
              "      <th>ShapeFactor1</th>\n",
              "      <th>ShapeFactor2</th>\n",
              "      <th>ShapeFactor3</th>\n",
              "      <th>ShapeFactor4</th>\n",
              "      <th>Class</th>\n",
              "    </tr>\n",
              "  </thead>\n",
              "  <tbody>\n",
              "    <tr>\n",
              "      <th>0</th>\n",
              "      <td>28395</td>\n",
              "      <td>610.291</td>\n",
              "      <td>208.178117</td>\n",
              "      <td>173.888747</td>\n",
              "      <td>1.197191</td>\n",
              "      <td>0.549812</td>\n",
              "      <td>28715</td>\n",
              "      <td>190.141097</td>\n",
              "      <td>0.763923</td>\n",
              "      <td>0.988856</td>\n",
              "      <td>0.958027</td>\n",
              "      <td>0.913358</td>\n",
              "      <td>0.007332</td>\n",
              "      <td>0.003147</td>\n",
              "      <td>0.834222</td>\n",
              "      <td>0.998724</td>\n",
              "      <td>SEKER</td>\n",
              "    </tr>\n",
              "    <tr>\n",
              "      <th>1</th>\n",
              "      <td>28734</td>\n",
              "      <td>638.018</td>\n",
              "      <td>200.524796</td>\n",
              "      <td>182.734419</td>\n",
              "      <td>1.097356</td>\n",
              "      <td>0.411785</td>\n",
              "      <td>29172</td>\n",
              "      <td>191.272750</td>\n",
              "      <td>0.783968</td>\n",
              "      <td>0.984986</td>\n",
              "      <td>0.887034</td>\n",
              "      <td>0.953861</td>\n",
              "      <td>0.006979</td>\n",
              "      <td>0.003564</td>\n",
              "      <td>0.909851</td>\n",
              "      <td>0.998430</td>\n",
              "      <td>SEKER</td>\n",
              "    </tr>\n",
              "    <tr>\n",
              "      <th>2</th>\n",
              "      <td>29380</td>\n",
              "      <td>624.110</td>\n",
              "      <td>212.826130</td>\n",
              "      <td>175.931143</td>\n",
              "      <td>1.209713</td>\n",
              "      <td>0.562727</td>\n",
              "      <td>29690</td>\n",
              "      <td>193.410904</td>\n",
              "      <td>0.778113</td>\n",
              "      <td>0.989559</td>\n",
              "      <td>0.947849</td>\n",
              "      <td>0.908774</td>\n",
              "      <td>0.007244</td>\n",
              "      <td>0.003048</td>\n",
              "      <td>0.825871</td>\n",
              "      <td>0.999066</td>\n",
              "      <td>SEKER</td>\n",
              "    </tr>\n",
              "    <tr>\n",
              "      <th>3</th>\n",
              "      <td>30008</td>\n",
              "      <td>645.884</td>\n",
              "      <td>210.557999</td>\n",
              "      <td>182.516516</td>\n",
              "      <td>1.153638</td>\n",
              "      <td>0.498616</td>\n",
              "      <td>30724</td>\n",
              "      <td>195.467062</td>\n",
              "      <td>0.782681</td>\n",
              "      <td>0.976696</td>\n",
              "      <td>0.903936</td>\n",
              "      <td>0.928329</td>\n",
              "      <td>0.007017</td>\n",
              "      <td>0.003215</td>\n",
              "      <td>0.861794</td>\n",
              "      <td>0.994199</td>\n",
              "      <td>SEKER</td>\n",
              "    </tr>\n",
              "    <tr>\n",
              "      <th>4</th>\n",
              "      <td>30140</td>\n",
              "      <td>620.134</td>\n",
              "      <td>201.847882</td>\n",
              "      <td>190.279279</td>\n",
              "      <td>1.060798</td>\n",
              "      <td>0.333680</td>\n",
              "      <td>30417</td>\n",
              "      <td>195.896503</td>\n",
              "      <td>0.773098</td>\n",
              "      <td>0.990893</td>\n",
              "      <td>0.984877</td>\n",
              "      <td>0.970516</td>\n",
              "      <td>0.006697</td>\n",
              "      <td>0.003665</td>\n",
              "      <td>0.941900</td>\n",
              "      <td>0.999166</td>\n",
              "      <td>SEKER</td>\n",
              "    </tr>\n",
              "  </tbody>\n",
              "</table>\n",
              "</div>\n",
              "      <button class=\"colab-df-convert\" onclick=\"convertToInteractive('df-9135ec61-9ca8-4918-8c6b-efecfa279e94')\"\n",
              "              title=\"Convert this dataframe to an interactive table.\"\n",
              "              style=\"display:none;\">\n",
              "        \n",
              "  <svg xmlns=\"http://www.w3.org/2000/svg\" height=\"24px\"viewBox=\"0 0 24 24\"\n",
              "       width=\"24px\">\n",
              "    <path d=\"M0 0h24v24H0V0z\" fill=\"none\"/>\n",
              "    <path d=\"M18.56 5.44l.94 2.06.94-2.06 2.06-.94-2.06-.94-.94-2.06-.94 2.06-2.06.94zm-11 1L8.5 8.5l.94-2.06 2.06-.94-2.06-.94L8.5 2.5l-.94 2.06-2.06.94zm10 10l.94 2.06.94-2.06 2.06-.94-2.06-.94-.94-2.06-.94 2.06-2.06.94z\"/><path d=\"M17.41 7.96l-1.37-1.37c-.4-.4-.92-.59-1.43-.59-.52 0-1.04.2-1.43.59L10.3 9.45l-7.72 7.72c-.78.78-.78 2.05 0 2.83L4 21.41c.39.39.9.59 1.41.59.51 0 1.02-.2 1.41-.59l7.78-7.78 2.81-2.81c.8-.78.8-2.07 0-2.86zM5.41 20L4 18.59l7.72-7.72 1.47 1.35L5.41 20z\"/>\n",
              "  </svg>\n",
              "      </button>\n",
              "      \n",
              "  <style>\n",
              "    .colab-df-container {\n",
              "      display:flex;\n",
              "      flex-wrap:wrap;\n",
              "      gap: 12px;\n",
              "    }\n",
              "\n",
              "    .colab-df-convert {\n",
              "      background-color: #E8F0FE;\n",
              "      border: none;\n",
              "      border-radius: 50%;\n",
              "      cursor: pointer;\n",
              "      display: none;\n",
              "      fill: #1967D2;\n",
              "      height: 32px;\n",
              "      padding: 0 0 0 0;\n",
              "      width: 32px;\n",
              "    }\n",
              "\n",
              "    .colab-df-convert:hover {\n",
              "      background-color: #E2EBFA;\n",
              "      box-shadow: 0px 1px 2px rgba(60, 64, 67, 0.3), 0px 1px 3px 1px rgba(60, 64, 67, 0.15);\n",
              "      fill: #174EA6;\n",
              "    }\n",
              "\n",
              "    [theme=dark] .colab-df-convert {\n",
              "      background-color: #3B4455;\n",
              "      fill: #D2E3FC;\n",
              "    }\n",
              "\n",
              "    [theme=dark] .colab-df-convert:hover {\n",
              "      background-color: #434B5C;\n",
              "      box-shadow: 0px 1px 3px 1px rgba(0, 0, 0, 0.15);\n",
              "      filter: drop-shadow(0px 1px 2px rgba(0, 0, 0, 0.3));\n",
              "      fill: #FFFFFF;\n",
              "    }\n",
              "  </style>\n",
              "\n",
              "      <script>\n",
              "        const buttonEl =\n",
              "          document.querySelector('#df-9135ec61-9ca8-4918-8c6b-efecfa279e94 button.colab-df-convert');\n",
              "        buttonEl.style.display =\n",
              "          google.colab.kernel.accessAllowed ? 'block' : 'none';\n",
              "\n",
              "        async function convertToInteractive(key) {\n",
              "          const element = document.querySelector('#df-9135ec61-9ca8-4918-8c6b-efecfa279e94');\n",
              "          const dataTable =\n",
              "            await google.colab.kernel.invokeFunction('convertToInteractive',\n",
              "                                                     [key], {});\n",
              "          if (!dataTable) return;\n",
              "\n",
              "          const docLinkHtml = 'Like what you see? Visit the ' +\n",
              "            '<a target=\"_blank\" href=https://colab.research.google.com/notebooks/data_table.ipynb>data table notebook</a>'\n",
              "            + ' to learn more about interactive tables.';\n",
              "          element.innerHTML = '';\n",
              "          dataTable['output_type'] = 'display_data';\n",
              "          await google.colab.output.renderOutput(dataTable, element);\n",
              "          const docLink = document.createElement('div');\n",
              "          docLink.innerHTML = docLinkHtml;\n",
              "          element.appendChild(docLink);\n",
              "        }\n",
              "      </script>\n",
              "    </div>\n",
              "  </div>\n",
              "  "
            ]
          },
          "metadata": {},
          "execution_count": 4
        }
      ],
      "source": [
        "# Viewing the first 5 rows \n",
        "df.head(5)"
      ]
    },
    {
      "cell_type": "code",
      "execution_count": 5,
      "metadata": {
        "colab": {
          "base_uri": "https://localhost:8080/",
          "height": 270
        },
        "id": "Rpf5y_QozIv1",
        "outputId": "e74d05e1-1b42-4ef4-f5bd-573d07e8d468"
      },
      "outputs": [
        {
          "output_type": "execute_result",
          "data": {
            "text/plain": [
              "        Area  Perimeter  MajorAxisLength  MinorAxisLength  AspectRation  \\\n",
              "13606  42097    759.696       288.721612       185.944705      1.552728   \n",
              "13607  42101    757.499       281.576392       190.713136      1.476439   \n",
              "13608  42139    759.321       281.539928       191.187979      1.472582   \n",
              "13609  42147    763.779       283.382636       190.275731      1.489326   \n",
              "13610  42159    772.237       295.142741       182.204716      1.619841   \n",
              "\n",
              "       Eccentricity  ConvexArea  EquivDiameter    Extent  Solidity  roundness  \\\n",
              "13606      0.765002       42508     231.515799  0.714574  0.990331   0.916603   \n",
              "13607      0.735702       42494     231.526798  0.799943  0.990752   0.922015   \n",
              "13608      0.734065       42569     231.631261  0.729932  0.989899   0.918424   \n",
              "13609      0.741055       42667     231.653248  0.705389  0.987813   0.907906   \n",
              "13610      0.786693       42600     231.686223  0.788962  0.989648   0.888380   \n",
              "\n",
              "       Compactness  ShapeFactor1  ShapeFactor2  ShapeFactor3  ShapeFactor4  \\\n",
              "13606     0.801865      0.006858      0.001749      0.642988      0.998385   \n",
              "13607     0.822252      0.006688      0.001886      0.676099      0.998219   \n",
              "13608     0.822730      0.006681      0.001888      0.676884      0.996767   \n",
              "13609     0.817457      0.006724      0.001852      0.668237      0.995222   \n",
              "13610     0.784997      0.007001      0.001640      0.616221      0.998180   \n",
              "\n",
              "          Class  \n",
              "13606  DERMASON  \n",
              "13607  DERMASON  \n",
              "13608  DERMASON  \n",
              "13609  DERMASON  \n",
              "13610  DERMASON  "
            ],
            "text/html": [
              "\n",
              "  <div id=\"df-9e8505d3-5e84-4f79-80c9-020f6d8a4667\">\n",
              "    <div class=\"colab-df-container\">\n",
              "      <div>\n",
              "<style scoped>\n",
              "    .dataframe tbody tr th:only-of-type {\n",
              "        vertical-align: middle;\n",
              "    }\n",
              "\n",
              "    .dataframe tbody tr th {\n",
              "        vertical-align: top;\n",
              "    }\n",
              "\n",
              "    .dataframe thead th {\n",
              "        text-align: right;\n",
              "    }\n",
              "</style>\n",
              "<table border=\"1\" class=\"dataframe\">\n",
              "  <thead>\n",
              "    <tr style=\"text-align: right;\">\n",
              "      <th></th>\n",
              "      <th>Area</th>\n",
              "      <th>Perimeter</th>\n",
              "      <th>MajorAxisLength</th>\n",
              "      <th>MinorAxisLength</th>\n",
              "      <th>AspectRation</th>\n",
              "      <th>Eccentricity</th>\n",
              "      <th>ConvexArea</th>\n",
              "      <th>EquivDiameter</th>\n",
              "      <th>Extent</th>\n",
              "      <th>Solidity</th>\n",
              "      <th>roundness</th>\n",
              "      <th>Compactness</th>\n",
              "      <th>ShapeFactor1</th>\n",
              "      <th>ShapeFactor2</th>\n",
              "      <th>ShapeFactor3</th>\n",
              "      <th>ShapeFactor4</th>\n",
              "      <th>Class</th>\n",
              "    </tr>\n",
              "  </thead>\n",
              "  <tbody>\n",
              "    <tr>\n",
              "      <th>13606</th>\n",
              "      <td>42097</td>\n",
              "      <td>759.696</td>\n",
              "      <td>288.721612</td>\n",
              "      <td>185.944705</td>\n",
              "      <td>1.552728</td>\n",
              "      <td>0.765002</td>\n",
              "      <td>42508</td>\n",
              "      <td>231.515799</td>\n",
              "      <td>0.714574</td>\n",
              "      <td>0.990331</td>\n",
              "      <td>0.916603</td>\n",
              "      <td>0.801865</td>\n",
              "      <td>0.006858</td>\n",
              "      <td>0.001749</td>\n",
              "      <td>0.642988</td>\n",
              "      <td>0.998385</td>\n",
              "      <td>DERMASON</td>\n",
              "    </tr>\n",
              "    <tr>\n",
              "      <th>13607</th>\n",
              "      <td>42101</td>\n",
              "      <td>757.499</td>\n",
              "      <td>281.576392</td>\n",
              "      <td>190.713136</td>\n",
              "      <td>1.476439</td>\n",
              "      <td>0.735702</td>\n",
              "      <td>42494</td>\n",
              "      <td>231.526798</td>\n",
              "      <td>0.799943</td>\n",
              "      <td>0.990752</td>\n",
              "      <td>0.922015</td>\n",
              "      <td>0.822252</td>\n",
              "      <td>0.006688</td>\n",
              "      <td>0.001886</td>\n",
              "      <td>0.676099</td>\n",
              "      <td>0.998219</td>\n",
              "      <td>DERMASON</td>\n",
              "    </tr>\n",
              "    <tr>\n",
              "      <th>13608</th>\n",
              "      <td>42139</td>\n",
              "      <td>759.321</td>\n",
              "      <td>281.539928</td>\n",
              "      <td>191.187979</td>\n",
              "      <td>1.472582</td>\n",
              "      <td>0.734065</td>\n",
              "      <td>42569</td>\n",
              "      <td>231.631261</td>\n",
              "      <td>0.729932</td>\n",
              "      <td>0.989899</td>\n",
              "      <td>0.918424</td>\n",
              "      <td>0.822730</td>\n",
              "      <td>0.006681</td>\n",
              "      <td>0.001888</td>\n",
              "      <td>0.676884</td>\n",
              "      <td>0.996767</td>\n",
              "      <td>DERMASON</td>\n",
              "    </tr>\n",
              "    <tr>\n",
              "      <th>13609</th>\n",
              "      <td>42147</td>\n",
              "      <td>763.779</td>\n",
              "      <td>283.382636</td>\n",
              "      <td>190.275731</td>\n",
              "      <td>1.489326</td>\n",
              "      <td>0.741055</td>\n",
              "      <td>42667</td>\n",
              "      <td>231.653248</td>\n",
              "      <td>0.705389</td>\n",
              "      <td>0.987813</td>\n",
              "      <td>0.907906</td>\n",
              "      <td>0.817457</td>\n",
              "      <td>0.006724</td>\n",
              "      <td>0.001852</td>\n",
              "      <td>0.668237</td>\n",
              "      <td>0.995222</td>\n",
              "      <td>DERMASON</td>\n",
              "    </tr>\n",
              "    <tr>\n",
              "      <th>13610</th>\n",
              "      <td>42159</td>\n",
              "      <td>772.237</td>\n",
              "      <td>295.142741</td>\n",
              "      <td>182.204716</td>\n",
              "      <td>1.619841</td>\n",
              "      <td>0.786693</td>\n",
              "      <td>42600</td>\n",
              "      <td>231.686223</td>\n",
              "      <td>0.788962</td>\n",
              "      <td>0.989648</td>\n",
              "      <td>0.888380</td>\n",
              "      <td>0.784997</td>\n",
              "      <td>0.007001</td>\n",
              "      <td>0.001640</td>\n",
              "      <td>0.616221</td>\n",
              "      <td>0.998180</td>\n",
              "      <td>DERMASON</td>\n",
              "    </tr>\n",
              "  </tbody>\n",
              "</table>\n",
              "</div>\n",
              "      <button class=\"colab-df-convert\" onclick=\"convertToInteractive('df-9e8505d3-5e84-4f79-80c9-020f6d8a4667')\"\n",
              "              title=\"Convert this dataframe to an interactive table.\"\n",
              "              style=\"display:none;\">\n",
              "        \n",
              "  <svg xmlns=\"http://www.w3.org/2000/svg\" height=\"24px\"viewBox=\"0 0 24 24\"\n",
              "       width=\"24px\">\n",
              "    <path d=\"M0 0h24v24H0V0z\" fill=\"none\"/>\n",
              "    <path d=\"M18.56 5.44l.94 2.06.94-2.06 2.06-.94-2.06-.94-.94-2.06-.94 2.06-2.06.94zm-11 1L8.5 8.5l.94-2.06 2.06-.94-2.06-.94L8.5 2.5l-.94 2.06-2.06.94zm10 10l.94 2.06.94-2.06 2.06-.94-2.06-.94-.94-2.06-.94 2.06-2.06.94z\"/><path d=\"M17.41 7.96l-1.37-1.37c-.4-.4-.92-.59-1.43-.59-.52 0-1.04.2-1.43.59L10.3 9.45l-7.72 7.72c-.78.78-.78 2.05 0 2.83L4 21.41c.39.39.9.59 1.41.59.51 0 1.02-.2 1.41-.59l7.78-7.78 2.81-2.81c.8-.78.8-2.07 0-2.86zM5.41 20L4 18.59l7.72-7.72 1.47 1.35L5.41 20z\"/>\n",
              "  </svg>\n",
              "      </button>\n",
              "      \n",
              "  <style>\n",
              "    .colab-df-container {\n",
              "      display:flex;\n",
              "      flex-wrap:wrap;\n",
              "      gap: 12px;\n",
              "    }\n",
              "\n",
              "    .colab-df-convert {\n",
              "      background-color: #E8F0FE;\n",
              "      border: none;\n",
              "      border-radius: 50%;\n",
              "      cursor: pointer;\n",
              "      display: none;\n",
              "      fill: #1967D2;\n",
              "      height: 32px;\n",
              "      padding: 0 0 0 0;\n",
              "      width: 32px;\n",
              "    }\n",
              "\n",
              "    .colab-df-convert:hover {\n",
              "      background-color: #E2EBFA;\n",
              "      box-shadow: 0px 1px 2px rgba(60, 64, 67, 0.3), 0px 1px 3px 1px rgba(60, 64, 67, 0.15);\n",
              "      fill: #174EA6;\n",
              "    }\n",
              "\n",
              "    [theme=dark] .colab-df-convert {\n",
              "      background-color: #3B4455;\n",
              "      fill: #D2E3FC;\n",
              "    }\n",
              "\n",
              "    [theme=dark] .colab-df-convert:hover {\n",
              "      background-color: #434B5C;\n",
              "      box-shadow: 0px 1px 3px 1px rgba(0, 0, 0, 0.15);\n",
              "      filter: drop-shadow(0px 1px 2px rgba(0, 0, 0, 0.3));\n",
              "      fill: #FFFFFF;\n",
              "    }\n",
              "  </style>\n",
              "\n",
              "      <script>\n",
              "        const buttonEl =\n",
              "          document.querySelector('#df-9e8505d3-5e84-4f79-80c9-020f6d8a4667 button.colab-df-convert');\n",
              "        buttonEl.style.display =\n",
              "          google.colab.kernel.accessAllowed ? 'block' : 'none';\n",
              "\n",
              "        async function convertToInteractive(key) {\n",
              "          const element = document.querySelector('#df-9e8505d3-5e84-4f79-80c9-020f6d8a4667');\n",
              "          const dataTable =\n",
              "            await google.colab.kernel.invokeFunction('convertToInteractive',\n",
              "                                                     [key], {});\n",
              "          if (!dataTable) return;\n",
              "\n",
              "          const docLinkHtml = 'Like what you see? Visit the ' +\n",
              "            '<a target=\"_blank\" href=https://colab.research.google.com/notebooks/data_table.ipynb>data table notebook</a>'\n",
              "            + ' to learn more about interactive tables.';\n",
              "          element.innerHTML = '';\n",
              "          dataTable['output_type'] = 'display_data';\n",
              "          await google.colab.output.renderOutput(dataTable, element);\n",
              "          const docLink = document.createElement('div');\n",
              "          docLink.innerHTML = docLinkHtml;\n",
              "          element.appendChild(docLink);\n",
              "        }\n",
              "      </script>\n",
              "    </div>\n",
              "  </div>\n",
              "  "
            ]
          },
          "metadata": {},
          "execution_count": 5
        }
      ],
      "source": [
        "# Viewing the last 5 rows \n",
        "df.tail(5)"
      ]
    },
    {
      "cell_type": "markdown",
      "metadata": {
        "id": "_12d_zg2G50G"
      },
      "source": [
        "# Checking the Data"
      ]
    },
    {
      "cell_type": "code",
      "execution_count": 6,
      "metadata": {
        "colab": {
          "base_uri": "https://localhost:8080/"
        },
        "id": "kZZ0tsY4G5fF",
        "outputId": "ec15da30-cb85-4479-cd45-f2d453588d6c"
      },
      "outputs": [
        {
          "output_type": "execute_result",
          "data": {
            "text/plain": [
              "(13611, 17)"
            ]
          },
          "metadata": {},
          "execution_count": 6
        }
      ],
      "source": [
        "# Checking the size of the dataset \n",
        "df.shape "
      ]
    },
    {
      "cell_type": "code",
      "execution_count": 7,
      "metadata": {
        "colab": {
          "base_uri": "https://localhost:8080/"
        },
        "id": "evxkT45AG-aA",
        "outputId": "b5985ba0-4523-461a-a483-56adf7151651"
      },
      "outputs": [
        {
          "output_type": "execute_result",
          "data": {
            "text/plain": [
              "Area                 int64\n",
              "Perimeter          float64\n",
              "MajorAxisLength    float64\n",
              "MinorAxisLength    float64\n",
              "AspectRation       float64\n",
              "Eccentricity       float64\n",
              "ConvexArea           int64\n",
              "EquivDiameter      float64\n",
              "Extent             float64\n",
              "Solidity           float64\n",
              "roundness          float64\n",
              "Compactness        float64\n",
              "ShapeFactor1       float64\n",
              "ShapeFactor2       float64\n",
              "ShapeFactor3       float64\n",
              "ShapeFactor4       float64\n",
              "Class               object\n",
              "dtype: object"
            ]
          },
          "metadata": {},
          "execution_count": 7
        }
      ],
      "source": [
        "# Checking the data types \n",
        "df.dtypes "
      ]
    },
    {
      "cell_type": "code",
      "execution_count": 8,
      "metadata": {
        "colab": {
          "base_uri": "https://localhost:8080/",
          "height": 364
        },
        "id": "qvRDdT1oHH1U",
        "outputId": "6bdb9ccc-83a7-4b07-d489-483c4843e5cd"
      },
      "outputs": [
        {
          "output_type": "execute_result",
          "data": {
            "text/plain": [
              "                Area     Perimeter  MajorAxisLength  MinorAxisLength  \\\n",
              "count   13611.000000  13611.000000     13611.000000     13611.000000   \n",
              "mean    53048.284549    855.283459       320.141867       202.270714   \n",
              "std     29324.095717    214.289696        85.694186        44.970091   \n",
              "min     20420.000000    524.736000       183.601165       122.512653   \n",
              "25%     36328.000000    703.523500       253.303633       175.848170   \n",
              "50%     44652.000000    794.941000       296.883367       192.431733   \n",
              "75%     61332.000000    977.213000       376.495012       217.031741   \n",
              "max    254616.000000   1985.370000       738.860153       460.198497   \n",
              "\n",
              "       AspectRation  Eccentricity     ConvexArea  EquivDiameter        Extent  \\\n",
              "count  13611.000000  13611.000000   13611.000000   13611.000000  13611.000000   \n",
              "mean       1.583242      0.750895   53768.200206     253.064220      0.749733   \n",
              "std        0.246678      0.092002   29774.915817      59.177120      0.049086   \n",
              "min        1.024868      0.218951   20684.000000     161.243764      0.555315   \n",
              "25%        1.432307      0.715928   36714.500000     215.068003      0.718634   \n",
              "50%        1.551124      0.764441   45178.000000     238.438026      0.759859   \n",
              "75%        1.707109      0.810466   62294.000000     279.446467      0.786851   \n",
              "max        2.430306      0.911423  263261.000000     569.374358      0.866195   \n",
              "\n",
              "           Solidity     roundness   Compactness  ShapeFactor1  ShapeFactor2  \\\n",
              "count  13611.000000  13611.000000  13611.000000  13611.000000  13611.000000   \n",
              "mean       0.987143      0.873282      0.799864      0.006564      0.001716   \n",
              "std        0.004660      0.059520      0.061713      0.001128      0.000596   \n",
              "min        0.919246      0.489618      0.640577      0.002778      0.000564   \n",
              "25%        0.985670      0.832096      0.762469      0.005900      0.001154   \n",
              "50%        0.988283      0.883157      0.801277      0.006645      0.001694   \n",
              "75%        0.990013      0.916869      0.834270      0.007271      0.002170   \n",
              "max        0.994677      0.990685      0.987303      0.010451      0.003665   \n",
              "\n",
              "       ShapeFactor3  ShapeFactor4  \n",
              "count  13611.000000  13611.000000  \n",
              "mean       0.643590      0.995063  \n",
              "std        0.098996      0.004366  \n",
              "min        0.410339      0.947687  \n",
              "25%        0.581359      0.993703  \n",
              "50%        0.642044      0.996386  \n",
              "75%        0.696006      0.997883  \n",
              "max        0.974767      0.999733  "
            ],
            "text/html": [
              "\n",
              "  <div id=\"df-9696d078-5519-4c4a-9827-ec07a8f09078\">\n",
              "    <div class=\"colab-df-container\">\n",
              "      <div>\n",
              "<style scoped>\n",
              "    .dataframe tbody tr th:only-of-type {\n",
              "        vertical-align: middle;\n",
              "    }\n",
              "\n",
              "    .dataframe tbody tr th {\n",
              "        vertical-align: top;\n",
              "    }\n",
              "\n",
              "    .dataframe thead th {\n",
              "        text-align: right;\n",
              "    }\n",
              "</style>\n",
              "<table border=\"1\" class=\"dataframe\">\n",
              "  <thead>\n",
              "    <tr style=\"text-align: right;\">\n",
              "      <th></th>\n",
              "      <th>Area</th>\n",
              "      <th>Perimeter</th>\n",
              "      <th>MajorAxisLength</th>\n",
              "      <th>MinorAxisLength</th>\n",
              "      <th>AspectRation</th>\n",
              "      <th>Eccentricity</th>\n",
              "      <th>ConvexArea</th>\n",
              "      <th>EquivDiameter</th>\n",
              "      <th>Extent</th>\n",
              "      <th>Solidity</th>\n",
              "      <th>roundness</th>\n",
              "      <th>Compactness</th>\n",
              "      <th>ShapeFactor1</th>\n",
              "      <th>ShapeFactor2</th>\n",
              "      <th>ShapeFactor3</th>\n",
              "      <th>ShapeFactor4</th>\n",
              "    </tr>\n",
              "  </thead>\n",
              "  <tbody>\n",
              "    <tr>\n",
              "      <th>count</th>\n",
              "      <td>13611.000000</td>\n",
              "      <td>13611.000000</td>\n",
              "      <td>13611.000000</td>\n",
              "      <td>13611.000000</td>\n",
              "      <td>13611.000000</td>\n",
              "      <td>13611.000000</td>\n",
              "      <td>13611.000000</td>\n",
              "      <td>13611.000000</td>\n",
              "      <td>13611.000000</td>\n",
              "      <td>13611.000000</td>\n",
              "      <td>13611.000000</td>\n",
              "      <td>13611.000000</td>\n",
              "      <td>13611.000000</td>\n",
              "      <td>13611.000000</td>\n",
              "      <td>13611.000000</td>\n",
              "      <td>13611.000000</td>\n",
              "    </tr>\n",
              "    <tr>\n",
              "      <th>mean</th>\n",
              "      <td>53048.284549</td>\n",
              "      <td>855.283459</td>\n",
              "      <td>320.141867</td>\n",
              "      <td>202.270714</td>\n",
              "      <td>1.583242</td>\n",
              "      <td>0.750895</td>\n",
              "      <td>53768.200206</td>\n",
              "      <td>253.064220</td>\n",
              "      <td>0.749733</td>\n",
              "      <td>0.987143</td>\n",
              "      <td>0.873282</td>\n",
              "      <td>0.799864</td>\n",
              "      <td>0.006564</td>\n",
              "      <td>0.001716</td>\n",
              "      <td>0.643590</td>\n",
              "      <td>0.995063</td>\n",
              "    </tr>\n",
              "    <tr>\n",
              "      <th>std</th>\n",
              "      <td>29324.095717</td>\n",
              "      <td>214.289696</td>\n",
              "      <td>85.694186</td>\n",
              "      <td>44.970091</td>\n",
              "      <td>0.246678</td>\n",
              "      <td>0.092002</td>\n",
              "      <td>29774.915817</td>\n",
              "      <td>59.177120</td>\n",
              "      <td>0.049086</td>\n",
              "      <td>0.004660</td>\n",
              "      <td>0.059520</td>\n",
              "      <td>0.061713</td>\n",
              "      <td>0.001128</td>\n",
              "      <td>0.000596</td>\n",
              "      <td>0.098996</td>\n",
              "      <td>0.004366</td>\n",
              "    </tr>\n",
              "    <tr>\n",
              "      <th>min</th>\n",
              "      <td>20420.000000</td>\n",
              "      <td>524.736000</td>\n",
              "      <td>183.601165</td>\n",
              "      <td>122.512653</td>\n",
              "      <td>1.024868</td>\n",
              "      <td>0.218951</td>\n",
              "      <td>20684.000000</td>\n",
              "      <td>161.243764</td>\n",
              "      <td>0.555315</td>\n",
              "      <td>0.919246</td>\n",
              "      <td>0.489618</td>\n",
              "      <td>0.640577</td>\n",
              "      <td>0.002778</td>\n",
              "      <td>0.000564</td>\n",
              "      <td>0.410339</td>\n",
              "      <td>0.947687</td>\n",
              "    </tr>\n",
              "    <tr>\n",
              "      <th>25%</th>\n",
              "      <td>36328.000000</td>\n",
              "      <td>703.523500</td>\n",
              "      <td>253.303633</td>\n",
              "      <td>175.848170</td>\n",
              "      <td>1.432307</td>\n",
              "      <td>0.715928</td>\n",
              "      <td>36714.500000</td>\n",
              "      <td>215.068003</td>\n",
              "      <td>0.718634</td>\n",
              "      <td>0.985670</td>\n",
              "      <td>0.832096</td>\n",
              "      <td>0.762469</td>\n",
              "      <td>0.005900</td>\n",
              "      <td>0.001154</td>\n",
              "      <td>0.581359</td>\n",
              "      <td>0.993703</td>\n",
              "    </tr>\n",
              "    <tr>\n",
              "      <th>50%</th>\n",
              "      <td>44652.000000</td>\n",
              "      <td>794.941000</td>\n",
              "      <td>296.883367</td>\n",
              "      <td>192.431733</td>\n",
              "      <td>1.551124</td>\n",
              "      <td>0.764441</td>\n",
              "      <td>45178.000000</td>\n",
              "      <td>238.438026</td>\n",
              "      <td>0.759859</td>\n",
              "      <td>0.988283</td>\n",
              "      <td>0.883157</td>\n",
              "      <td>0.801277</td>\n",
              "      <td>0.006645</td>\n",
              "      <td>0.001694</td>\n",
              "      <td>0.642044</td>\n",
              "      <td>0.996386</td>\n",
              "    </tr>\n",
              "    <tr>\n",
              "      <th>75%</th>\n",
              "      <td>61332.000000</td>\n",
              "      <td>977.213000</td>\n",
              "      <td>376.495012</td>\n",
              "      <td>217.031741</td>\n",
              "      <td>1.707109</td>\n",
              "      <td>0.810466</td>\n",
              "      <td>62294.000000</td>\n",
              "      <td>279.446467</td>\n",
              "      <td>0.786851</td>\n",
              "      <td>0.990013</td>\n",
              "      <td>0.916869</td>\n",
              "      <td>0.834270</td>\n",
              "      <td>0.007271</td>\n",
              "      <td>0.002170</td>\n",
              "      <td>0.696006</td>\n",
              "      <td>0.997883</td>\n",
              "    </tr>\n",
              "    <tr>\n",
              "      <th>max</th>\n",
              "      <td>254616.000000</td>\n",
              "      <td>1985.370000</td>\n",
              "      <td>738.860153</td>\n",
              "      <td>460.198497</td>\n",
              "      <td>2.430306</td>\n",
              "      <td>0.911423</td>\n",
              "      <td>263261.000000</td>\n",
              "      <td>569.374358</td>\n",
              "      <td>0.866195</td>\n",
              "      <td>0.994677</td>\n",
              "      <td>0.990685</td>\n",
              "      <td>0.987303</td>\n",
              "      <td>0.010451</td>\n",
              "      <td>0.003665</td>\n",
              "      <td>0.974767</td>\n",
              "      <td>0.999733</td>\n",
              "    </tr>\n",
              "  </tbody>\n",
              "</table>\n",
              "</div>\n",
              "      <button class=\"colab-df-convert\" onclick=\"convertToInteractive('df-9696d078-5519-4c4a-9827-ec07a8f09078')\"\n",
              "              title=\"Convert this dataframe to an interactive table.\"\n",
              "              style=\"display:none;\">\n",
              "        \n",
              "  <svg xmlns=\"http://www.w3.org/2000/svg\" height=\"24px\"viewBox=\"0 0 24 24\"\n",
              "       width=\"24px\">\n",
              "    <path d=\"M0 0h24v24H0V0z\" fill=\"none\"/>\n",
              "    <path d=\"M18.56 5.44l.94 2.06.94-2.06 2.06-.94-2.06-.94-.94-2.06-.94 2.06-2.06.94zm-11 1L8.5 8.5l.94-2.06 2.06-.94-2.06-.94L8.5 2.5l-.94 2.06-2.06.94zm10 10l.94 2.06.94-2.06 2.06-.94-2.06-.94-.94-2.06-.94 2.06-2.06.94z\"/><path d=\"M17.41 7.96l-1.37-1.37c-.4-.4-.92-.59-1.43-.59-.52 0-1.04.2-1.43.59L10.3 9.45l-7.72 7.72c-.78.78-.78 2.05 0 2.83L4 21.41c.39.39.9.59 1.41.59.51 0 1.02-.2 1.41-.59l7.78-7.78 2.81-2.81c.8-.78.8-2.07 0-2.86zM5.41 20L4 18.59l7.72-7.72 1.47 1.35L5.41 20z\"/>\n",
              "  </svg>\n",
              "      </button>\n",
              "      \n",
              "  <style>\n",
              "    .colab-df-container {\n",
              "      display:flex;\n",
              "      flex-wrap:wrap;\n",
              "      gap: 12px;\n",
              "    }\n",
              "\n",
              "    .colab-df-convert {\n",
              "      background-color: #E8F0FE;\n",
              "      border: none;\n",
              "      border-radius: 50%;\n",
              "      cursor: pointer;\n",
              "      display: none;\n",
              "      fill: #1967D2;\n",
              "      height: 32px;\n",
              "      padding: 0 0 0 0;\n",
              "      width: 32px;\n",
              "    }\n",
              "\n",
              "    .colab-df-convert:hover {\n",
              "      background-color: #E2EBFA;\n",
              "      box-shadow: 0px 1px 2px rgba(60, 64, 67, 0.3), 0px 1px 3px 1px rgba(60, 64, 67, 0.15);\n",
              "      fill: #174EA6;\n",
              "    }\n",
              "\n",
              "    [theme=dark] .colab-df-convert {\n",
              "      background-color: #3B4455;\n",
              "      fill: #D2E3FC;\n",
              "    }\n",
              "\n",
              "    [theme=dark] .colab-df-convert:hover {\n",
              "      background-color: #434B5C;\n",
              "      box-shadow: 0px 1px 3px 1px rgba(0, 0, 0, 0.15);\n",
              "      filter: drop-shadow(0px 1px 2px rgba(0, 0, 0, 0.3));\n",
              "      fill: #FFFFFF;\n",
              "    }\n",
              "  </style>\n",
              "\n",
              "      <script>\n",
              "        const buttonEl =\n",
              "          document.querySelector('#df-9696d078-5519-4c4a-9827-ec07a8f09078 button.colab-df-convert');\n",
              "        buttonEl.style.display =\n",
              "          google.colab.kernel.accessAllowed ? 'block' : 'none';\n",
              "\n",
              "        async function convertToInteractive(key) {\n",
              "          const element = document.querySelector('#df-9696d078-5519-4c4a-9827-ec07a8f09078');\n",
              "          const dataTable =\n",
              "            await google.colab.kernel.invokeFunction('convertToInteractive',\n",
              "                                                     [key], {});\n",
              "          if (!dataTable) return;\n",
              "\n",
              "          const docLinkHtml = 'Like what you see? Visit the ' +\n",
              "            '<a target=\"_blank\" href=https://colab.research.google.com/notebooks/data_table.ipynb>data table notebook</a>'\n",
              "            + ' to learn more about interactive tables.';\n",
              "          element.innerHTML = '';\n",
              "          dataTable['output_type'] = 'display_data';\n",
              "          await google.colab.output.renderOutput(dataTable, element);\n",
              "          const docLink = document.createElement('div');\n",
              "          docLink.innerHTML = docLinkHtml;\n",
              "          element.appendChild(docLink);\n",
              "        }\n",
              "      </script>\n",
              "    </div>\n",
              "  </div>\n",
              "  "
            ]
          },
          "metadata": {},
          "execution_count": 8
        }
      ],
      "source": [
        "# Checking the components of the dataset \n",
        "df.describe() "
      ]
    },
    {
      "cell_type": "code",
      "execution_count": 9,
      "metadata": {
        "colab": {
          "base_uri": "https://localhost:8080/"
        },
        "id": "YQDOgFonpB5g",
        "outputId": "443d5320-8fcd-43dc-d887-a6be3179aee9"
      },
      "outputs": [
        {
          "output_type": "execute_result",
          "data": {
            "text/plain": [
              "Index(['Area', 'Perimeter', 'MajorAxisLength', 'MinorAxisLength',\n",
              "       'AspectRation', 'Eccentricity', 'ConvexArea', 'EquivDiameter', 'Extent',\n",
              "       'Solidity', 'roundness', 'Compactness', 'ShapeFactor1', 'ShapeFactor2',\n",
              "       'ShapeFactor3', 'ShapeFactor4', 'Class'],\n",
              "      dtype='object')"
            ]
          },
          "metadata": {},
          "execution_count": 9
        }
      ],
      "source": [
        "# Checking the column names  \n",
        "df.columns"
      ]
    },
    {
      "cell_type": "code",
      "execution_count": 10,
      "metadata": {
        "colab": {
          "base_uri": "https://localhost:8080/"
        },
        "id": "DoIuF8xzqdoA",
        "outputId": "5ee30eab-3282-4a89-c978-53e441d4088d"
      },
      "outputs": [
        {
          "output_type": "stream",
          "name": "stdout",
          "text": [
            "<class 'pandas.core.frame.DataFrame'>\n",
            "RangeIndex: 13611 entries, 0 to 13610\n",
            "Data columns (total 17 columns):\n",
            " #   Column           Non-Null Count  Dtype  \n",
            "---  ------           --------------  -----  \n",
            " 0   Area             13611 non-null  int64  \n",
            " 1   Perimeter        13611 non-null  float64\n",
            " 2   MajorAxisLength  13611 non-null  float64\n",
            " 3   MinorAxisLength  13611 non-null  float64\n",
            " 4   AspectRation     13611 non-null  float64\n",
            " 5   Eccentricity     13611 non-null  float64\n",
            " 6   ConvexArea       13611 non-null  int64  \n",
            " 7   EquivDiameter    13611 non-null  float64\n",
            " 8   Extent           13611 non-null  float64\n",
            " 9   Solidity         13611 non-null  float64\n",
            " 10  roundness        13611 non-null  float64\n",
            " 11  Compactness      13611 non-null  float64\n",
            " 12  ShapeFactor1     13611 non-null  float64\n",
            " 13  ShapeFactor2     13611 non-null  float64\n",
            " 14  ShapeFactor3     13611 non-null  float64\n",
            " 15  ShapeFactor4     13611 non-null  float64\n",
            " 16  Class            13611 non-null  object \n",
            "dtypes: float64(14), int64(2), object(1)\n",
            "memory usage: 1.8+ MB\n"
          ]
        }
      ],
      "source": [
        "df.info()\n"
      ]
    },
    {
      "cell_type": "markdown",
      "metadata": {
        "id": "AShFF3tgHS-w"
      },
      "source": [
        "# Data Cleaning \n"
      ]
    },
    {
      "cell_type": "code",
      "execution_count": 11,
      "metadata": {
        "colab": {
          "base_uri": "https://localhost:8080/",
          "height": 408
        },
        "id": "R-xCZ6ylHdvp",
        "outputId": "ad5490f0-53ba-4034-ce5e-44f36decf7d1"
      },
      "outputs": [
        {
          "output_type": "stream",
          "name": "stderr",
          "text": [
            "/usr/local/lib/python3.7/dist-packages/seaborn/_decorators.py:43: FutureWarning: Pass the following variable as a keyword arg: x. From version 0.12, the only valid positional argument will be `data`, and passing other arguments without an explicit keyword will result in an error or misinterpretation.\n",
            "  FutureWarning\n"
          ]
        },
        {
          "output_type": "execute_result",
          "data": {
            "text/plain": [
              "<matplotlib.axes._subplots.AxesSubplot at 0x7f6dd156d110>"
            ]
          },
          "metadata": {},
          "execution_count": 11
        },
        {
          "output_type": "display_data",
          "data": {
            "text/plain": [
              "<Figure size 720x360 with 1 Axes>"
            ],
            "image/png": "[encoded data removed]"
          },
          "metadata": {
            "needs_background": "light"
          }
        }
      ],
      "source": [
        "# Checking for outliers for the different variables \n",
        "\n",
        "plt.figure(figsize=(10,5))\n",
        "sns.boxplot(df['Area'])"
      ]
    },
    {
      "cell_type": "code",
      "execution_count": 12,
      "metadata": {
        "colab": {
          "base_uri": "https://localhost:8080/",
          "height": 408
        },
        "id": "1U9jztZ2pW2v",
        "outputId": "534df7d7-066d-44fa-b5f1-714e58fa93bd"
      },
      "outputs": [
        {
          "output_type": "stream",
          "name": "stderr",
          "text": [
            "/usr/local/lib/python3.7/dist-packages/seaborn/_decorators.py:43: FutureWarning: Pass the following variable as a keyword arg: x. From version 0.12, the only valid positional argument will be `data`, and passing other arguments without an explicit keyword will result in an error or misinterpretation.\n",
            "  FutureWarning\n"
          ]
        },
        {
          "output_type": "execute_result",
          "data": {
            "text/plain": [
              "<matplotlib.axes._subplots.AxesSubplot at 0x7f6dd0f73dd0>"
            ]
          },
          "metadata": {},
          "execution_count": 12
        },
        {
          "output_type": "display_data",
          "data": {
            "text/plain": [
              "<Figure size 720x360 with 1 Axes>"
            ],
            "image/png": "[encoded data removed]"
          },
          "metadata": {
            "needs_background": "light"
          }
        }
      ],
      "source": [
        "plt.figure(figsize=(10,5))\n",
        "sns.boxplot(df['Perimeter'])"
      ]
    },
    {
      "cell_type": "code",
      "execution_count": 13,
      "metadata": {
        "colab": {
          "base_uri": "https://localhost:8080/",
          "height": 408
        },
        "id": "y9-EWaWCpffd",
        "outputId": "9b2df73a-a187-434a-c3c3-845d62e67706"
      },
      "outputs": [
        {
          "output_type": "stream",
          "name": "stderr",
          "text": [
            "/usr/local/lib/python3.7/dist-packages/seaborn/_decorators.py:43: FutureWarning: Pass the following variable as a keyword arg: x. From version 0.12, the only valid positional argument will be `data`, and passing other arguments without an explicit keyword will result in an error or misinterpretation.\n",
            "  FutureWarning\n"
          ]
        },
        {
          "output_type": "execute_result",
          "data": {
            "text/plain": [
              "<matplotlib.axes._subplots.AxesSubplot at 0x7f6dd03f09d0>"
            ]
          },
          "metadata": {},
          "execution_count": 13
        },
        {
          "output_type": "display_data",
          "data": {
            "text/plain": [
              "<Figure size 720x360 with 1 Axes>"
            ],
            "image/png": "[encoded data removed]"
          },
          "metadata": {
            "needs_background": "light"
          }
        }
      ],
      "source": [
        "plt.figure(figsize=(10,5))\n",
        "sns.boxplot(df['AspectRation'])"
      ]
    },
    {
      "cell_type": "code",
      "execution_count": 14,
      "metadata": {
        "colab": {
          "base_uri": "https://localhost:8080/",
          "height": 408
        },
        "id": "9U_xwNkrptMs",
        "outputId": "e7d72578-b183-41f9-84e6-4c60f0ce27e2"
      },
      "outputs": [
        {
          "output_type": "stream",
          "name": "stderr",
          "text": [
            "/usr/local/lib/python3.7/dist-packages/seaborn/_decorators.py:43: FutureWarning: Pass the following variable as a keyword arg: x. From version 0.12, the only valid positional argument will be `data`, and passing other arguments without an explicit keyword will result in an error or misinterpretation.\n",
            "  FutureWarning\n"
          ]
        },
        {
          "output_type": "execute_result",
          "data": {
            "text/plain": [
              "<matplotlib.axes._subplots.AxesSubplot at 0x7f6dd057b6d0>"
            ]
          },
          "metadata": {},
          "execution_count": 14
        },
        {
          "output_type": "display_data",
          "data": {
            "text/plain": [
              "<Figure size 720x360 with 1 Axes>"
            ],
            "image/png": "[encoded data removed]"
          },
          "metadata": {
            "needs_background": "light"
          }
        }
      ],
      "source": [
        "plt.figure(figsize=(10,5))\n",
        "sns.boxplot(df['Compactness'])\n"
      ]
    },
    {
      "cell_type": "markdown",
      "source": [
        "We will not drop the outliers since they are a true representation of measurement findings"
      ],
      "metadata": {
        "id": "FsMHhEqoCz2M"
      }
    },
    {
      "cell_type": "code",
      "execution_count": 15,
      "metadata": {
        "colab": {
          "base_uri": "https://localhost:8080/"
        },
        "id": "lZ6KRa8tpwA9",
        "outputId": "60dd8fe3-a940-4c90-f7bc-3e64cdcdb866"
      },
      "outputs": [
        {
          "output_type": "execute_result",
          "data": {
            "text/plain": [
              "13611"
            ]
          },
          "metadata": {},
          "execution_count": 15
        }
      ],
      "source": [
        "# Checking how many classes we have in our target variable \n",
        "df[\"Class\"].count()"
      ]
    },
    {
      "cell_type": "code",
      "execution_count": 16,
      "metadata": {
        "colab": {
          "base_uri": "https://localhost:8080/"
        },
        "id": "z0GSCazrHfqp",
        "outputId": "1913098f-17c7-45c5-de76-489093775051"
      },
      "outputs": [
        {
          "output_type": "execute_result",
          "data": {
            "text/plain": [
              "68"
            ]
          },
          "metadata": {},
          "execution_count": 16
        }
      ],
      "source": [
        "# Checking for duplicates.\n",
        "df.duplicated().sum()\n",
        "# There are a few duplicates in the dataset"
      ]
    },
    {
      "cell_type": "code",
      "execution_count": 17,
      "metadata": {
        "colab": {
          "base_uri": "https://localhost:8080/"
        },
        "id": "fhNFr3s9HteD",
        "outputId": "935fa133-72ed-4428-8f12-49e9fdd2f78c"
      },
      "outputs": [
        {
          "output_type": "execute_result",
          "data": {
            "text/plain": [
              "Area               0\n",
              "Perimeter          0\n",
              "MajorAxisLength    0\n",
              "MinorAxisLength    0\n",
              "AspectRation       0\n",
              "Eccentricity       0\n",
              "ConvexArea         0\n",
              "EquivDiameter      0\n",
              "Extent             0\n",
              "Solidity           0\n",
              "roundness          0\n",
              "Compactness        0\n",
              "ShapeFactor1       0\n",
              "ShapeFactor2       0\n",
              "ShapeFactor3       0\n",
              "ShapeFactor4       0\n",
              "Class              0\n",
              "dtype: int64"
            ]
          },
          "metadata": {},
          "execution_count": 17
        }
      ],
      "source": [
        "# Checking for missing values\n",
        "df.isnull().sum()\n",
        "# There are no missing values in the dataset"
      ]
    },
    {
      "cell_type": "markdown",
      "metadata": {
        "id": "e3l2gjXjH9EV"
      },
      "source": [
        "### Dealing with missing values"
      ]
    },
    {
      "cell_type": "code",
      "execution_count": 18,
      "metadata": {
        "id": "cUveBH2EqFzg"
      },
      "outputs": [],
      "source": [
        "# Dropping the duplicated data since it's a small percentage of the entire dataset\n",
        "\n",
        "df = df.drop_duplicates()"
      ]
    },
    {
      "cell_type": "code",
      "execution_count": 19,
      "metadata": {
        "colab": {
          "base_uri": "https://localhost:8080/",
          "height": 270
        },
        "id": "1ZDTGR9Rqmtj",
        "outputId": "cd000aea-45eb-493a-a551-f58db9e4a144"
      },
      "outputs": [
        {
          "output_type": "execute_result",
          "data": {
            "text/plain": [
              "    Area  Perimeter  MajorAxisLength  MinorAxisLength  AspectRation  \\\n",
              "0  28395    610.291       208.178117       173.888747      1.197191   \n",
              "1  28734    638.018       200.524796       182.734419      1.097356   \n",
              "2  29380    624.110       212.826130       175.931143      1.209713   \n",
              "3  30008    645.884       210.557999       182.516516      1.153638   \n",
              "4  30140    620.134       201.847882       190.279279      1.060798   \n",
              "\n",
              "   Eccentricity  ConvexArea  EquivDiameter    Extent  Solidity  roundness  \\\n",
              "0      0.549812       28715     190.141097  0.763923  0.988856   0.958027   \n",
              "1      0.411785       29172     191.272750  0.783968  0.984986   0.887034   \n",
              "2      0.562727       29690     193.410904  0.778113  0.989559   0.947849   \n",
              "3      0.498616       30724     195.467062  0.782681  0.976696   0.903936   \n",
              "4      0.333680       30417     195.896503  0.773098  0.990893   0.984877   \n",
              "\n",
              "   Compactness  ShapeFactor1  ShapeFactor2  ShapeFactor3  ShapeFactor4  Class  \n",
              "0     0.913358      0.007332      0.003147      0.834222      0.998724  SEKER  \n",
              "1     0.953861      0.006979      0.003564      0.909851      0.998430  SEKER  \n",
              "2     0.908774      0.007244      0.003048      0.825871      0.999066  SEKER  \n",
              "3     0.928329      0.007017      0.003215      0.861794      0.994199  SEKER  \n",
              "4     0.970516      0.006697      0.003665      0.941900      0.999166  SEKER  "
            ],
            "text/html": [
              "\n",
              "  <div id=\"df-06b94190-969b-4ac0-b9c7-3cc012825f85\">\n",
              "    <div class=\"colab-df-container\">\n",
              "      <div>\n",
              "<style scoped>\n",
              "    .dataframe tbody tr th:only-of-type {\n",
              "        vertical-align: middle;\n",
              "    }\n",
              "\n",
              "    .dataframe tbody tr th {\n",
              "        vertical-align: top;\n",
              "    }\n",
              "\n",
              "    .dataframe thead th {\n",
              "        text-align: right;\n",
              "    }\n",
              "</style>\n",
              "<table border=\"1\" class=\"dataframe\">\n",
              "  <thead>\n",
              "    <tr style=\"text-align: right;\">\n",
              "      <th></th>\n",
              "      <th>Area</th>\n",
              "      <th>Perimeter</th>\n",
              "      <th>MajorAxisLength</th>\n",
              "      <th>MinorAxisLength</th>\n",
              "      <th>AspectRation</th>\n",
              "      <th>Eccentricity</th>\n",
              "      <th>ConvexArea</th>\n",
              "      <th>EquivDiameter</th>\n",
              "      <th>Extent</th>\n",
              "      <th>Solidity</th>\n",
              "      <th>roundness</th>\n",
              "      <th>Compactness</th>\n",
              "      <th>ShapeFactor1</th>\n",
              "      <th>ShapeFactor2</th>\n",
              "      <th>ShapeFactor3</th>\n",
              "      <th>ShapeFactor4</th>\n",
              "      <th>Class</th>\n",
              "    </tr>\n",
              "  </thead>\n",
              "  <tbody>\n",
              "    <tr>\n",
              "      <th>0</th>\n",
              "      <td>28395</td>\n",
              "      <td>610.291</td>\n",
              "      <td>208.178117</td>\n",
              "      <td>173.888747</td>\n",
              "      <td>1.197191</td>\n",
              "      <td>0.549812</td>\n",
              "      <td>28715</td>\n",
              "      <td>190.141097</td>\n",
              "      <td>0.763923</td>\n",
              "      <td>0.988856</td>\n",
              "      <td>0.958027</td>\n",
              "      <td>0.913358</td>\n",
              "      <td>0.007332</td>\n",
              "      <td>0.003147</td>\n",
              "      <td>0.834222</td>\n",
              "      <td>0.998724</td>\n",
              "      <td>SEKER</td>\n",
              "    </tr>\n",
              "    <tr>\n",
              "      <th>1</th>\n",
              "      <td>28734</td>\n",
              "      <td>638.018</td>\n",
              "      <td>200.524796</td>\n",
              "      <td>182.734419</td>\n",
              "      <td>1.097356</td>\n",
              "      <td>0.411785</td>\n",
              "      <td>29172</td>\n",
              "      <td>191.272750</td>\n",
              "      <td>0.783968</td>\n",
              "      <td>0.984986</td>\n",
              "      <td>0.887034</td>\n",
              "      <td>0.953861</td>\n",
              "      <td>0.006979</td>\n",
              "      <td>0.003564</td>\n",
              "      <td>0.909851</td>\n",
              "      <td>0.998430</td>\n",
              "      <td>SEKER</td>\n",
              "    </tr>\n",
              "    <tr>\n",
              "      <th>2</th>\n",
              "      <td>29380</td>\n",
              "      <td>624.110</td>\n",
              "      <td>212.826130</td>\n",
              "      <td>175.931143</td>\n",
              "      <td>1.209713</td>\n",
              "      <td>0.562727</td>\n",
              "      <td>29690</td>\n",
              "      <td>193.410904</td>\n",
              "      <td>0.778113</td>\n",
              "      <td>0.989559</td>\n",
              "      <td>0.947849</td>\n",
              "      <td>0.908774</td>\n",
              "      <td>0.007244</td>\n",
              "      <td>0.003048</td>\n",
              "      <td>0.825871</td>\n",
              "      <td>0.999066</td>\n",
              "      <td>SEKER</td>\n",
              "    </tr>\n",
              "    <tr>\n",
              "      <th>3</th>\n",
              "      <td>30008</td>\n",
              "      <td>645.884</td>\n",
              "      <td>210.557999</td>\n",
              "      <td>182.516516</td>\n",
              "      <td>1.153638</td>\n",
              "      <td>0.498616</td>\n",
              "      <td>30724</td>\n",
              "      <td>195.467062</td>\n",
              "      <td>0.782681</td>\n",
              "      <td>0.976696</td>\n",
              "      <td>0.903936</td>\n",
              "      <td>0.928329</td>\n",
              "      <td>0.007017</td>\n",
              "      <td>0.003215</td>\n",
              "      <td>0.861794</td>\n",
              "      <td>0.994199</td>\n",
              "      <td>SEKER</td>\n",
              "    </tr>\n",
              "    <tr>\n",
              "      <th>4</th>\n",
              "      <td>30140</td>\n",
              "      <td>620.134</td>\n",
              "      <td>201.847882</td>\n",
              "      <td>190.279279</td>\n",
              "      <td>1.060798</td>\n",
              "      <td>0.333680</td>\n",
              "      <td>30417</td>\n",
              "      <td>195.896503</td>\n",
              "      <td>0.773098</td>\n",
              "      <td>0.990893</td>\n",
              "      <td>0.984877</td>\n",
              "      <td>0.970516</td>\n",
              "      <td>0.006697</td>\n",
              "      <td>0.003665</td>\n",
              "      <td>0.941900</td>\n",
              "      <td>0.999166</td>\n",
              "      <td>SEKER</td>\n",
              "    </tr>\n",
              "  </tbody>\n",
              "</table>\n",
              "</div>\n",
              "      <button class=\"colab-df-convert\" onclick=\"convertToInteractive('df-06b94190-969b-4ac0-b9c7-3cc012825f85')\"\n",
              "              title=\"Convert this dataframe to an interactive table.\"\n",
              "              style=\"display:none;\">\n",
              "        \n",
              "  <svg xmlns=\"http://www.w3.org/2000/svg\" height=\"24px\"viewBox=\"0 0 24 24\"\n",
              "       width=\"24px\">\n",
              "    <path d=\"M0 0h24v24H0V0z\" fill=\"none\"/>\n",
              "    <path d=\"M18.56 5.44l.94 2.06.94-2.06 2.06-.94-2.06-.94-.94-2.06-.94 2.06-2.06.94zm-11 1L8.5 8.5l.94-2.06 2.06-.94-2.06-.94L8.5 2.5l-.94 2.06-2.06.94zm10 10l.94 2.06.94-2.06 2.06-.94-2.06-.94-.94-2.06-.94 2.06-2.06.94z\"/><path d=\"M17.41 7.96l-1.37-1.37c-.4-.4-.92-.59-1.43-.59-.52 0-1.04.2-1.43.59L10.3 9.45l-7.72 7.72c-.78.78-.78 2.05 0 2.83L4 21.41c.39.39.9.59 1.41.59.51 0 1.02-.2 1.41-.59l7.78-7.78 2.81-2.81c.8-.78.8-2.07 0-2.86zM5.41 20L4 18.59l7.72-7.72 1.47 1.35L5.41 20z\"/>\n",
              "  </svg>\n",
              "      </button>\n",
              "      \n",
              "  <style>\n",
              "    .colab-df-container {\n",
              "      display:flex;\n",
              "      flex-wrap:wrap;\n",
              "      gap: 12px;\n",
              "    }\n",
              "\n",
              "    .colab-df-convert {\n",
              "      background-color: #E8F0FE;\n",
              "      border: none;\n",
              "      border-radius: 50%;\n",
              "      cursor: pointer;\n",
              "      display: none;\n",
              "      fill: #1967D2;\n",
              "      height: 32px;\n",
              "      padding: 0 0 0 0;\n",
              "      width: 32px;\n",
              "    }\n",
              "\n",
              "    .colab-df-convert:hover {\n",
              "      background-color: #E2EBFA;\n",
              "      box-shadow: 0px 1px 2px rgba(60, 64, 67, 0.3), 0px 1px 3px 1px rgba(60, 64, 67, 0.15);\n",
              "      fill: #174EA6;\n",
              "    }\n",
              "\n",
              "    [theme=dark] .colab-df-convert {\n",
              "      background-color: #3B4455;\n",
              "      fill: #D2E3FC;\n",
              "    }\n",
              "\n",
              "    [theme=dark] .colab-df-convert:hover {\n",
              "      background-color: #434B5C;\n",
              "      box-shadow: 0px 1px 3px 1px rgba(0, 0, 0, 0.15);\n",
              "      filter: drop-shadow(0px 1px 2px rgba(0, 0, 0, 0.3));\n",
              "      fill: #FFFFFF;\n",
              "    }\n",
              "  </style>\n",
              "\n",
              "      <script>\n",
              "        const buttonEl =\n",
              "          document.querySelector('#df-06b94190-969b-4ac0-b9c7-3cc012825f85 button.colab-df-convert');\n",
              "        buttonEl.style.display =\n",
              "          google.colab.kernel.accessAllowed ? 'block' : 'none';\n",
              "\n",
              "        async function convertToInteractive(key) {\n",
              "          const element = document.querySelector('#df-06b94190-969b-4ac0-b9c7-3cc012825f85');\n",
              "          const dataTable =\n",
              "            await google.colab.kernel.invokeFunction('convertToInteractive',\n",
              "                                                     [key], {});\n",
              "          if (!dataTable) return;\n",
              "\n",
              "          const docLinkHtml = 'Like what you see? Visit the ' +\n",
              "            '<a target=\"_blank\" href=https://colab.research.google.com/notebooks/data_table.ipynb>data table notebook</a>'\n",
              "            + ' to learn more about interactive tables.';\n",
              "          element.innerHTML = '';\n",
              "          dataTable['output_type'] = 'display_data';\n",
              "          await google.colab.output.renderOutput(dataTable, element);\n",
              "          const docLink = document.createElement('div');\n",
              "          docLink.innerHTML = docLinkHtml;\n",
              "          element.appendChild(docLink);\n",
              "        }\n",
              "      </script>\n",
              "    </div>\n",
              "  </div>\n",
              "  "
            ]
          },
          "metadata": {},
          "execution_count": 19
        }
      ],
      "source": [
        "# Checking the first 5 \n",
        "df.head()"
      ]
    },
    {
      "cell_type": "code",
      "execution_count": 20,
      "metadata": {
        "colab": {
          "base_uri": "https://localhost:8080/"
        },
        "id": "P1vm9wWuqfTJ",
        "outputId": "fd384030-2744-4bd8-9c20-267b49d6bc9f"
      },
      "outputs": [
        {
          "output_type": "execute_result",
          "data": {
            "text/plain": [
              "0"
            ]
          },
          "metadata": {},
          "execution_count": 20
        }
      ],
      "source": [
        "# Checking whether all the duplicated values have been dropped \n",
        "df.duplicated().sum()"
      ]
    },
    {
      "cell_type": "code",
      "execution_count": 21,
      "metadata": {
        "colab": {
          "base_uri": "https://localhost:8080/"
        },
        "id": "hVS_Hvvls5yk",
        "outputId": "576f6e5d-7686-4b2c-b057-5873ba5dd781"
      },
      "outputs": [
        {
          "output_type": "execute_result",
          "data": {
            "text/plain": [
              "DERMASON    3546\n",
              "SIRA        2636\n",
              "SEKER       2027\n",
              "HOROZ       1860\n",
              "CALI        1630\n",
              "BARBUNYA    1322\n",
              "BOMBAY       522\n",
              "Name: Class, dtype: int64"
            ]
          },
          "metadata": {},
          "execution_count": 21
        }
      ],
      "source": [
        "# Viewing the status groups ratio of the waterpoints.\n",
        "Class = df['Class'].value_counts()\n",
        "Class"
      ]
    },
    {
      "cell_type": "code",
      "execution_count": 22,
      "metadata": {
        "colab": {
          "base_uri": "https://localhost:8080/",
          "height": 320
        },
        "id": "AG0nP6l2tX_7",
        "outputId": "02ed58c1-f3c5-4206-ecbb-2a7fb9687db2"
      },
      "outputs": [
        {
          "output_type": "display_data",
          "data": {
            "text/plain": [
              "<Figure size 648x360 with 1 Axes>"
            ],
            "image/png": "[encoded data removed]"
          },
          "metadata": {}
        }
      ],
      "source": [
        "# Visualising the results.\n",
        "\n",
        "labels= ['DERMASON', 'SIRA', 'SEKER', 'HOROZ', 'CALI', 'BARBUNYA', 'BOMBAY']\n",
        "colors=['steelblue', 'lightskyblue','red', 'green', 'yellow']\n",
        "fontsize = 14\n",
        "plt.figure(figsize= (9, 5))\n",
        "plt.title(\"Class\", fontsize = fontsize)\n",
        "plt.pie(Class,labels=labels, colors=colors, startangle=180, shadow=True,explode=(0,0.1,0.2,0.3,0.4,0.5,0.6), autopct='%1.2f%%')\n",
        "plt.axis('equal')\n",
        "plt.show()\n",
        "\n",
        "# Dermason has the highest percentage at 26.18% while Bombay has the least at 3.85% "
      ]
    },
    {
      "cell_type": "markdown",
      "metadata": {
        "id": "Rtq0OwWxINE4"
      },
      "source": [
        "#EDA"
      ]
    },
    {
      "cell_type": "markdown",
      "metadata": {
        "id": "6JgOY2fOINx0"
      },
      "source": [
        "##Univariate Analysis"
      ]
    },
    {
      "cell_type": "code",
      "execution_count": 23,
      "metadata": {
        "colab": {
          "base_uri": "https://localhost:8080/"
        },
        "id": "iPKhBn4UrStg",
        "outputId": "706adb02-100d-4974-afcb-12fa4fd1cb42"
      },
      "outputs": [
        {
          "output_type": "execute_result",
          "data": {
            "text/plain": [
              "Index(['Area', 'Perimeter', 'MajorAxisLength', 'MinorAxisLength',\n",
              "       'AspectRation', 'Eccentricity', 'ConvexArea', 'EquivDiameter', 'Extent',\n",
              "       'Solidity', 'roundness', 'Compactness', 'ShapeFactor1', 'ShapeFactor2',\n",
              "       'ShapeFactor3', 'ShapeFactor4', 'Class'],\n",
              "      dtype='object')"
            ]
          },
          "metadata": {},
          "execution_count": 23
        }
      ],
      "source": [
        "# Checking the column names \n",
        "df.columns"
      ]
    },
    {
      "cell_type": "code",
      "execution_count": 24,
      "metadata": {
        "colab": {
          "base_uri": "https://localhost:8080/"
        },
        "id": "wzKeRrv8rD4u",
        "outputId": "221475cf-2509-45ca-8fe6-71ffd4842f43"
      },
      "outputs": [
        {
          "output_type": "stream",
          "name": "stdout",
          "text": [
            "Maximum Area: 254616\n",
            "Minimum Area: 20420\n",
            "Mean of the Area: 53048.46038543897\n",
            "Modal Area: 0     28122\n",
            "1     29709\n",
            "2     30529\n",
            "3     34594\n",
            "4     34774\n",
            "5     35354\n",
            "6     35442\n",
            "7     36109\n",
            "8     38273\n",
            "9     38426\n",
            "10    38542\n",
            "11    38945\n",
            "12    40504\n",
            "13    52266\n",
            "dtype: int64\n",
            "Median Area: 44580.0\n"
          ]
        }
      ],
      "source": [
        "# Statistical summary for the Area\n",
        "\n",
        "print(\"Maximum Area:\", (df[\"Area\"].max()))\n",
        "print(\"Minimum Area:\", (df[\"Area\"].min()))\n",
        "print(\"Mean of the Area:\", (df[\"Area\"].mean()))\n",
        "print(\"Modal Area:\", (df[\"Area\"].mode()))\n",
        "print(\"Median Area:\", (df[\"Area\"].median()))"
      ]
    },
    {
      "cell_type": "code",
      "execution_count": 25,
      "metadata": {
        "id": "CsrzUfkDtVsc"
      },
      "outputs": [],
      "source": [
        "# Statistical Summary for "
      ]
    },
    {
      "cell_type": "markdown",
      "metadata": {
        "id": "5xCkW8jnIW3E"
      },
      "source": [
        "##Bivariate Analysis"
      ]
    },
    {
      "cell_type": "code",
      "execution_count": 26,
      "metadata": {
        "colab": {
          "base_uri": "https://localhost:8080/",
          "height": 531
        },
        "id": "GImiRgccsxWm",
        "outputId": "28fcab60-4590-4d1a-af7a-1ba3d4054e05"
      },
      "outputs": [
        {
          "output_type": "execute_result",
          "data": {
            "text/plain": [
              "Text(0, 0.5, 'Perimeter')"
            ]
          },
          "metadata": {},
          "execution_count": 26
        },
        {
          "output_type": "display_data",
          "data": {
            "text/plain": [
              "<Figure size 720x576 with 1 Axes>"
            ],
            "image/png": "[encoded data removed]"
          },
          "metadata": {
            "needs_background": "light"
          }
        }
      ],
      "source": [
        "# Scatter plot\n",
        "import matplotlib.pyplot as plt\n",
        "plt.figure(figsize=(10,8))\n",
        "plt.scatter(df.Area,df.Perimeter)\n",
        "# Naming the axes\n",
        "plt.title(\"Area vs Perimeter\")\n",
        "plt.xlabel(\"Area\")\n",
        "plt.ylabel(\"Perimeter\")\n",
        "\n",
        "# There is an evident positive relationship between Area and Perimeter"
      ]
    },
    {
      "cell_type": "code",
      "source": [
        "# Scatter plot\n",
        "import matplotlib.pyplot as plt\n",
        "plt.figure(figsize=(10,8))\n",
        "plt.scatter(df.Area,df.Perimeter)\n",
        "# Naming the axes\n",
        "plt.title(\"Area vs Perimeter\")\n",
        "plt.xlabel(\"Area\")\n",
        "plt.ylabel(\"Perimeter\")\n",
        "\n",
        "# There is an evident positive relationship between Area and Perimeter"
      ],
      "metadata": {
        "id": "edEl-LPtSofa"
      },
      "execution_count": null,
      "outputs": []
    },
    {
      "cell_type": "code",
      "execution_count": 77,
      "metadata": {
        "id": "dD27Ff3nvBa-",
        "colab": {
          "base_uri": "https://localhost:8080/",
          "height": 531
        },
        "outputId": "96d8c324-aee4-4177-a5e7-02c057c258cd"
      },
      "outputs": [
        {
          "output_type": "execute_result",
          "data": {
            "text/plain": [
              "Text(0, 0.5, 'Area')"
            ]
          },
          "metadata": {},
          "execution_count": 77
        },
        {
          "output_type": "display_data",
          "data": {
            "text/plain": [
              "<Figure size 720x576 with 1 Axes>"
            ],
            "image/png": "[encoded data removed]"
          },
          "metadata": {
            "needs_background": "light"
          }
        }
      ],
      "source": [
        "# Scatter plot\n",
        "import matplotlib.pyplot as plt\n",
        "plt.figure(figsize=(10,8))\n",
        "plt.scatter(df.roundness,df.Area)\n",
        "# Naming the axes\n",
        "plt.title(\"roundness vs Area\")\n",
        "plt.xlabel(\"roundness\")\n",
        "plt.ylabel(\"Area\")\n",
        "\n",
        "# There is no evident relationship between roundness and Area"
      ]
    },
    {
      "cell_type": "code",
      "source": [
        "(sns\n",
        "  .FacetGrid(df, \n",
        "             hue='Class',size=10)\n",
        "  .map(sns.kdeplot, 'roundness', shade=True)\n",
        " .add_legend()\n",
        ")"
      ],
      "metadata": {
        "colab": {
          "base_uri": "https://localhost:8080/",
          "height": 804
        },
        "id": "5CjgsbGrMjct",
        "outputId": "d6151b86-22dc-49fa-bffd-093edd99d63e"
      },
      "execution_count": 262,
      "outputs": [
        {
          "output_type": "stream",
          "name": "stderr",
          "text": [
            "/usr/local/lib/python3.7/dist-packages/seaborn/axisgrid.py:337: UserWarning: The `size` parameter has been renamed to `height`; please update your code.\n",
            "  warnings.warn(msg, UserWarning)\n"
          ]
        },
        {
          "output_type": "execute_result",
          "data": {
            "text/plain": [
              "<seaborn.axisgrid.FacetGrid at 0x7fbcf2f30350>"
            ]
          },
          "metadata": {},
          "execution_count": 262
        },
        {
          "output_type": "display_data",
          "data": {
            "text/plain": [
              "<Figure size 813.875x720 with 1 Axes>"
            ],
            "image/png": "[encoded data removed]"
          },
          "metadata": {
            "needs_background": "light"
          }
        }
      ]
    },
    {
      "cell_type": "markdown",
      "metadata": {
        "id": "QjpSjepFIZea"
      },
      "source": [
        "##Multivariate Analysis "
      ]
    },
    {
      "cell_type": "code",
      "execution_count": 29,
      "metadata": {
        "colab": {
          "base_uri": "https://localhost:8080/"
        },
        "id": "6o4dbiklw9aE",
        "outputId": "3b1397fe-c8a3-4c56-b5a7-a4000b82f3c0"
      },
      "outputs": [
        {
          "output_type": "execute_result",
          "data": {
            "text/plain": [
              "(13543, 17)"
            ]
          },
          "metadata": {},
          "execution_count": 29
        }
      ],
      "source": [
        "# Checking the shape \n",
        "df.shape"
      ]
    },
    {
      "cell_type": "code",
      "execution_count": 30,
      "metadata": {
        "colab": {
          "base_uri": "https://localhost:8080/",
          "height": 270
        },
        "id": "hcuZRRw_vhOG",
        "outputId": "0c1a9135-6c36-49fe-e763-c6afce18796c"
      },
      "outputs": [
        {
          "output_type": "execute_result",
          "data": {
            "text/plain": [
              "    Area  Perimeter  MajorAxisLength  MinorAxisLength  AspectRation  \\\n",
              "0  28395    610.291       208.178117       173.888747      1.197191   \n",
              "1  28734    638.018       200.524796       182.734419      1.097356   \n",
              "2  29380    624.110       212.826130       175.931143      1.209713   \n",
              "3  30008    645.884       210.557999       182.516516      1.153638   \n",
              "4  30140    620.134       201.847882       190.279279      1.060798   \n",
              "\n",
              "   Eccentricity  ConvexArea  EquivDiameter    Extent  Solidity  roundness  \\\n",
              "0      0.549812       28715     190.141097  0.763923  0.988856   0.958027   \n",
              "1      0.411785       29172     191.272750  0.783968  0.984986   0.887034   \n",
              "2      0.562727       29690     193.410904  0.778113  0.989559   0.947849   \n",
              "3      0.498616       30724     195.467062  0.782681  0.976696   0.903936   \n",
              "4      0.333680       30417     195.896503  0.773098  0.990893   0.984877   \n",
              "\n",
              "   Compactness  ShapeFactor1  ShapeFactor2  ShapeFactor3  ShapeFactor4  \n",
              "0     0.913358      0.007332      0.003147      0.834222      0.998724  \n",
              "1     0.953861      0.006979      0.003564      0.909851      0.998430  \n",
              "2     0.908774      0.007244      0.003048      0.825871      0.999066  \n",
              "3     0.928329      0.007017      0.003215      0.861794      0.994199  \n",
              "4     0.970516      0.006697      0.003665      0.941900      0.999166  "
            ],
            "text/html": [
              "\n",
              "  <div id=\"df-2e96cd7b-9ac4-4775-806e-91aa4ecdb118\">\n",
              "    <div class=\"colab-df-container\">\n",
              "      <div>\n",
              "<style scoped>\n",
              "    .dataframe tbody tr th:only-of-type {\n",
              "        vertical-align: middle;\n",
              "    }\n",
              "\n",
              "    .dataframe tbody tr th {\n",
              "        vertical-align: top;\n",
              "    }\n",
              "\n",
              "    .dataframe thead th {\n",
              "        text-align: right;\n",
              "    }\n",
              "</style>\n",
              "<table border=\"1\" class=\"dataframe\">\n",
              "  <thead>\n",
              "    <tr style=\"text-align: right;\">\n",
              "      <th></th>\n",
              "      <th>Area</th>\n",
              "      <th>Perimeter</th>\n",
              "      <th>MajorAxisLength</th>\n",
              "      <th>MinorAxisLength</th>\n",
              "      <th>AspectRation</th>\n",
              "      <th>Eccentricity</th>\n",
              "      <th>ConvexArea</th>\n",
              "      <th>EquivDiameter</th>\n",
              "      <th>Extent</th>\n",
              "      <th>Solidity</th>\n",
              "      <th>roundness</th>\n",
              "      <th>Compactness</th>\n",
              "      <th>ShapeFactor1</th>\n",
              "      <th>ShapeFactor2</th>\n",
              "      <th>ShapeFactor3</th>\n",
              "      <th>ShapeFactor4</th>\n",
              "    </tr>\n",
              "  </thead>\n",
              "  <tbody>\n",
              "    <tr>\n",
              "      <th>0</th>\n",
              "      <td>28395</td>\n",
              "      <td>610.291</td>\n",
              "      <td>208.178117</td>\n",
              "      <td>173.888747</td>\n",
              "      <td>1.197191</td>\n",
              "      <td>0.549812</td>\n",
              "      <td>28715</td>\n",
              "      <td>190.141097</td>\n",
              "      <td>0.763923</td>\n",
              "      <td>0.988856</td>\n",
              "      <td>0.958027</td>\n",
              "      <td>0.913358</td>\n",
              "      <td>0.007332</td>\n",
              "      <td>0.003147</td>\n",
              "      <td>0.834222</td>\n",
              "      <td>0.998724</td>\n",
              "    </tr>\n",
              "    <tr>\n",
              "      <th>1</th>\n",
              "      <td>28734</td>\n",
              "      <td>638.018</td>\n",
              "      <td>200.524796</td>\n",
              "      <td>182.734419</td>\n",
              "      <td>1.097356</td>\n",
              "      <td>0.411785</td>\n",
              "      <td>29172</td>\n",
              "      <td>191.272750</td>\n",
              "      <td>0.783968</td>\n",
              "      <td>0.984986</td>\n",
              "      <td>0.887034</td>\n",
              "      <td>0.953861</td>\n",
              "      <td>0.006979</td>\n",
              "      <td>0.003564</td>\n",
              "      <td>0.909851</td>\n",
              "      <td>0.998430</td>\n",
              "    </tr>\n",
              "    <tr>\n",
              "      <th>2</th>\n",
              "      <td>29380</td>\n",
              "      <td>624.110</td>\n",
              "      <td>212.826130</td>\n",
              "      <td>175.931143</td>\n",
              "      <td>1.209713</td>\n",
              "      <td>0.562727</td>\n",
              "      <td>29690</td>\n",
              "      <td>193.410904</td>\n",
              "      <td>0.778113</td>\n",
              "      <td>0.989559</td>\n",
              "      <td>0.947849</td>\n",
              "      <td>0.908774</td>\n",
              "      <td>0.007244</td>\n",
              "      <td>0.003048</td>\n",
              "      <td>0.825871</td>\n",
              "      <td>0.999066</td>\n",
              "    </tr>\n",
              "    <tr>\n",
              "      <th>3</th>\n",
              "      <td>30008</td>\n",
              "      <td>645.884</td>\n",
              "      <td>210.557999</td>\n",
              "      <td>182.516516</td>\n",
              "      <td>1.153638</td>\n",
              "      <td>0.498616</td>\n",
              "      <td>30724</td>\n",
              "      <td>195.467062</td>\n",
              "      <td>0.782681</td>\n",
              "      <td>0.976696</td>\n",
              "      <td>0.903936</td>\n",
              "      <td>0.928329</td>\n",
              "      <td>0.007017</td>\n",
              "      <td>0.003215</td>\n",
              "      <td>0.861794</td>\n",
              "      <td>0.994199</td>\n",
              "    </tr>\n",
              "    <tr>\n",
              "      <th>4</th>\n",
              "      <td>30140</td>\n",
              "      <td>620.134</td>\n",
              "      <td>201.847882</td>\n",
              "      <td>190.279279</td>\n",
              "      <td>1.060798</td>\n",
              "      <td>0.333680</td>\n",
              "      <td>30417</td>\n",
              "      <td>195.896503</td>\n",
              "      <td>0.773098</td>\n",
              "      <td>0.990893</td>\n",
              "      <td>0.984877</td>\n",
              "      <td>0.970516</td>\n",
              "      <td>0.006697</td>\n",
              "      <td>0.003665</td>\n",
              "      <td>0.941900</td>\n",
              "      <td>0.999166</td>\n",
              "    </tr>\n",
              "  </tbody>\n",
              "</table>\n",
              "</div>\n",
              "      <button class=\"colab-df-convert\" onclick=\"convertToInteractive('df-2e96cd7b-9ac4-4775-806e-91aa4ecdb118')\"\n",
              "              title=\"Convert this dataframe to an interactive table.\"\n",
              "              style=\"display:none;\">\n",
              "        \n",
              "  <svg xmlns=\"http://www.w3.org/2000/svg\" height=\"24px\"viewBox=\"0 0 24 24\"\n",
              "       width=\"24px\">\n",
              "    <path d=\"M0 0h24v24H0V0z\" fill=\"none\"/>\n",
              "    <path d=\"M18.56 5.44l.94 2.06.94-2.06 2.06-.94-2.06-.94-.94-2.06-.94 2.06-2.06.94zm-11 1L8.5 8.5l.94-2.06 2.06-.94-2.06-.94L8.5 2.5l-.94 2.06-2.06.94zm10 10l.94 2.06.94-2.06 2.06-.94-2.06-.94-.94-2.06-.94 2.06-2.06.94z\"/><path d=\"M17.41 7.96l-1.37-1.37c-.4-.4-.92-.59-1.43-.59-.52 0-1.04.2-1.43.59L10.3 9.45l-7.72 7.72c-.78.78-.78 2.05 0 2.83L4 21.41c.39.39.9.59 1.41.59.51 0 1.02-.2 1.41-.59l7.78-7.78 2.81-2.81c.8-.78.8-2.07 0-2.86zM5.41 20L4 18.59l7.72-7.72 1.47 1.35L5.41 20z\"/>\n",
              "  </svg>\n",
              "      </button>\n",
              "      \n",
              "  <style>\n",
              "    .colab-df-container {\n",
              "      display:flex;\n",
              "      flex-wrap:wrap;\n",
              "      gap: 12px;\n",
              "    }\n",
              "\n",
              "    .colab-df-convert {\n",
              "      background-color: #E8F0FE;\n",
              "      border: none;\n",
              "      border-radius: 50%;\n",
              "      cursor: pointer;\n",
              "      display: none;\n",
              "      fill: #1967D2;\n",
              "      height: 32px;\n",
              "      padding: 0 0 0 0;\n",
              "      width: 32px;\n",
              "    }\n",
              "\n",
              "    .colab-df-convert:hover {\n",
              "      background-color: #E2EBFA;\n",
              "      box-shadow: 0px 1px 2px rgba(60, 64, 67, 0.3), 0px 1px 3px 1px rgba(60, 64, 67, 0.15);\n",
              "      fill: #174EA6;\n",
              "    }\n",
              "\n",
              "    [theme=dark] .colab-df-convert {\n",
              "      background-color: #3B4455;\n",
              "      fill: #D2E3FC;\n",
              "    }\n",
              "\n",
              "    [theme=dark] .colab-df-convert:hover {\n",
              "      background-color: #434B5C;\n",
              "      box-shadow: 0px 1px 3px 1px rgba(0, 0, 0, 0.15);\n",
              "      filter: drop-shadow(0px 1px 2px rgba(0, 0, 0, 0.3));\n",
              "      fill: #FFFFFF;\n",
              "    }\n",
              "  </style>\n",
              "\n",
              "      <script>\n",
              "        const buttonEl =\n",
              "          document.querySelector('#df-2e96cd7b-9ac4-4775-806e-91aa4ecdb118 button.colab-df-convert');\n",
              "        buttonEl.style.display =\n",
              "          google.colab.kernel.accessAllowed ? 'block' : 'none';\n",
              "\n",
              "        async function convertToInteractive(key) {\n",
              "          const element = document.querySelector('#df-2e96cd7b-9ac4-4775-806e-91aa4ecdb118');\n",
              "          const dataTable =\n",
              "            await google.colab.kernel.invokeFunction('convertToInteractive',\n",
              "                                                     [key], {});\n",
              "          if (!dataTable) return;\n",
              "\n",
              "          const docLinkHtml = 'Like what you see? Visit the ' +\n",
              "            '<a target=\"_blank\" href=https://colab.research.google.com/notebooks/data_table.ipynb>data table notebook</a>'\n",
              "            + ' to learn more about interactive tables.';\n",
              "          element.innerHTML = '';\n",
              "          dataTable['output_type'] = 'display_data';\n",
              "          await google.colab.output.renderOutput(dataTable, element);\n",
              "          const docLink = document.createElement('div');\n",
              "          docLink.innerHTML = docLinkHtml;\n",
              "          element.appendChild(docLink);\n",
              "        }\n",
              "      </script>\n",
              "    </div>\n",
              "  </div>\n",
              "  "
            ]
          },
          "metadata": {},
          "execution_count": 30
        }
      ],
      "source": [
        "# Excluding the target variable \n",
        "features=df.iloc[:, :16]\n",
        "features.head()"
      ]
    },
    {
      "cell_type": "code",
      "execution_count": 31,
      "metadata": {
        "colab": {
          "base_uri": "https://localhost:8080/",
          "height": 668
        },
        "id": "iH-kb6tuxLhl",
        "outputId": "50ae7dd0-a602-4171-ae73-1e30002c502e"
      },
      "outputs": [
        {
          "output_type": "display_data",
          "data": {
            "text/plain": [
              "<Figure size 1008x720 with 2 Axes>"
            ],
            "image/png": "[encoded data removed]"
          },
          "metadata": {
            "needs_background": "light"
          }
        }
      ],
      "source": [
        "# Heatmap to show relationship between variables \n",
        "\n",
        "plt.figure(figsize=(14,10))\n",
        "sns.heatmap(features.corr(),annot=True,cmap=\"Greens\",fmt=\".2f\");\n",
        "plt.show()\n",
        "\n",
        "# From the heatmap, we can see that Area, ConvexArea, Perimeter and Equivadiameter are highly correlated"
      ]
    },
    {
      "cell_type": "code",
      "source": [
        "\n",
        "# Displaying the correlations between the variables\n",
        "#\n",
        "correlation = df.drop('Class', axis = 1).corr()\n",
        "correlation"
      ],
      "metadata": {
        "colab": {
          "base_uri": "https://localhost:8080/",
          "height": 614
        },
        "id": "HAhjl8f9HjzA",
        "outputId": "009e53ac-0d59-4c86-ae6f-1b4b7d70907b"
      },
      "execution_count": 32,
      "outputs": [
        {
          "output_type": "execute_result",
          "data": {
            "text/plain": [
              "                     Area  Perimeter  MajorAxisLength  MinorAxisLength  \\\n",
              "Area             1.000000   0.966908         0.932623         0.952041   \n",
              "Perimeter        0.966908   1.000000         0.977561         0.914336   \n",
              "MajorAxisLength  0.932623   0.977561         1.000000         0.828360   \n",
              "MinorAxisLength  0.952041   0.914336         0.828360         1.000000   \n",
              "AspectRation     0.243698   0.386097         0.550075        -0.005354   \n",
              "Eccentricity     0.268580   0.391062         0.541011         0.022391   \n",
              "ConvexArea       0.999940   0.967871         0.933392         0.951780   \n",
              "EquivDiameter    0.984998   0.991453         0.962271         0.949214   \n",
              "Extent           0.054648  -0.020620        -0.077287         0.145906   \n",
              "Solidity        -0.197333  -0.304662        -0.284857        -0.156819   \n",
              "roundness       -0.359068  -0.548336        -0.595710        -0.214090   \n",
              "Compactness     -0.269797  -0.407426        -0.567902        -0.018618   \n",
              "ShapeFactor1    -0.848390  -0.865756        -0.775840        -0.947194   \n",
              "ShapeFactor2    -0.641208  -0.768590        -0.859401        -0.475326   \n",
              "ShapeFactor3    -0.273754  -0.408888        -0.567607        -0.022744   \n",
              "ShapeFactor4    -0.358019  -0.431215        -0.484464        -0.266402   \n",
              "\n",
              "                 AspectRation  Eccentricity  ConvexArea  EquivDiameter  \\\n",
              "Area                 0.243698      0.268580    0.999940       0.984998   \n",
              "Perimeter            0.386097      0.391062    0.967871       0.991453   \n",
              "MajorAxisLength      0.550075      0.541011    0.933392       0.962271   \n",
              "MinorAxisLength     -0.005354      0.022391    0.951780       0.949214   \n",
              "AspectRation         1.000000      0.924185    0.245267       0.305237   \n",
              "Eccentricity         0.924185      1.000000    0.270350       0.319360   \n",
              "ConvexArea           0.245267      0.270350    1.000000       0.985255   \n",
              "EquivDiameter        0.305237      0.319360    0.985255       1.000000   \n",
              "Extent              -0.371234     -0.319678    0.052864       0.028762   \n",
              "Solidity            -0.269110     -0.298282   -0.206901      -0.232344   \n",
              "roundness           -0.764975     -0.720138   -0.363620      -0.437189   \n",
              "Compactness         -0.987644     -0.970308   -0.271651      -0.328980   \n",
              "ShapeFactor1         0.020875      0.017266   -0.848382      -0.893403   \n",
              "ShapeFactor2        -0.837338     -0.859246   -0.642773      -0.714693   \n",
              "ShapeFactor3        -0.978528     -0.981058   -0.275631      -0.331594   \n",
              "ShapeFactor4        -0.451598     -0.450611   -0.364302      -0.394693   \n",
              "\n",
              "                   Extent  Solidity  roundness  Compactness  ShapeFactor1  \\\n",
              "Area             0.054648 -0.197333  -0.359068    -0.269797     -0.848390   \n",
              "Perimeter       -0.020620 -0.304662  -0.548336    -0.407426     -0.865756   \n",
              "MajorAxisLength -0.077287 -0.284857  -0.595710    -0.567902     -0.775840   \n",
              "MinorAxisLength  0.145906 -0.156819  -0.214090    -0.018618     -0.947194   \n",
              "AspectRation    -0.371234 -0.269110  -0.764975    -0.987644      0.020875   \n",
              "Eccentricity    -0.319678 -0.298282  -0.720138    -0.970308      0.017266   \n",
              "ConvexArea       0.052864 -0.206901  -0.363620    -0.271651     -0.848382   \n",
              "EquivDiameter    0.028762 -0.232344  -0.437189    -0.328980     -0.893403   \n",
              "Extent           1.000000  0.192268   0.344510     0.354912     -0.141525   \n",
              "Solidity         0.192268  1.000000   0.609668     0.304802      0.154346   \n",
              "roundness        0.344510  0.609668   1.000000     0.765995      0.234158   \n",
              "Compactness      0.354912  0.304802   0.765995     1.000000     -0.005980   \n",
              "ShapeFactor1    -0.141525  0.154346   0.234158    -0.005980      1.000000   \n",
              "ShapeFactor2     0.237584  0.344337   0.781468     0.868347      0.473239   \n",
              "ShapeFactor3     0.348226  0.308614   0.761012     0.998684     -0.005050   \n",
              "ShapeFactor4     0.148622  0.700150   0.472776     0.486334      0.251164   \n",
              "\n",
              "                 ShapeFactor2  ShapeFactor3  ShapeFactor4  \n",
              "Area                -0.641208     -0.273754     -0.358019  \n",
              "Perimeter           -0.768590     -0.408888     -0.431215  \n",
              "MajorAxisLength     -0.859401     -0.567607     -0.484464  \n",
              "MinorAxisLength     -0.475326     -0.022744     -0.266402  \n",
              "AspectRation        -0.837338     -0.978528     -0.451598  \n",
              "Eccentricity        -0.859246     -0.981058     -0.450611  \n",
              "ConvexArea          -0.642773     -0.275631     -0.364302  \n",
              "EquivDiameter       -0.714693     -0.331594     -0.394693  \n",
              "Extent               0.237584      0.348226      0.148622  \n",
              "Solidity             0.344337      0.308614      0.700150  \n",
              "roundness            0.781468      0.761012      0.472776  \n",
              "Compactness          0.868347      0.998684      0.486334  \n",
              "ShapeFactor1         0.473239     -0.005050      0.251164  \n",
              "ShapeFactor2         1.000000      0.872318      0.531733  \n",
              "ShapeFactor3         0.872318      1.000000      0.486029  \n",
              "ShapeFactor4         0.531733      0.486029      1.000000  "
            ],
            "text/html": [
              "\n",
              "  <div id=\"df-78caa382-bf96-4962-859f-1e76144d22db\">\n",
              "    <div class=\"colab-df-container\">\n",
              "      <div>\n",
              "<style scoped>\n",
              "    .dataframe tbody tr th:only-of-type {\n",
              "        vertical-align: middle;\n",
              "    }\n",
              "\n",
              "    .dataframe tbody tr th {\n",
              "        vertical-align: top;\n",
              "    }\n",
              "\n",
              "    .dataframe thead th {\n",
              "        text-align: right;\n",
              "    }\n",
              "</style>\n",
              "<table border=\"1\" class=\"dataframe\">\n",
              "  <thead>\n",
              "    <tr style=\"text-align: right;\">\n",
              "      <th></th>\n",
              "      <th>Area</th>\n",
              "      <th>Perimeter</th>\n",
              "      <th>MajorAxisLength</th>\n",
              "      <th>MinorAxisLength</th>\n",
              "      <th>AspectRation</th>\n",
              "      <th>Eccentricity</th>\n",
              "      <th>ConvexArea</th>\n",
              "      <th>EquivDiameter</th>\n",
              "      <th>Extent</th>\n",
              "      <th>Solidity</th>\n",
              "      <th>roundness</th>\n",
              "      <th>Compactness</th>\n",
              "      <th>ShapeFactor1</th>\n",
              "      <th>ShapeFactor2</th>\n",
              "      <th>ShapeFactor3</th>\n",
              "      <th>ShapeFactor4</th>\n",
              "    </tr>\n",
              "  </thead>\n",
              "  <tbody>\n",
              "    <tr>\n",
              "      <th>Area</th>\n",
              "      <td>1.000000</td>\n",
              "      <td>0.966908</td>\n",
              "      <td>0.932623</td>\n",
              "      <td>0.952041</td>\n",
              "      <td>0.243698</td>\n",
              "      <td>0.268580</td>\n",
              "      <td>0.999940</td>\n",
              "      <td>0.984998</td>\n",
              "      <td>0.054648</td>\n",
              "      <td>-0.197333</td>\n",
              "      <td>-0.359068</td>\n",
              "      <td>-0.269797</td>\n",
              "      <td>-0.848390</td>\n",
              "      <td>-0.641208</td>\n",
              "      <td>-0.273754</td>\n",
              "      <td>-0.358019</td>\n",
              "    </tr>\n",
              "    <tr>\n",
              "      <th>Perimeter</th>\n",
              "      <td>0.966908</td>\n",
              "      <td>1.000000</td>\n",
              "      <td>0.977561</td>\n",
              "      <td>0.914336</td>\n",
              "      <td>0.386097</td>\n",
              "      <td>0.391062</td>\n",
              "      <td>0.967871</td>\n",
              "      <td>0.991453</td>\n",
              "      <td>-0.020620</td>\n",
              "      <td>-0.304662</td>\n",
              "      <td>-0.548336</td>\n",
              "      <td>-0.407426</td>\n",
              "      <td>-0.865756</td>\n",
              "      <td>-0.768590</td>\n",
              "      <td>-0.408888</td>\n",
              "      <td>-0.431215</td>\n",
              "    </tr>\n",
              "    <tr>\n",
              "      <th>MajorAxisLength</th>\n",
              "      <td>0.932623</td>\n",
              "      <td>0.977561</td>\n",
              "      <td>1.000000</td>\n",
              "      <td>0.828360</td>\n",
              "      <td>0.550075</td>\n",
              "      <td>0.541011</td>\n",
              "      <td>0.933392</td>\n",
              "      <td>0.962271</td>\n",
              "      <td>-0.077287</td>\n",
              "      <td>-0.284857</td>\n",
              "      <td>-0.595710</td>\n",
              "      <td>-0.567902</td>\n",
              "      <td>-0.775840</td>\n",
              "      <td>-0.859401</td>\n",
              "      <td>-0.567607</td>\n",
              "      <td>-0.484464</td>\n",
              "    </tr>\n",
              "    <tr>\n",
              "      <th>MinorAxisLength</th>\n",
              "      <td>0.952041</td>\n",
              "      <td>0.914336</td>\n",
              "      <td>0.828360</td>\n",
              "      <td>1.000000</td>\n",
              "      <td>-0.005354</td>\n",
              "      <td>0.022391</td>\n",
              "      <td>0.951780</td>\n",
              "      <td>0.949214</td>\n",
              "      <td>0.145906</td>\n",
              "      <td>-0.156819</td>\n",
              "      <td>-0.214090</td>\n",
              "      <td>-0.018618</td>\n",
              "      <td>-0.947194</td>\n",
              "      <td>-0.475326</td>\n",
              "      <td>-0.022744</td>\n",
              "      <td>-0.266402</td>\n",
              "    </tr>\n",
              "    <tr>\n",
              "      <th>AspectRation</th>\n",
              "      <td>0.243698</td>\n",
              "      <td>0.386097</td>\n",
              "      <td>0.550075</td>\n",
              "      <td>-0.005354</td>\n",
              "      <td>1.000000</td>\n",
              "      <td>0.924185</td>\n",
              "      <td>0.245267</td>\n",
              "      <td>0.305237</td>\n",
              "      <td>-0.371234</td>\n",
              "      <td>-0.269110</td>\n",
              "      <td>-0.764975</td>\n",
              "      <td>-0.987644</td>\n",
              "      <td>0.020875</td>\n",
              "      <td>-0.837338</td>\n",
              "      <td>-0.978528</td>\n",
              "      <td>-0.451598</td>\n",
              "    </tr>\n",
              "    <tr>\n",
              "      <th>Eccentricity</th>\n",
              "      <td>0.268580</td>\n",
              "      <td>0.391062</td>\n",
              "      <td>0.541011</td>\n",
              "      <td>0.022391</td>\n",
              "      <td>0.924185</td>\n",
              "      <td>1.000000</td>\n",
              "      <td>0.270350</td>\n",
              "      <td>0.319360</td>\n",
              "      <td>-0.319678</td>\n",
              "      <td>-0.298282</td>\n",
              "      <td>-0.720138</td>\n",
              "      <td>-0.970308</td>\n",
              "      <td>0.017266</td>\n",
              "      <td>-0.859246</td>\n",
              "      <td>-0.981058</td>\n",
              "      <td>-0.450611</td>\n",
              "    </tr>\n",
              "    <tr>\n",
              "      <th>ConvexArea</th>\n",
              "      <td>0.999940</td>\n",
              "      <td>0.967871</td>\n",
              "      <td>0.933392</td>\n",
              "      <td>0.951780</td>\n",
              "      <td>0.245267</td>\n",
              "      <td>0.270350</td>\n",
              "      <td>1.000000</td>\n",
              "      <td>0.985255</td>\n",
              "      <td>0.052864</td>\n",
              "      <td>-0.206901</td>\n",
              "      <td>-0.363620</td>\n",
              "      <td>-0.271651</td>\n",
              "      <td>-0.848382</td>\n",
              "      <td>-0.642773</td>\n",
              "      <td>-0.275631</td>\n",
              "      <td>-0.364302</td>\n",
              "    </tr>\n",
              "    <tr>\n",
              "      <th>EquivDiameter</th>\n",
              "      <td>0.984998</td>\n",
              "      <td>0.991453</td>\n",
              "      <td>0.962271</td>\n",
              "      <td>0.949214</td>\n",
              "      <td>0.305237</td>\n",
              "      <td>0.319360</td>\n",
              "      <td>0.985255</td>\n",
              "      <td>1.000000</td>\n",
              "      <td>0.028762</td>\n",
              "      <td>-0.232344</td>\n",
              "      <td>-0.437189</td>\n",
              "      <td>-0.328980</td>\n",
              "      <td>-0.893403</td>\n",
              "      <td>-0.714693</td>\n",
              "      <td>-0.331594</td>\n",
              "      <td>-0.394693</td>\n",
              "    </tr>\n",
              "    <tr>\n",
              "      <th>Extent</th>\n",
              "      <td>0.054648</td>\n",
              "      <td>-0.020620</td>\n",
              "      <td>-0.077287</td>\n",
              "      <td>0.145906</td>\n",
              "      <td>-0.371234</td>\n",
              "      <td>-0.319678</td>\n",
              "      <td>0.052864</td>\n",
              "      <td>0.028762</td>\n",
              "      <td>1.000000</td>\n",
              "      <td>0.192268</td>\n",
              "      <td>0.344510</td>\n",
              "      <td>0.354912</td>\n",
              "      <td>-0.141525</td>\n",
              "      <td>0.237584</td>\n",
              "      <td>0.348226</td>\n",
              "      <td>0.148622</td>\n",
              "    </tr>\n",
              "    <tr>\n",
              "      <th>Solidity</th>\n",
              "      <td>-0.197333</td>\n",
              "      <td>-0.304662</td>\n",
              "      <td>-0.284857</td>\n",
              "      <td>-0.156819</td>\n",
              "      <td>-0.269110</td>\n",
              "      <td>-0.298282</td>\n",
              "      <td>-0.206901</td>\n",
              "      <td>-0.232344</td>\n",
              "      <td>0.192268</td>\n",
              "      <td>1.000000</td>\n",
              "      <td>0.609668</td>\n",
              "      <td>0.304802</td>\n",
              "      <td>0.154346</td>\n",
              "      <td>0.344337</td>\n",
              "      <td>0.308614</td>\n",
              "      <td>0.700150</td>\n",
              "    </tr>\n",
              "    <tr>\n",
              "      <th>roundness</th>\n",
              "      <td>-0.359068</td>\n",
              "      <td>-0.548336</td>\n",
              "      <td>-0.595710</td>\n",
              "      <td>-0.214090</td>\n",
              "      <td>-0.764975</td>\n",
              "      <td>-0.720138</td>\n",
              "      <td>-0.363620</td>\n",
              "      <td>-0.437189</td>\n",
              "      <td>0.344510</td>\n",
              "      <td>0.609668</td>\n",
              "      <td>1.000000</td>\n",
              "      <td>0.765995</td>\n",
              "      <td>0.234158</td>\n",
              "      <td>0.781468</td>\n",
              "      <td>0.761012</td>\n",
              "      <td>0.472776</td>\n",
              "    </tr>\n",
              "    <tr>\n",
              "      <th>Compactness</th>\n",
              "      <td>-0.269797</td>\n",
              "      <td>-0.407426</td>\n",
              "      <td>-0.567902</td>\n",
              "      <td>-0.018618</td>\n",
              "      <td>-0.987644</td>\n",
              "      <td>-0.970308</td>\n",
              "      <td>-0.271651</td>\n",
              "      <td>-0.328980</td>\n",
              "      <td>0.354912</td>\n",
              "      <td>0.304802</td>\n",
              "      <td>0.765995</td>\n",
              "      <td>1.000000</td>\n",
              "      <td>-0.005980</td>\n",
              "      <td>0.868347</td>\n",
              "      <td>0.998684</td>\n",
              "      <td>0.486334</td>\n",
              "    </tr>\n",
              "    <tr>\n",
              "      <th>ShapeFactor1</th>\n",
              "      <td>-0.848390</td>\n",
              "      <td>-0.865756</td>\n",
              "      <td>-0.775840</td>\n",
              "      <td>-0.947194</td>\n",
              "      <td>0.020875</td>\n",
              "      <td>0.017266</td>\n",
              "      <td>-0.848382</td>\n",
              "      <td>-0.893403</td>\n",
              "      <td>-0.141525</td>\n",
              "      <td>0.154346</td>\n",
              "      <td>0.234158</td>\n",
              "      <td>-0.005980</td>\n",
              "      <td>1.000000</td>\n",
              "      <td>0.473239</td>\n",
              "      <td>-0.005050</td>\n",
              "      <td>0.251164</td>\n",
              "    </tr>\n",
              "    <tr>\n",
              "      <th>ShapeFactor2</th>\n",
              "      <td>-0.641208</td>\n",
              "      <td>-0.768590</td>\n",
              "      <td>-0.859401</td>\n",
              "      <td>-0.475326</td>\n",
              "      <td>-0.837338</td>\n",
              "      <td>-0.859246</td>\n",
              "      <td>-0.642773</td>\n",
              "      <td>-0.714693</td>\n",
              "      <td>0.237584</td>\n",
              "      <td>0.344337</td>\n",
              "      <td>0.781468</td>\n",
              "      <td>0.868347</td>\n",
              "      <td>0.473239</td>\n",
              "      <td>1.000000</td>\n",
              "      <td>0.872318</td>\n",
              "      <td>0.531733</td>\n",
              "    </tr>\n",
              "    <tr>\n",
              "      <th>ShapeFactor3</th>\n",
              "      <td>-0.273754</td>\n",
              "      <td>-0.408888</td>\n",
              "      <td>-0.567607</td>\n",
              "      <td>-0.022744</td>\n",
              "      <td>-0.978528</td>\n",
              "      <td>-0.981058</td>\n",
              "      <td>-0.275631</td>\n",
              "      <td>-0.331594</td>\n",
              "      <td>0.348226</td>\n",
              "      <td>0.308614</td>\n",
              "      <td>0.761012</td>\n",
              "      <td>0.998684</td>\n",
              "      <td>-0.005050</td>\n",
              "      <td>0.872318</td>\n",
              "      <td>1.000000</td>\n",
              "      <td>0.486029</td>\n",
              "    </tr>\n",
              "    <tr>\n",
              "      <th>ShapeFactor4</th>\n",
              "      <td>-0.358019</td>\n",
              "      <td>-0.431215</td>\n",
              "      <td>-0.484464</td>\n",
              "      <td>-0.266402</td>\n",
              "      <td>-0.451598</td>\n",
              "      <td>-0.450611</td>\n",
              "      <td>-0.364302</td>\n",
              "      <td>-0.394693</td>\n",
              "      <td>0.148622</td>\n",
              "      <td>0.700150</td>\n",
              "      <td>0.472776</td>\n",
              "      <td>0.486334</td>\n",
              "      <td>0.251164</td>\n",
              "      <td>0.531733</td>\n",
              "      <td>0.486029</td>\n",
              "      <td>1.000000</td>\n",
              "    </tr>\n",
              "  </tbody>\n",
              "</table>\n",
              "</div>\n",
              "      <button class=\"colab-df-convert\" onclick=\"convertToInteractive('df-78caa382-bf96-4962-859f-1e76144d22db')\"\n",
              "              title=\"Convert this dataframe to an interactive table.\"\n",
              "              style=\"display:none;\">\n",
              "        \n",
              "  <svg xmlns=\"http://www.w3.org/2000/svg\" height=\"24px\"viewBox=\"0 0 24 24\"\n",
              "       width=\"24px\">\n",
              "    <path d=\"M0 0h24v24H0V0z\" fill=\"none\"/>\n",
              "    <path d=\"M18.56 5.44l.94 2.06.94-2.06 2.06-.94-2.06-.94-.94-2.06-.94 2.06-2.06.94zm-11 1L8.5 8.5l.94-2.06 2.06-.94-2.06-.94L8.5 2.5l-.94 2.06-2.06.94zm10 10l.94 2.06.94-2.06 2.06-.94-2.06-.94-.94-2.06-.94 2.06-2.06.94z\"/><path d=\"M17.41 7.96l-1.37-1.37c-.4-.4-.92-.59-1.43-.59-.52 0-1.04.2-1.43.59L10.3 9.45l-7.72 7.72c-.78.78-.78 2.05 0 2.83L4 21.41c.39.39.9.59 1.41.59.51 0 1.02-.2 1.41-.59l7.78-7.78 2.81-2.81c.8-.78.8-2.07 0-2.86zM5.41 20L4 18.59l7.72-7.72 1.47 1.35L5.41 20z\"/>\n",
              "  </svg>\n",
              "      </button>\n",
              "      \n",
              "  <style>\n",
              "    .colab-df-container {\n",
              "      display:flex;\n",
              "      flex-wrap:wrap;\n",
              "      gap: 12px;\n",
              "    }\n",
              "\n",
              "    .colab-df-convert {\n",
              "      background-color: #E8F0FE;\n",
              "      border: none;\n",
              "      border-radius: 50%;\n",
              "      cursor: pointer;\n",
              "      display: none;\n",
              "      fill: #1967D2;\n",
              "      height: 32px;\n",
              "      padding: 0 0 0 0;\n",
              "      width: 32px;\n",
              "    }\n",
              "\n",
              "    .colab-df-convert:hover {\n",
              "      background-color: #E2EBFA;\n",
              "      box-shadow: 0px 1px 2px rgba(60, 64, 67, 0.3), 0px 1px 3px 1px rgba(60, 64, 67, 0.15);\n",
              "      fill: #174EA6;\n",
              "    }\n",
              "\n",
              "    [theme=dark] .colab-df-convert {\n",
              "      background-color: #3B4455;\n",
              "      fill: #D2E3FC;\n",
              "    }\n",
              "\n",
              "    [theme=dark] .colab-df-convert:hover {\n",
              "      background-color: #434B5C;\n",
              "      box-shadow: 0px 1px 3px 1px rgba(0, 0, 0, 0.15);\n",
              "      filter: drop-shadow(0px 1px 2px rgba(0, 0, 0, 0.3));\n",
              "      fill: #FFFFFF;\n",
              "    }\n",
              "  </style>\n",
              "\n",
              "      <script>\n",
              "        const buttonEl =\n",
              "          document.querySelector('#df-78caa382-bf96-4962-859f-1e76144d22db button.colab-df-convert');\n",
              "        buttonEl.style.display =\n",
              "          google.colab.kernel.accessAllowed ? 'block' : 'none';\n",
              "\n",
              "        async function convertToInteractive(key) {\n",
              "          const element = document.querySelector('#df-78caa382-bf96-4962-859f-1e76144d22db');\n",
              "          const dataTable =\n",
              "            await google.colab.kernel.invokeFunction('convertToInteractive',\n",
              "                                                     [key], {});\n",
              "          if (!dataTable) return;\n",
              "\n",
              "          const docLinkHtml = 'Like what you see? Visit the ' +\n",
              "            '<a target=\"_blank\" href=https://colab.research.google.com/notebooks/data_table.ipynb>data table notebook</a>'\n",
              "            + ' to learn more about interactive tables.';\n",
              "          element.innerHTML = '';\n",
              "          dataTable['output_type'] = 'display_data';\n",
              "          await google.colab.output.renderOutput(dataTable, element);\n",
              "          const docLink = document.createElement('div');\n",
              "          docLink.innerHTML = docLinkHtml;\n",
              "          element.appendChild(docLink);\n",
              "        }\n",
              "      </script>\n",
              "    </div>\n",
              "  </div>\n",
              "  "
            ]
          },
          "metadata": {},
          "execution_count": 32
        }
      ]
    },
    {
      "cell_type": "code",
      "source": [
        "# Creating a heatmap of the correlation\n",
        "#\n",
        "\n",
        "plt.figure(figsize= (20,18))\n",
        "sns.heatmap(correlation, annot = True,)\n",
        "plt.show "
      ],
      "metadata": {
        "colab": {
          "base_uri": "https://localhost:8080/",
          "height": 1000
        },
        "id": "Xz6pnTD0LBQe",
        "outputId": "e9eb44c6-b0ee-4a6f-de6b-a6af0fbfa7ad"
      },
      "execution_count": 33,
      "outputs": [
        {
          "output_type": "execute_result",
          "data": {
            "text/plain": [
              "<function matplotlib.pyplot.show>"
            ]
          },
          "metadata": {},
          "execution_count": 33
        },
        {
          "output_type": "display_data",
          "data": {
            "text/plain": [
              "<Figure size 1440x1296 with 2 Axes>"
            ],
            "image/png": "[encoded data removed]"
          },
          "metadata": {
            "needs_background": "light"
          }
        }
      ]
    },
    {
      "cell_type": "code",
      "source": [
        "# Checking the VIF score for each variable using an inverse of the correlation matrix\n",
        "\n",
        "pd.DataFrame(np.linalg.inv(correlation.values), index = correlation.index, columns=correlation.columns)"
      ],
      "metadata": {
        "colab": {
          "base_uri": "https://localhost:8080/",
          "height": 614
        },
        "id": "4pFq_FoUKQs3",
        "outputId": "8e032375-65bf-47e1-c79f-d62f45d0a9a0"
      },
      "execution_count": 240,
      "outputs": [
        {
          "output_type": "execute_result",
          "data": {
            "text/plain": [
              "                         Area    Perimeter  MajorAxisLength  MinorAxisLength  \\\n",
              "Area             81784.071888  7881.126195     43669.174975     41133.077442   \n",
              "Perimeter         7881.126195  3576.326594       911.059751      1776.533352   \n",
              "MajorAxisLength  43669.174977   911.059751     88521.084593     79809.244980   \n",
              "MinorAxisLength  41133.077443  1776.533352     79809.244980     78064.595238   \n",
              "AspectRation     -7857.552536   -56.779996    -16491.014278    -15732.623697   \n",
              "Eccentricity      -700.602271  -275.447710      -525.354895      -259.705696   \n",
              "ConvexArea      -79989.543924 -7632.953182    -43119.550552    -39881.383272   \n",
              "EquivDiameter   -91843.410639 -6420.308198   -163243.586663   -155670.979620   \n",
              "Extent              -3.489896    -0.243363        -2.557859         0.962911   \n",
              "Solidity          -862.196448   -88.388779      -386.939689      -357.590517   \n",
              "roundness         1321.802458   584.512937        64.823453       200.100437   \n",
              "Compactness      -7790.155640   605.507504    -17743.532098    -22347.690610   \n",
              "ShapeFactor1     -1761.351268  -162.261749     -1651.272278     -3071.368045   \n",
              "ShapeFactor2      1162.381836   -16.847238      2270.248085      4509.748057   \n",
              "ShapeFactor3     -4063.787464 -1408.702094     -3516.691967     -1879.585184   \n",
              "ShapeFactor4      1105.718006    39.379735      2136.995552      2071.901826   \n",
              "\n",
              "                 AspectRation  Eccentricity    ConvexArea  EquivDiameter  \\\n",
              "Area             -7857.552535   -700.602271 -79989.543924  -91843.410637   \n",
              "Perimeter          -56.779996   -275.447710  -7632.953182   -6420.308198   \n",
              "MajorAxisLength -16491.014278   -525.354895 -43119.550554 -163243.586663   \n",
              "MinorAxisLength -15732.623697   -259.705696 -39881.383273 -155670.979620   \n",
              "AspectRation     13800.546271  -2816.122656   7672.256351   31271.429910   \n",
              "Eccentricity     -2816.122656   1180.053917    695.799692    1016.034849   \n",
              "ConvexArea        7672.256351    695.799692  78927.310556   88713.360926   \n",
              "EquivDiameter    31271.429910   1016.034849  88713.360928  317671.590383   \n",
              "Extent               2.011710      0.406606      5.318922      -1.408993   \n",
              "Solidity            56.125274     10.053612    851.336160     817.337106   \n",
              "roundness           46.760241    -55.163726  -1295.075326    -861.585449   \n",
              "Compactness      56735.410219 -15742.548970   6850.626903   39583.321118   \n",
              "ShapeFactor1       340.026787    -11.271184   1286.681578    5563.983645   \n",
              "ShapeFactor2      -574.560971     71.469368   -922.919625   -7096.382104   \n",
              "ShapeFactor3    -44535.379165  13990.593572   4174.770221    6521.197322   \n",
              "ShapeFactor4      -705.684185     61.301596  -1075.154383   -4134.918000   \n",
              "\n",
              "                   Extent    Solidity    roundness    Compactness  \\\n",
              "Area            -3.489896 -862.196448  1321.802458   -7790.155638   \n",
              "Perimeter       -0.243363  -88.388779   584.512937     605.507504   \n",
              "MajorAxisLength -2.557859 -386.939689    64.823453  -17743.532097   \n",
              "MinorAxisLength  0.962911 -357.590517   200.100437  -22347.690608   \n",
              "AspectRation     2.011710   56.125274    46.760241   56735.410219   \n",
              "Eccentricity     0.406606   10.053612   -55.163726  -15742.548970   \n",
              "ConvexArea       5.318922  851.336160 -1295.075326    6850.626901   \n",
              "EquivDiameter   -1.408993  817.337106  -861.585449   39583.321115   \n",
              "Extent           1.244154   -0.069278    -0.272204       0.099589   \n",
              "Solidity        -0.069278   14.024746   -19.480064      18.287744   \n",
              "roundness       -0.272204  -19.480064   103.298659     297.087005   \n",
              "Compactness      0.099589   18.287744   297.087005  275722.884542   \n",
              "ShapeFactor1    -1.074225   12.694690   -17.838136    1121.007849   \n",
              "ShapeFactor2     0.599916   -5.217535   -12.953217   -2040.138289   \n",
              "ShapeFactor3     0.043863   73.489518  -369.622331 -230222.381890   \n",
              "ShapeFactor4     0.009563  -12.527618     5.766590   -1979.494438   \n",
              "\n",
              "                 ShapeFactor1  ShapeFactor2   ShapeFactor3  ShapeFactor4  \n",
              "Area             -1761.351268   1162.381836   -4063.787465   1105.718006  \n",
              "Perimeter         -162.261749    -16.847238   -1408.702094     39.379735  \n",
              "MajorAxisLength  -1651.272278   2270.248085   -3516.691968   2136.995552  \n",
              "MinorAxisLength  -3071.368045   4509.748057   -1879.585185   2071.901826  \n",
              "AspectRation       340.026787   -574.560971  -44535.379165   -705.684185  \n",
              "Eccentricity       -11.271184     71.469368   13990.593572     61.301596  \n",
              "ConvexArea        1286.681578   -922.919625    4174.770222  -1075.154383  \n",
              "EquivDiameter     5563.983645  -7096.382104    6521.197325  -4134.918000  \n",
              "Extent              -1.074225      0.599916       0.043863      0.009563  \n",
              "Solidity            12.694690     -5.217535      73.489518    -12.527618  \n",
              "roundness          -17.838136    -12.953217    -369.622331      5.766590  \n",
              "Compactness       1121.007849  -2040.138289 -230222.381889  -1979.494438  \n",
              "ShapeFactor1       608.603081   -733.507567     534.935191    -73.789173  \n",
              "ShapeFactor2      -733.507567   1242.067383    -488.487583    108.849995  \n",
              "ShapeFactor3       534.935191   -488.487583  199791.009984   1129.673801  \n",
              "ShapeFactor4       -73.789173    108.849995    1129.673801     66.680053  "
            ],
            "text/html": [
              "\n",
              "  <div id=\"df-e6f74044-b006-43fd-b1d6-12630465b005\">\n",
              "    <div class=\"colab-df-container\">\n",
              "      <div>\n",
              "<style scoped>\n",
              "    .dataframe tbody tr th:only-of-type {\n",
              "        vertical-align: middle;\n",
              "    }\n",
              "\n",
              "    .dataframe tbody tr th {\n",
              "        vertical-align: top;\n",
              "    }\n",
              "\n",
              "    .dataframe thead th {\n",
              "        text-align: right;\n",
              "    }\n",
              "</style>\n",
              "<table border=\"1\" class=\"dataframe\">\n",
              "  <thead>\n",
              "    <tr style=\"text-align: right;\">\n",
              "      <th></th>\n",
              "      <th>Area</th>\n",
              "      <th>Perimeter</th>\n",
              "      <th>MajorAxisLength</th>\n",
              "      <th>MinorAxisLength</th>\n",
              "      <th>AspectRation</th>\n",
              "      <th>Eccentricity</th>\n",
              "      <th>ConvexArea</th>\n",
              "      <th>EquivDiameter</th>\n",
              "      <th>Extent</th>\n",
              "      <th>Solidity</th>\n",
              "      <th>roundness</th>\n",
              "      <th>Compactness</th>\n",
              "      <th>ShapeFactor1</th>\n",
              "      <th>ShapeFactor2</th>\n",
              "      <th>ShapeFactor3</th>\n",
              "      <th>ShapeFactor4</th>\n",
              "    </tr>\n",
              "  </thead>\n",
              "  <tbody>\n",
              "    <tr>\n",
              "      <th>Area</th>\n",
              "      <td>81784.071888</td>\n",
              "      <td>7881.126195</td>\n",
              "      <td>43669.174975</td>\n",
              "      <td>41133.077442</td>\n",
              "      <td>-7857.552535</td>\n",
              "      <td>-700.602271</td>\n",
              "      <td>-79989.543924</td>\n",
              "      <td>-91843.410637</td>\n",
              "      <td>-3.489896</td>\n",
              "      <td>-862.196448</td>\n",
              "      <td>1321.802458</td>\n",
              "      <td>-7790.155638</td>\n",
              "      <td>-1761.351268</td>\n",
              "      <td>1162.381836</td>\n",
              "      <td>-4063.787465</td>\n",
              "      <td>1105.718006</td>\n",
              "    </tr>\n",
              "    <tr>\n",
              "      <th>Perimeter</th>\n",
              "      <td>7881.126195</td>\n",
              "      <td>3576.326594</td>\n",
              "      <td>911.059751</td>\n",
              "      <td>1776.533352</td>\n",
              "      <td>-56.779996</td>\n",
              "      <td>-275.447710</td>\n",
              "      <td>-7632.953182</td>\n",
              "      <td>-6420.308198</td>\n",
              "      <td>-0.243363</td>\n",
              "      <td>-88.388779</td>\n",
              "      <td>584.512937</td>\n",
              "      <td>605.507504</td>\n",
              "      <td>-162.261749</td>\n",
              "      <td>-16.847238</td>\n",
              "      <td>-1408.702094</td>\n",
              "      <td>39.379735</td>\n",
              "    </tr>\n",
              "    <tr>\n",
              "      <th>MajorAxisLength</th>\n",
              "      <td>43669.174977</td>\n",
              "      <td>911.059751</td>\n",
              "      <td>88521.084593</td>\n",
              "      <td>79809.244980</td>\n",
              "      <td>-16491.014278</td>\n",
              "      <td>-525.354895</td>\n",
              "      <td>-43119.550554</td>\n",
              "      <td>-163243.586663</td>\n",
              "      <td>-2.557859</td>\n",
              "      <td>-386.939689</td>\n",
              "      <td>64.823453</td>\n",
              "      <td>-17743.532097</td>\n",
              "      <td>-1651.272278</td>\n",
              "      <td>2270.248085</td>\n",
              "      <td>-3516.691968</td>\n",
              "      <td>2136.995552</td>\n",
              "    </tr>\n",
              "    <tr>\n",
              "      <th>MinorAxisLength</th>\n",
              "      <td>41133.077443</td>\n",
              "      <td>1776.533352</td>\n",
              "      <td>79809.244980</td>\n",
              "      <td>78064.595238</td>\n",
              "      <td>-15732.623697</td>\n",
              "      <td>-259.705696</td>\n",
              "      <td>-39881.383273</td>\n",
              "      <td>-155670.979620</td>\n",
              "      <td>0.962911</td>\n",
              "      <td>-357.590517</td>\n",
              "      <td>200.100437</td>\n",
              "      <td>-22347.690608</td>\n",
              "      <td>-3071.368045</td>\n",
              "      <td>4509.748057</td>\n",
              "      <td>-1879.585185</td>\n",
              "      <td>2071.901826</td>\n",
              "    </tr>\n",
              "    <tr>\n",
              "      <th>AspectRation</th>\n",
              "      <td>-7857.552536</td>\n",
              "      <td>-56.779996</td>\n",
              "      <td>-16491.014278</td>\n",
              "      <td>-15732.623697</td>\n",
              "      <td>13800.546271</td>\n",
              "      <td>-2816.122656</td>\n",
              "      <td>7672.256351</td>\n",
              "      <td>31271.429910</td>\n",
              "      <td>2.011710</td>\n",
              "      <td>56.125274</td>\n",
              "      <td>46.760241</td>\n",
              "      <td>56735.410219</td>\n",
              "      <td>340.026787</td>\n",
              "      <td>-574.560971</td>\n",
              "      <td>-44535.379165</td>\n",
              "      <td>-705.684185</td>\n",
              "    </tr>\n",
              "    <tr>\n",
              "      <th>Eccentricity</th>\n",
              "      <td>-700.602271</td>\n",
              "      <td>-275.447710</td>\n",
              "      <td>-525.354895</td>\n",
              "      <td>-259.705696</td>\n",
              "      <td>-2816.122656</td>\n",
              "      <td>1180.053917</td>\n",
              "      <td>695.799692</td>\n",
              "      <td>1016.034849</td>\n",
              "      <td>0.406606</td>\n",
              "      <td>10.053612</td>\n",
              "      <td>-55.163726</td>\n",
              "      <td>-15742.548970</td>\n",
              "      <td>-11.271184</td>\n",
              "      <td>71.469368</td>\n",
              "      <td>13990.593572</td>\n",
              "      <td>61.301596</td>\n",
              "    </tr>\n",
              "    <tr>\n",
              "      <th>ConvexArea</th>\n",
              "      <td>-79989.543924</td>\n",
              "      <td>-7632.953182</td>\n",
              "      <td>-43119.550552</td>\n",
              "      <td>-39881.383272</td>\n",
              "      <td>7672.256351</td>\n",
              "      <td>695.799692</td>\n",
              "      <td>78927.310556</td>\n",
              "      <td>88713.360926</td>\n",
              "      <td>5.318922</td>\n",
              "      <td>851.336160</td>\n",
              "      <td>-1295.075326</td>\n",
              "      <td>6850.626901</td>\n",
              "      <td>1286.681578</td>\n",
              "      <td>-922.919625</td>\n",
              "      <td>4174.770222</td>\n",
              "      <td>-1075.154383</td>\n",
              "    </tr>\n",
              "    <tr>\n",
              "      <th>EquivDiameter</th>\n",
              "      <td>-91843.410639</td>\n",
              "      <td>-6420.308198</td>\n",
              "      <td>-163243.586663</td>\n",
              "      <td>-155670.979620</td>\n",
              "      <td>31271.429910</td>\n",
              "      <td>1016.034849</td>\n",
              "      <td>88713.360928</td>\n",
              "      <td>317671.590383</td>\n",
              "      <td>-1.408993</td>\n",
              "      <td>817.337106</td>\n",
              "      <td>-861.585449</td>\n",
              "      <td>39583.321115</td>\n",
              "      <td>5563.983645</td>\n",
              "      <td>-7096.382104</td>\n",
              "      <td>6521.197325</td>\n",
              "      <td>-4134.918000</td>\n",
              "    </tr>\n",
              "    <tr>\n",
              "      <th>Extent</th>\n",
              "      <td>-3.489896</td>\n",
              "      <td>-0.243363</td>\n",
              "      <td>-2.557859</td>\n",
              "      <td>0.962911</td>\n",
              "      <td>2.011710</td>\n",
              "      <td>0.406606</td>\n",
              "      <td>5.318922</td>\n",
              "      <td>-1.408993</td>\n",
              "      <td>1.244154</td>\n",
              "      <td>-0.069278</td>\n",
              "      <td>-0.272204</td>\n",
              "      <td>0.099589</td>\n",
              "      <td>-1.074225</td>\n",
              "      <td>0.599916</td>\n",
              "      <td>0.043863</td>\n",
              "      <td>0.009563</td>\n",
              "    </tr>\n",
              "    <tr>\n",
              "      <th>Solidity</th>\n",
              "      <td>-862.196448</td>\n",
              "      <td>-88.388779</td>\n",
              "      <td>-386.939689</td>\n",
              "      <td>-357.590517</td>\n",
              "      <td>56.125274</td>\n",
              "      <td>10.053612</td>\n",
              "      <td>851.336160</td>\n",
              "      <td>817.337106</td>\n",
              "      <td>-0.069278</td>\n",
              "      <td>14.024746</td>\n",
              "      <td>-19.480064</td>\n",
              "      <td>18.287744</td>\n",
              "      <td>12.694690</td>\n",
              "      <td>-5.217535</td>\n",
              "      <td>73.489518</td>\n",
              "      <td>-12.527618</td>\n",
              "    </tr>\n",
              "    <tr>\n",
              "      <th>roundness</th>\n",
              "      <td>1321.802458</td>\n",
              "      <td>584.512937</td>\n",
              "      <td>64.823453</td>\n",
              "      <td>200.100437</td>\n",
              "      <td>46.760241</td>\n",
              "      <td>-55.163726</td>\n",
              "      <td>-1295.075326</td>\n",
              "      <td>-861.585449</td>\n",
              "      <td>-0.272204</td>\n",
              "      <td>-19.480064</td>\n",
              "      <td>103.298659</td>\n",
              "      <td>297.087005</td>\n",
              "      <td>-17.838136</td>\n",
              "      <td>-12.953217</td>\n",
              "      <td>-369.622331</td>\n",
              "      <td>5.766590</td>\n",
              "    </tr>\n",
              "    <tr>\n",
              "      <th>Compactness</th>\n",
              "      <td>-7790.155640</td>\n",
              "      <td>605.507504</td>\n",
              "      <td>-17743.532098</td>\n",
              "      <td>-22347.690610</td>\n",
              "      <td>56735.410219</td>\n",
              "      <td>-15742.548970</td>\n",
              "      <td>6850.626903</td>\n",
              "      <td>39583.321118</td>\n",
              "      <td>0.099589</td>\n",
              "      <td>18.287744</td>\n",
              "      <td>297.087005</td>\n",
              "      <td>275722.884542</td>\n",
              "      <td>1121.007849</td>\n",
              "      <td>-2040.138289</td>\n",
              "      <td>-230222.381889</td>\n",
              "      <td>-1979.494438</td>\n",
              "    </tr>\n",
              "    <tr>\n",
              "      <th>ShapeFactor1</th>\n",
              "      <td>-1761.351268</td>\n",
              "      <td>-162.261749</td>\n",
              "      <td>-1651.272278</td>\n",
              "      <td>-3071.368045</td>\n",
              "      <td>340.026787</td>\n",
              "      <td>-11.271184</td>\n",
              "      <td>1286.681578</td>\n",
              "      <td>5563.983645</td>\n",
              "      <td>-1.074225</td>\n",
              "      <td>12.694690</td>\n",
              "      <td>-17.838136</td>\n",
              "      <td>1121.007849</td>\n",
              "      <td>608.603081</td>\n",
              "      <td>-733.507567</td>\n",
              "      <td>534.935191</td>\n",
              "      <td>-73.789173</td>\n",
              "    </tr>\n",
              "    <tr>\n",
              "      <th>ShapeFactor2</th>\n",
              "      <td>1162.381836</td>\n",
              "      <td>-16.847238</td>\n",
              "      <td>2270.248085</td>\n",
              "      <td>4509.748057</td>\n",
              "      <td>-574.560971</td>\n",
              "      <td>71.469368</td>\n",
              "      <td>-922.919625</td>\n",
              "      <td>-7096.382104</td>\n",
              "      <td>0.599916</td>\n",
              "      <td>-5.217535</td>\n",
              "      <td>-12.953217</td>\n",
              "      <td>-2040.138289</td>\n",
              "      <td>-733.507567</td>\n",
              "      <td>1242.067383</td>\n",
              "      <td>-488.487583</td>\n",
              "      <td>108.849995</td>\n",
              "    </tr>\n",
              "    <tr>\n",
              "      <th>ShapeFactor3</th>\n",
              "      <td>-4063.787464</td>\n",
              "      <td>-1408.702094</td>\n",
              "      <td>-3516.691967</td>\n",
              "      <td>-1879.585184</td>\n",
              "      <td>-44535.379165</td>\n",
              "      <td>13990.593572</td>\n",
              "      <td>4174.770221</td>\n",
              "      <td>6521.197322</td>\n",
              "      <td>0.043863</td>\n",
              "      <td>73.489518</td>\n",
              "      <td>-369.622331</td>\n",
              "      <td>-230222.381890</td>\n",
              "      <td>534.935191</td>\n",
              "      <td>-488.487583</td>\n",
              "      <td>199791.009984</td>\n",
              "      <td>1129.673801</td>\n",
              "    </tr>\n",
              "    <tr>\n",
              "      <th>ShapeFactor4</th>\n",
              "      <td>1105.718006</td>\n",
              "      <td>39.379735</td>\n",
              "      <td>2136.995552</td>\n",
              "      <td>2071.901826</td>\n",
              "      <td>-705.684185</td>\n",
              "      <td>61.301596</td>\n",
              "      <td>-1075.154383</td>\n",
              "      <td>-4134.918000</td>\n",
              "      <td>0.009563</td>\n",
              "      <td>-12.527618</td>\n",
              "      <td>5.766590</td>\n",
              "      <td>-1979.494438</td>\n",
              "      <td>-73.789173</td>\n",
              "      <td>108.849995</td>\n",
              "      <td>1129.673801</td>\n",
              "      <td>66.680053</td>\n",
              "    </tr>\n",
              "  </tbody>\n",
              "</table>\n",
              "</div>\n",
              "      <button class=\"colab-df-convert\" onclick=\"convertToInteractive('df-e6f74044-b006-43fd-b1d6-12630465b005')\"\n",
              "              title=\"Convert this dataframe to an interactive table.\"\n",
              "              style=\"display:none;\">\n",
              "        \n",
              "  <svg xmlns=\"http://www.w3.org/2000/svg\" height=\"24px\"viewBox=\"0 0 24 24\"\n",
              "       width=\"24px\">\n",
              "    <path d=\"M0 0h24v24H0V0z\" fill=\"none\"/>\n",
              "    <path d=\"M18.56 5.44l.94 2.06.94-2.06 2.06-.94-2.06-.94-.94-2.06-.94 2.06-2.06.94zm-11 1L8.5 8.5l.94-2.06 2.06-.94-2.06-.94L8.5 2.5l-.94 2.06-2.06.94zm10 10l.94 2.06.94-2.06 2.06-.94-2.06-.94-.94-2.06-.94 2.06-2.06.94z\"/><path d=\"M17.41 7.96l-1.37-1.37c-.4-.4-.92-.59-1.43-.59-.52 0-1.04.2-1.43.59L10.3 9.45l-7.72 7.72c-.78.78-.78 2.05 0 2.83L4 21.41c.39.39.9.59 1.41.59.51 0 1.02-.2 1.41-.59l7.78-7.78 2.81-2.81c.8-.78.8-2.07 0-2.86zM5.41 20L4 18.59l7.72-7.72 1.47 1.35L5.41 20z\"/>\n",
              "  </svg>\n",
              "      </button>\n",
              "      \n",
              "  <style>\n",
              "    .colab-df-container {\n",
              "      display:flex;\n",
              "      flex-wrap:wrap;\n",
              "      gap: 12px;\n",
              "    }\n",
              "\n",
              "    .colab-df-convert {\n",
              "      background-color: #E8F0FE;\n",
              "      border: none;\n",
              "      border-radius: 50%;\n",
              "      cursor: pointer;\n",
              "      display: none;\n",
              "      fill: #1967D2;\n",
              "      height: 32px;\n",
              "      padding: 0 0 0 0;\n",
              "      width: 32px;\n",
              "    }\n",
              "\n",
              "    .colab-df-convert:hover {\n",
              "      background-color: #E2EBFA;\n",
              "      box-shadow: 0px 1px 2px rgba(60, 64, 67, 0.3), 0px 1px 3px 1px rgba(60, 64, 67, 0.15);\n",
              "      fill: #174EA6;\n",
              "    }\n",
              "\n",
              "    [theme=dark] .colab-df-convert {\n",
              "      background-color: #3B4455;\n",
              "      fill: #D2E3FC;\n",
              "    }\n",
              "\n",
              "    [theme=dark] .colab-df-convert:hover {\n",
              "      background-color: #434B5C;\n",
              "      box-shadow: 0px 1px 3px 1px rgba(0, 0, 0, 0.15);\n",
              "      filter: drop-shadow(0px 1px 2px rgba(0, 0, 0, 0.3));\n",
              "      fill: #FFFFFF;\n",
              "    }\n",
              "  </style>\n",
              "\n",
              "      <script>\n",
              "        const buttonEl =\n",
              "          document.querySelector('#df-e6f74044-b006-43fd-b1d6-12630465b005 button.colab-df-convert');\n",
              "        buttonEl.style.display =\n",
              "          google.colab.kernel.accessAllowed ? 'block' : 'none';\n",
              "\n",
              "        async function convertToInteractive(key) {\n",
              "          const element = document.querySelector('#df-e6f74044-b006-43fd-b1d6-12630465b005');\n",
              "          const dataTable =\n",
              "            await google.colab.kernel.invokeFunction('convertToInteractive',\n",
              "                                                     [key], {});\n",
              "          if (!dataTable) return;\n",
              "\n",
              "          const docLinkHtml = 'Like what you see? Visit the ' +\n",
              "            '<a target=\"_blank\" href=https://colab.research.google.com/notebooks/data_table.ipynb>data table notebook</a>'\n",
              "            + ' to learn more about interactive tables.';\n",
              "          element.innerHTML = '';\n",
              "          dataTable['output_type'] = 'display_data';\n",
              "          await google.colab.output.renderOutput(dataTable, element);\n",
              "          const docLink = document.createElement('div');\n",
              "          docLink.innerHTML = docLinkHtml;\n",
              "          element.appendChild(docLink);\n",
              "        }\n",
              "      </script>\n",
              "    </div>\n",
              "  </div>\n",
              "  "
            ]
          },
          "metadata": {},
          "execution_count": 240
        }
      ]
    },
    {
      "cell_type": "code",
      "source": [
        "plt.figure(figsize=(25,20))\n",
        "correlation.corr().plot()\n"
      ],
      "metadata": {
        "colab": {
          "base_uri": "https://localhost:8080/",
          "height": 315
        },
        "id": "HbCzEWq5Huo5",
        "outputId": "089ff3f1-a4c1-4783-c815-206f64a24c67"
      },
      "execution_count": 241,
      "outputs": [
        {
          "output_type": "execute_result",
          "data": {
            "text/plain": [
              "<matplotlib.axes._subplots.AxesSubplot at 0x7fbcf32f5cd0>"
            ]
          },
          "metadata": {},
          "execution_count": 241
        },
        {
          "output_type": "display_data",
          "data": {
            "text/plain": [
              "<Figure size 1800x1440 with 0 Axes>"
            ]
          },
          "metadata": {}
        },
        {
          "output_type": "display_data",
          "data": {
            "text/plain": [
              "<Figure size 432x288 with 1 Axes>"
            ],
            "image/png": "[encoded data removed]"
          },
          "metadata": {
            "needs_background": "light"
          }
        }
      ]
    },
    {
      "cell_type": "code",
      "source": [
        "# Confirming that our variable types are numerical\n",
        "features.dtypes"
      ],
      "metadata": {
        "colab": {
          "base_uri": "https://localhost:8080/"
        },
        "id": "VFsvHUe2_KB5",
        "outputId": "6dfef624-2f0d-44d3-b2f9-9f75d2f00dd2"
      },
      "execution_count": 245,
      "outputs": [
        {
          "output_type": "execute_result",
          "data": {
            "text/plain": [
              "Area                 int64\n",
              "Perimeter          float64\n",
              "MajorAxisLength    float64\n",
              "MinorAxisLength    float64\n",
              "AspectRation       float64\n",
              "Eccentricity       float64\n",
              "ConvexArea           int64\n",
              "EquivDiameter      float64\n",
              "Extent             float64\n",
              "Solidity           float64\n",
              "roundness          float64\n",
              "Compactness        float64\n",
              "ShapeFactor1       float64\n",
              "ShapeFactor2       float64\n",
              "ShapeFactor3       float64\n",
              "ShapeFactor4       float64\n",
              "dtype: object"
            ]
          },
          "metadata": {},
          "execution_count": 245
        }
      ]
    },
    {
      "cell_type": "markdown",
      "metadata": {
        "id": "YJZ4xbIvOjFv"
      },
      "source": [
        "Let’s consider some useful multivariate analysis techniques. We’ll look at:\n",
        "\n",
        "1. Multiple linear regression\n",
        "2. Multiple logistic regression\n",
        "3. Multivariate analysis of variance (MANOVA)\n",
        "4. Factor analysis\n",
        "5. Cluster analysis"
      ]
    },
    {
      "cell_type": "markdown",
      "metadata": {
        "id": "UF7kzoQWO2gN"
      },
      "source": [
        "For this specific lesson, \n",
        "\n",
        "We will explore Multiple Linear Regression, Multiple Logistic Regression as well as Reduction Techniques : LDA and PCA "
      ]
    },
    {
      "cell_type": "code",
      "execution_count": 34,
      "metadata": {
        "id": "z0BMwTccPYzO",
        "colab": {
          "base_uri": "https://localhost:8080/",
          "height": 551
        },
        "outputId": "1846e4b1-c757-4b52-b964-75e0fcaa3de9"
      },
      "outputs": [
        {
          "output_type": "execute_result",
          "data": {
            "text/plain": [
              "                            0\n",
              "ShapeFactor1     24687.712604\n",
              "Compactness       2498.767743\n",
              "Solidity           390.223571\n",
              "AspectRation       272.927961\n",
              "EquivDiameter       13.312053\n",
              "Extent               9.559247\n",
              "Perimeter            0.037975\n",
              "ConvexArea           0.009431\n",
              "Area                -0.011723\n",
              "MajorAxisLength     -4.487238\n",
              "MinorAxisLength     -7.631255\n",
              "Eccentricity       -28.706818\n",
              "roundness          -89.358547\n",
              "ShapeFactor3      -599.000928\n",
              "ShapeFactor4     -1598.684640\n",
              "ShapeFactor2     -9649.413185"
            ],
            "text/html": [
              "\n",
              "  <div id=\"df-8f0f261f-1f92-416c-a717-beba86ae663e\">\n",
              "    <div class=\"colab-df-container\">\n",
              "      <div>\n",
              "<style scoped>\n",
              "    .dataframe tbody tr th:only-of-type {\n",
              "        vertical-align: middle;\n",
              "    }\n",
              "\n",
              "    .dataframe tbody tr th {\n",
              "        vertical-align: top;\n",
              "    }\n",
              "\n",
              "    .dataframe thead th {\n",
              "        text-align: right;\n",
              "    }\n",
              "</style>\n",
              "<table border=\"1\" class=\"dataframe\">\n",
              "  <thead>\n",
              "    <tr style=\"text-align: right;\">\n",
              "      <th></th>\n",
              "      <th>0</th>\n",
              "    </tr>\n",
              "  </thead>\n",
              "  <tbody>\n",
              "    <tr>\n",
              "      <th>ShapeFactor1</th>\n",
              "      <td>24687.712604</td>\n",
              "    </tr>\n",
              "    <tr>\n",
              "      <th>Compactness</th>\n",
              "      <td>2498.767743</td>\n",
              "    </tr>\n",
              "    <tr>\n",
              "      <th>Solidity</th>\n",
              "      <td>390.223571</td>\n",
              "    </tr>\n",
              "    <tr>\n",
              "      <th>AspectRation</th>\n",
              "      <td>272.927961</td>\n",
              "    </tr>\n",
              "    <tr>\n",
              "      <th>EquivDiameter</th>\n",
              "      <td>13.312053</td>\n",
              "    </tr>\n",
              "    <tr>\n",
              "      <th>Extent</th>\n",
              "      <td>9.559247</td>\n",
              "    </tr>\n",
              "    <tr>\n",
              "      <th>Perimeter</th>\n",
              "      <td>0.037975</td>\n",
              "    </tr>\n",
              "    <tr>\n",
              "      <th>ConvexArea</th>\n",
              "      <td>0.009431</td>\n",
              "    </tr>\n",
              "    <tr>\n",
              "      <th>Area</th>\n",
              "      <td>-0.011723</td>\n",
              "    </tr>\n",
              "    <tr>\n",
              "      <th>MajorAxisLength</th>\n",
              "      <td>-4.487238</td>\n",
              "    </tr>\n",
              "    <tr>\n",
              "      <th>MinorAxisLength</th>\n",
              "      <td>-7.631255</td>\n",
              "    </tr>\n",
              "    <tr>\n",
              "      <th>Eccentricity</th>\n",
              "      <td>-28.706818</td>\n",
              "    </tr>\n",
              "    <tr>\n",
              "      <th>roundness</th>\n",
              "      <td>-89.358547</td>\n",
              "    </tr>\n",
              "    <tr>\n",
              "      <th>ShapeFactor3</th>\n",
              "      <td>-599.000928</td>\n",
              "    </tr>\n",
              "    <tr>\n",
              "      <th>ShapeFactor4</th>\n",
              "      <td>-1598.684640</td>\n",
              "    </tr>\n",
              "    <tr>\n",
              "      <th>ShapeFactor2</th>\n",
              "      <td>-9649.413185</td>\n",
              "    </tr>\n",
              "  </tbody>\n",
              "</table>\n",
              "</div>\n",
              "      <button class=\"colab-df-convert\" onclick=\"convertToInteractive('df-8f0f261f-1f92-416c-a717-beba86ae663e')\"\n",
              "              title=\"Convert this dataframe to an interactive table.\"\n",
              "              style=\"display:none;\">\n",
              "        \n",
              "  <svg xmlns=\"http://www.w3.org/2000/svg\" height=\"24px\"viewBox=\"0 0 24 24\"\n",
              "       width=\"24px\">\n",
              "    <path d=\"M0 0h24v24H0V0z\" fill=\"none\"/>\n",
              "    <path d=\"M18.56 5.44l.94 2.06.94-2.06 2.06-.94-2.06-.94-.94-2.06-.94 2.06-2.06.94zm-11 1L8.5 8.5l.94-2.06 2.06-.94-2.06-.94L8.5 2.5l-.94 2.06-2.06.94zm10 10l.94 2.06.94-2.06 2.06-.94-2.06-.94-.94-2.06-.94 2.06-2.06.94z\"/><path d=\"M17.41 7.96l-1.37-1.37c-.4-.4-.92-.59-1.43-.59-.52 0-1.04.2-1.43.59L10.3 9.45l-7.72 7.72c-.78.78-.78 2.05 0 2.83L4 21.41c.39.39.9.59 1.41.59.51 0 1.02-.2 1.41-.59l7.78-7.78 2.81-2.81c.8-.78.8-2.07 0-2.86zM5.41 20L4 18.59l7.72-7.72 1.47 1.35L5.41 20z\"/>\n",
              "  </svg>\n",
              "      </button>\n",
              "      \n",
              "  <style>\n",
              "    .colab-df-container {\n",
              "      display:flex;\n",
              "      flex-wrap:wrap;\n",
              "      gap: 12px;\n",
              "    }\n",
              "\n",
              "    .colab-df-convert {\n",
              "      background-color: #E8F0FE;\n",
              "      border: none;\n",
              "      border-radius: 50%;\n",
              "      cursor: pointer;\n",
              "      display: none;\n",
              "      fill: #1967D2;\n",
              "      height: 32px;\n",
              "      padding: 0 0 0 0;\n",
              "      width: 32px;\n",
              "    }\n",
              "\n",
              "    .colab-df-convert:hover {\n",
              "      background-color: #E2EBFA;\n",
              "      box-shadow: 0px 1px 2px rgba(60, 64, 67, 0.3), 0px 1px 3px 1px rgba(60, 64, 67, 0.15);\n",
              "      fill: #174EA6;\n",
              "    }\n",
              "\n",
              "    [theme=dark] .colab-df-convert {\n",
              "      background-color: #3B4455;\n",
              "      fill: #D2E3FC;\n",
              "    }\n",
              "\n",
              "    [theme=dark] .colab-df-convert:hover {\n",
              "      background-color: #434B5C;\n",
              "      box-shadow: 0px 1px 3px 1px rgba(0, 0, 0, 0.15);\n",
              "      filter: drop-shadow(0px 1px 2px rgba(0, 0, 0, 0.3));\n",
              "      fill: #FFFFFF;\n",
              "    }\n",
              "  </style>\n",
              "\n",
              "      <script>\n",
              "        const buttonEl =\n",
              "          document.querySelector('#df-8f0f261f-1f92-416c-a717-beba86ae663e button.colab-df-convert');\n",
              "        buttonEl.style.display =\n",
              "          google.colab.kernel.accessAllowed ? 'block' : 'none';\n",
              "\n",
              "        async function convertToInteractive(key) {\n",
              "          const element = document.querySelector('#df-8f0f261f-1f92-416c-a717-beba86ae663e');\n",
              "          const dataTable =\n",
              "            await google.colab.kernel.invokeFunction('convertToInteractive',\n",
              "                                                     [key], {});\n",
              "          if (!dataTable) return;\n",
              "\n",
              "          const docLinkHtml = 'Like what you see? Visit the ' +\n",
              "            '<a target=\"_blank\" href=https://colab.research.google.com/notebooks/data_table.ipynb>data table notebook</a>'\n",
              "            + ' to learn more about interactive tables.';\n",
              "          element.innerHTML = '';\n",
              "          dataTable['output_type'] = 'display_data';\n",
              "          await google.colab.output.renderOutput(dataTable, element);\n",
              "          const docLink = document.createElement('div');\n",
              "          docLink.innerHTML = docLinkHtml;\n",
              "          element.appendChild(docLink);\n",
              "        }\n",
              "      </script>\n",
              "    </div>\n",
              "  </div>\n",
              "  "
            ]
          },
          "metadata": {},
          "execution_count": 34
        }
      ],
      "source": [
        "# Linear Discriminant Analysis \n",
        "features=df.iloc[:, :16] #dependent variables\n",
        "feat = features \n",
        "label=df[\"Class\"] # target variable \n",
        "\n",
        "from sklearn.discriminant_analysis import LinearDiscriminantAnalysis as LDA\n",
        "en=LDA()\n",
        "\n",
        "lda=en.fit(feat,label)\n",
        "lda_feat=en.transform(feat)\n",
        "\n",
        "lda.coef_\n",
        "\n",
        "feat_imp=pd.DataFrame(index=feat.columns.values, data=lda.coef_[0].T)\n",
        "feat_imp.sort_values(0,ascending=False)"
      ]
    },
    {
      "cell_type": "markdown",
      "source": [
        "From this results, we can see that the first 4 features carry the most impact in determining class type. \n",
        "These features include : \n",
        "1. ShapeFactor1\n",
        "2. Compactness\n",
        "3. Solidity \n",
        "4. AspectRation\n",
        "\n",
        "When building a model these results from performing LDA should inform what features we're going to select\n",
        "\n",
        "\n",
        "By default, logistic regression cannot be used for classification tasks that have more than two class labels; multi-class classification.\n",
        "\n",
        "It requires modification in order to support multi-class classification problems\n",
        "\n",
        "A popular approach for adapting logistic regression to multi-class classification problems is to split the multi-class classification problem into multiple binary classification problems and fit a standard logistic regression model on each subproblem. Techniques of this type include one-vs-rest and one-vs-one wrapper models.\n",
        "\n",
        "For this specific task, we will need to use multinomial classification tools "
      ],
      "metadata": {
        "id": "xFhk0CrbIrhB"
      }
    },
    {
      "cell_type": "code",
      "source": [
        "df.columns"
      ],
      "metadata": {
        "colab": {
          "base_uri": "https://localhost:8080/"
        },
        "id": "0sDrdKjDMn0p",
        "outputId": "531a53c8-88a9-4f18-ac15-ba9606bd68c5"
      },
      "execution_count": 261,
      "outputs": [
        {
          "output_type": "execute_result",
          "data": {
            "text/plain": [
              "Index(['Area', 'Perimeter', 'MajorAxisLength', 'MinorAxisLength',\n",
              "       'AspectRation', 'Eccentricity', 'ConvexArea', 'EquivDiameter', 'Extent',\n",
              "       'Solidity', 'roundness', 'Compactness', 'ShapeFactor1', 'ShapeFactor2',\n",
              "       'ShapeFactor3', 'ShapeFactor4', 'Class'],\n",
              "      dtype='object')"
            ]
          },
          "metadata": {},
          "execution_count": 261
        }
      ]
    },
    {
      "cell_type": "markdown",
      "source": [
        "Performing Multiple logistic regression"
      ],
      "metadata": {
        "id": "ab8EzJbYKdLN"
      }
    },
    {
      "cell_type": "code",
      "source": [
        "dataset = features[[\"ShapeFactor1\", \"Compactness\", \"Solidity\", \"AspectRation\"]]"
      ],
      "metadata": {
        "id": "lwWi9IlRLSFT"
      },
      "execution_count": 35,
      "outputs": []
    },
    {
      "cell_type": "code",
      "source": [
        "from sklearn.preprocessing import StandardScaler\n",
        "scaler=StandardScaler()\n",
        "\n",
        "scaled=scaler.fit_transform(dataset)"
      ],
      "metadata": {
        "id": "8omPZp0LLTr9"
      },
      "execution_count": 36,
      "outputs": []
    },
    {
      "cell_type": "code",
      "source": [
        "scaled=pd.DataFrame(scaled, index=dataset.index, columns=dataset.columns)"
      ],
      "metadata": {
        "id": "o266p8QpLYbx"
      },
      "execution_count": 37,
      "outputs": []
    },
    {
      "cell_type": "code",
      "source": [
        "scaled"
      ],
      "metadata": {
        "colab": {
          "base_uri": "https://localhost:8080/",
          "height": 423
        },
        "id": "PqNBtvlbLkrn",
        "outputId": "284536a0-449b-45da-f279-f898247ca69e"
      },
      "execution_count": 38,
      "outputs": [
        {
          "output_type": "execute_result",
          "data": {
            "text/plain": [
              "       ShapeFactor1  Compactness  Solidity  AspectRation\n",
              "0          0.681918     1.838628  0.366476     -1.565363\n",
              "1          0.369552     2.497622 -0.465886     -1.972460\n",
              "2          0.604373     1.764053  0.517614     -1.514305\n",
              "3          0.403254     2.082211 -2.248692     -1.742960\n",
              "4          0.120215     2.768598  0.804605     -2.121534\n",
              "...             ...          ...       ...           ...\n",
              "13606      0.263164     0.024619  0.683738     -0.115589\n",
              "13607      0.112342     0.356320  0.774149     -0.426673\n",
              "13608      0.106237     0.364089  0.590730     -0.442403\n",
              "13609      0.143819     0.278309  0.142083     -0.374124\n",
              "13610      0.389069    -0.249827  0.536779      0.158078\n",
              "\n",
              "[13543 rows x 4 columns]"
            ],
            "text/html": [
              "\n",
              "  <div id=\"df-116fc197-e5f1-47ad-97d7-4fb6abfff2d8\">\n",
              "    <div class=\"colab-df-container\">\n",
              "      <div>\n",
              "<style scoped>\n",
              "    .dataframe tbody tr th:only-of-type {\n",
              "        vertical-align: middle;\n",
              "    }\n",
              "\n",
              "    .dataframe tbody tr th {\n",
              "        vertical-align: top;\n",
              "    }\n",
              "\n",
              "    .dataframe thead th {\n",
              "        text-align: right;\n",
              "    }\n",
              "</style>\n",
              "<table border=\"1\" class=\"dataframe\">\n",
              "  <thead>\n",
              "    <tr style=\"text-align: right;\">\n",
              "      <th></th>\n",
              "      <th>ShapeFactor1</th>\n",
              "      <th>Compactness</th>\n",
              "      <th>Solidity</th>\n",
              "      <th>AspectRation</th>\n",
              "    </tr>\n",
              "  </thead>\n",
              "  <tbody>\n",
              "    <tr>\n",
              "      <th>0</th>\n",
              "      <td>0.681918</td>\n",
              "      <td>1.838628</td>\n",
              "      <td>0.366476</td>\n",
              "      <td>-1.565363</td>\n",
              "    </tr>\n",
              "    <tr>\n",
              "      <th>1</th>\n",
              "      <td>0.369552</td>\n",
              "      <td>2.497622</td>\n",
              "      <td>-0.465886</td>\n",
              "      <td>-1.972460</td>\n",
              "    </tr>\n",
              "    <tr>\n",
              "      <th>2</th>\n",
              "      <td>0.604373</td>\n",
              "      <td>1.764053</td>\n",
              "      <td>0.517614</td>\n",
              "      <td>-1.514305</td>\n",
              "    </tr>\n",
              "    <tr>\n",
              "      <th>3</th>\n",
              "      <td>0.403254</td>\n",
              "      <td>2.082211</td>\n",
              "      <td>-2.248692</td>\n",
              "      <td>-1.742960</td>\n",
              "    </tr>\n",
              "    <tr>\n",
              "      <th>4</th>\n",
              "      <td>0.120215</td>\n",
              "      <td>2.768598</td>\n",
              "      <td>0.804605</td>\n",
              "      <td>-2.121534</td>\n",
              "    </tr>\n",
              "    <tr>\n",
              "      <th>...</th>\n",
              "      <td>...</td>\n",
              "      <td>...</td>\n",
              "      <td>...</td>\n",
              "      <td>...</td>\n",
              "    </tr>\n",
              "    <tr>\n",
              "      <th>13606</th>\n",
              "      <td>0.263164</td>\n",
              "      <td>0.024619</td>\n",
              "      <td>0.683738</td>\n",
              "      <td>-0.115589</td>\n",
              "    </tr>\n",
              "    <tr>\n",
              "      <th>13607</th>\n",
              "      <td>0.112342</td>\n",
              "      <td>0.356320</td>\n",
              "      <td>0.774149</td>\n",
              "      <td>-0.426673</td>\n",
              "    </tr>\n",
              "    <tr>\n",
              "      <th>13608</th>\n",
              "      <td>0.106237</td>\n",
              "      <td>0.364089</td>\n",
              "      <td>0.590730</td>\n",
              "      <td>-0.442403</td>\n",
              "    </tr>\n",
              "    <tr>\n",
              "      <th>13609</th>\n",
              "      <td>0.143819</td>\n",
              "      <td>0.278309</td>\n",
              "      <td>0.142083</td>\n",
              "      <td>-0.374124</td>\n",
              "    </tr>\n",
              "    <tr>\n",
              "      <th>13610</th>\n",
              "      <td>0.389069</td>\n",
              "      <td>-0.249827</td>\n",
              "      <td>0.536779</td>\n",
              "      <td>0.158078</td>\n",
              "    </tr>\n",
              "  </tbody>\n",
              "</table>\n",
              "<p>13543 rows × 4 columns</p>\n",
              "</div>\n",
              "      <button class=\"colab-df-convert\" onclick=\"convertToInteractive('df-116fc197-e5f1-47ad-97d7-4fb6abfff2d8')\"\n",
              "              title=\"Convert this dataframe to an interactive table.\"\n",
              "              style=\"display:none;\">\n",
              "        \n",
              "  <svg xmlns=\"http://www.w3.org/2000/svg\" height=\"24px\"viewBox=\"0 0 24 24\"\n",
              "       width=\"24px\">\n",
              "    <path d=\"M0 0h24v24H0V0z\" fill=\"none\"/>\n",
              "    <path d=\"M18.56 5.44l.94 2.06.94-2.06 2.06-.94-2.06-.94-.94-2.06-.94 2.06-2.06.94zm-11 1L8.5 8.5l.94-2.06 2.06-.94-2.06-.94L8.5 2.5l-.94 2.06-2.06.94zm10 10l.94 2.06.94-2.06 2.06-.94-2.06-.94-.94-2.06-.94 2.06-2.06.94z\"/><path d=\"M17.41 7.96l-1.37-1.37c-.4-.4-.92-.59-1.43-.59-.52 0-1.04.2-1.43.59L10.3 9.45l-7.72 7.72c-.78.78-.78 2.05 0 2.83L4 21.41c.39.39.9.59 1.41.59.51 0 1.02-.2 1.41-.59l7.78-7.78 2.81-2.81c.8-.78.8-2.07 0-2.86zM5.41 20L4 18.59l7.72-7.72 1.47 1.35L5.41 20z\"/>\n",
              "  </svg>\n",
              "      </button>\n",
              "      \n",
              "  <style>\n",
              "    .colab-df-container {\n",
              "      display:flex;\n",
              "      flex-wrap:wrap;\n",
              "      gap: 12px;\n",
              "    }\n",
              "\n",
              "    .colab-df-convert {\n",
              "      background-color: #E8F0FE;\n",
              "      border: none;\n",
              "      border-radius: 50%;\n",
              "      cursor: pointer;\n",
              "      display: none;\n",
              "      fill: #1967D2;\n",
              "      height: 32px;\n",
              "      padding: 0 0 0 0;\n",
              "      width: 32px;\n",
              "    }\n",
              "\n",
              "    .colab-df-convert:hover {\n",
              "      background-color: #E2EBFA;\n",
              "      box-shadow: 0px 1px 2px rgba(60, 64, 67, 0.3), 0px 1px 3px 1px rgba(60, 64, 67, 0.15);\n",
              "      fill: #174EA6;\n",
              "    }\n",
              "\n",
              "    [theme=dark] .colab-df-convert {\n",
              "      background-color: #3B4455;\n",
              "      fill: #D2E3FC;\n",
              "    }\n",
              "\n",
              "    [theme=dark] .colab-df-convert:hover {\n",
              "      background-color: #434B5C;\n",
              "      box-shadow: 0px 1px 3px 1px rgba(0, 0, 0, 0.15);\n",
              "      filter: drop-shadow(0px 1px 2px rgba(0, 0, 0, 0.3));\n",
              "      fill: #FFFFFF;\n",
              "    }\n",
              "  </style>\n",
              "\n",
              "      <script>\n",
              "        const buttonEl =\n",
              "          document.querySelector('#df-116fc197-e5f1-47ad-97d7-4fb6abfff2d8 button.colab-df-convert');\n",
              "        buttonEl.style.display =\n",
              "          google.colab.kernel.accessAllowed ? 'block' : 'none';\n",
              "\n",
              "        async function convertToInteractive(key) {\n",
              "          const element = document.querySelector('#df-116fc197-e5f1-47ad-97d7-4fb6abfff2d8');\n",
              "          const dataTable =\n",
              "            await google.colab.kernel.invokeFunction('convertToInteractive',\n",
              "                                                     [key], {});\n",
              "          if (!dataTable) return;\n",
              "\n",
              "          const docLinkHtml = 'Like what you see? Visit the ' +\n",
              "            '<a target=\"_blank\" href=https://colab.research.google.com/notebooks/data_table.ipynb>data table notebook</a>'\n",
              "            + ' to learn more about interactive tables.';\n",
              "          element.innerHTML = '';\n",
              "          dataTable['output_type'] = 'display_data';\n",
              "          await google.colab.output.renderOutput(dataTable, element);\n",
              "          const docLink = document.createElement('div');\n",
              "          docLink.innerHTML = docLinkHtml;\n",
              "          element.appendChild(docLink);\n",
              "        }\n",
              "      </script>\n",
              "    </div>\n",
              "  </div>\n",
              "  "
            ]
          },
          "metadata": {},
          "execution_count": 38
        }
      ]
    },
    {
      "cell_type": "code",
      "source": [
        "# Importing the Logistic Regression algorithm since this is a multinomial classification challenge \n",
        "\n",
        "from sklearn.linear_model import LogisticRegression"
      ],
      "metadata": {
        "id": "wH0pkBhrKmt2"
      },
      "execution_count": 39,
      "outputs": []
    },
    {
      "cell_type": "code",
      "source": [
        "model = LogisticRegression(penalty='l2', dual=False, tol=0.0001, C=1.0, fit_intercept=True, intercept_scaling=1, class_weight=None, \n",
        "random_state=None, solver='lbfgs', max_iter=100, multi_class='auto', verbose=0, warm_start=False, n_jobs=None, l1_ratio=None)"
      ],
      "metadata": {
        "id": "g14ouQ3TKnQD"
      },
      "execution_count": 40,
      "outputs": []
    },
    {
      "cell_type": "code",
      "source": [
        "# For small datasets, ‘liblinear’ is a good choice\n",
        "# ‘sag’ and ‘saga’ are faster for large ones - our dataset is neither to large or too small\n",
        "# For multiclass problems, only ‘newton-cg’, ‘sag’, ‘saga’ and ‘lbfgs’ handle multinomial loss;\n",
        "#‘liblinear’ is limited to one-versus-rest schemes\n",
        "# l2 is the penalty term, apart from being the defaut term, it works well with 'lbfgs'"
      ],
      "metadata": {
        "id": "gJlxMNNyKnOh"
      },
      "execution_count": null,
      "outputs": []
    },
    {
      "cell_type": "code",
      "source": [
        "X = scaled\n",
        "y =label"
      ],
      "metadata": {
        "id": "YRITOVvQKnLl"
      },
      "execution_count": 41,
      "outputs": []
    },
    {
      "cell_type": "code",
      "source": [
        "X"
      ],
      "metadata": {
        "colab": {
          "base_uri": "https://localhost:8080/",
          "height": 423
        },
        "id": "-IlleqX1KnJ9",
        "outputId": "352f0f2b-cb4d-4338-ef92-8c585a72cb7f"
      },
      "execution_count": 42,
      "outputs": [
        {
          "output_type": "execute_result",
          "data": {
            "text/plain": [
              "       ShapeFactor1  Compactness  Solidity  AspectRation\n",
              "0          0.681918     1.838628  0.366476     -1.565363\n",
              "1          0.369552     2.497622 -0.465886     -1.972460\n",
              "2          0.604373     1.764053  0.517614     -1.514305\n",
              "3          0.403254     2.082211 -2.248692     -1.742960\n",
              "4          0.120215     2.768598  0.804605     -2.121534\n",
              "...             ...          ...       ...           ...\n",
              "13606      0.263164     0.024619  0.683738     -0.115589\n",
              "13607      0.112342     0.356320  0.774149     -0.426673\n",
              "13608      0.106237     0.364089  0.590730     -0.442403\n",
              "13609      0.143819     0.278309  0.142083     -0.374124\n",
              "13610      0.389069    -0.249827  0.536779      0.158078\n",
              "\n",
              "[13543 rows x 4 columns]"
            ],
            "text/html": [
              "\n",
              "  <div id=\"df-92dfa20b-0532-4058-b88c-c510a2843795\">\n",
              "    <div class=\"colab-df-container\">\n",
              "      <div>\n",
              "<style scoped>\n",
              "    .dataframe tbody tr th:only-of-type {\n",
              "        vertical-align: middle;\n",
              "    }\n",
              "\n",
              "    .dataframe tbody tr th {\n",
              "        vertical-align: top;\n",
              "    }\n",
              "\n",
              "    .dataframe thead th {\n",
              "        text-align: right;\n",
              "    }\n",
              "</style>\n",
              "<table border=\"1\" class=\"dataframe\">\n",
              "  <thead>\n",
              "    <tr style=\"text-align: right;\">\n",
              "      <th></th>\n",
              "      <th>ShapeFactor1</th>\n",
              "      <th>Compactness</th>\n",
              "      <th>Solidity</th>\n",
              "      <th>AspectRation</th>\n",
              "    </tr>\n",
              "  </thead>\n",
              "  <tbody>\n",
              "    <tr>\n",
              "      <th>0</th>\n",
              "      <td>0.681918</td>\n",
              "      <td>1.838628</td>\n",
              "      <td>0.366476</td>\n",
              "      <td>-1.565363</td>\n",
              "    </tr>\n",
              "    <tr>\n",
              "      <th>1</th>\n",
              "      <td>0.369552</td>\n",
              "      <td>2.497622</td>\n",
              "      <td>-0.465886</td>\n",
              "      <td>-1.972460</td>\n",
              "    </tr>\n",
              "    <tr>\n",
              "      <th>2</th>\n",
              "      <td>0.604373</td>\n",
              "      <td>1.764053</td>\n",
              "      <td>0.517614</td>\n",
              "      <td>-1.514305</td>\n",
              "    </tr>\n",
              "    <tr>\n",
              "      <th>3</th>\n",
              "      <td>0.403254</td>\n",
              "      <td>2.082211</td>\n",
              "      <td>-2.248692</td>\n",
              "      <td>-1.742960</td>\n",
              "    </tr>\n",
              "    <tr>\n",
              "      <th>4</th>\n",
              "      <td>0.120215</td>\n",
              "      <td>2.768598</td>\n",
              "      <td>0.804605</td>\n",
              "      <td>-2.121534</td>\n",
              "    </tr>\n",
              "    <tr>\n",
              "      <th>...</th>\n",
              "      <td>...</td>\n",
              "      <td>...</td>\n",
              "      <td>...</td>\n",
              "      <td>...</td>\n",
              "    </tr>\n",
              "    <tr>\n",
              "      <th>13606</th>\n",
              "      <td>0.263164</td>\n",
              "      <td>0.024619</td>\n",
              "      <td>0.683738</td>\n",
              "      <td>-0.115589</td>\n",
              "    </tr>\n",
              "    <tr>\n",
              "      <th>13607</th>\n",
              "      <td>0.112342</td>\n",
              "      <td>0.356320</td>\n",
              "      <td>0.774149</td>\n",
              "      <td>-0.426673</td>\n",
              "    </tr>\n",
              "    <tr>\n",
              "      <th>13608</th>\n",
              "      <td>0.106237</td>\n",
              "      <td>0.364089</td>\n",
              "      <td>0.590730</td>\n",
              "      <td>-0.442403</td>\n",
              "    </tr>\n",
              "    <tr>\n",
              "      <th>13609</th>\n",
              "      <td>0.143819</td>\n",
              "      <td>0.278309</td>\n",
              "      <td>0.142083</td>\n",
              "      <td>-0.374124</td>\n",
              "    </tr>\n",
              "    <tr>\n",
              "      <th>13610</th>\n",
              "      <td>0.389069</td>\n",
              "      <td>-0.249827</td>\n",
              "      <td>0.536779</td>\n",
              "      <td>0.158078</td>\n",
              "    </tr>\n",
              "  </tbody>\n",
              "</table>\n",
              "<p>13543 rows × 4 columns</p>\n",
              "</div>\n",
              "      <button class=\"colab-df-convert\" onclick=\"convertToInteractive('df-92dfa20b-0532-4058-b88c-c510a2843795')\"\n",
              "              title=\"Convert this dataframe to an interactive table.\"\n",
              "              style=\"display:none;\">\n",
              "        \n",
              "  <svg xmlns=\"http://www.w3.org/2000/svg\" height=\"24px\"viewBox=\"0 0 24 24\"\n",
              "       width=\"24px\">\n",
              "    <path d=\"M0 0h24v24H0V0z\" fill=\"none\"/>\n",
              "    <path d=\"M18.56 5.44l.94 2.06.94-2.06 2.06-.94-2.06-.94-.94-2.06-.94 2.06-2.06.94zm-11 1L8.5 8.5l.94-2.06 2.06-.94-2.06-.94L8.5 2.5l-.94 2.06-2.06.94zm10 10l.94 2.06.94-2.06 2.06-.94-2.06-.94-.94-2.06-.94 2.06-2.06.94z\"/><path d=\"M17.41 7.96l-1.37-1.37c-.4-.4-.92-.59-1.43-.59-.52 0-1.04.2-1.43.59L10.3 9.45l-7.72 7.72c-.78.78-.78 2.05 0 2.83L4 21.41c.39.39.9.59 1.41.59.51 0 1.02-.2 1.41-.59l7.78-7.78 2.81-2.81c.8-.78.8-2.07 0-2.86zM5.41 20L4 18.59l7.72-7.72 1.47 1.35L5.41 20z\"/>\n",
              "  </svg>\n",
              "      </button>\n",
              "      \n",
              "  <style>\n",
              "    .colab-df-container {\n",
              "      display:flex;\n",
              "      flex-wrap:wrap;\n",
              "      gap: 12px;\n",
              "    }\n",
              "\n",
              "    .colab-df-convert {\n",
              "      background-color: #E8F0FE;\n",
              "      border: none;\n",
              "      border-radius: 50%;\n",
              "      cursor: pointer;\n",
              "      display: none;\n",
              "      fill: #1967D2;\n",
              "      height: 32px;\n",
              "      padding: 0 0 0 0;\n",
              "      width: 32px;\n",
              "    }\n",
              "\n",
              "    .colab-df-convert:hover {\n",
              "      background-color: #E2EBFA;\n",
              "      box-shadow: 0px 1px 2px rgba(60, 64, 67, 0.3), 0px 1px 3px 1px rgba(60, 64, 67, 0.15);\n",
              "      fill: #174EA6;\n",
              "    }\n",
              "\n",
              "    [theme=dark] .colab-df-convert {\n",
              "      background-color: #3B4455;\n",
              "      fill: #D2E3FC;\n",
              "    }\n",
              "\n",
              "    [theme=dark] .colab-df-convert:hover {\n",
              "      background-color: #434B5C;\n",
              "      box-shadow: 0px 1px 3px 1px rgba(0, 0, 0, 0.15);\n",
              "      filter: drop-shadow(0px 1px 2px rgba(0, 0, 0, 0.3));\n",
              "      fill: #FFFFFF;\n",
              "    }\n",
              "  </style>\n",
              "\n",
              "      <script>\n",
              "        const buttonEl =\n",
              "          document.querySelector('#df-92dfa20b-0532-4058-b88c-c510a2843795 button.colab-df-convert');\n",
              "        buttonEl.style.display =\n",
              "          google.colab.kernel.accessAllowed ? 'block' : 'none';\n",
              "\n",
              "        async function convertToInteractive(key) {\n",
              "          const element = document.querySelector('#df-92dfa20b-0532-4058-b88c-c510a2843795');\n",
              "          const dataTable =\n",
              "            await google.colab.kernel.invokeFunction('convertToInteractive',\n",
              "                                                     [key], {});\n",
              "          if (!dataTable) return;\n",
              "\n",
              "          const docLinkHtml = 'Like what you see? Visit the ' +\n",
              "            '<a target=\"_blank\" href=https://colab.research.google.com/notebooks/data_table.ipynb>data table notebook</a>'\n",
              "            + ' to learn more about interactive tables.';\n",
              "          element.innerHTML = '';\n",
              "          dataTable['output_type'] = 'display_data';\n",
              "          await google.colab.output.renderOutput(dataTable, element);\n",
              "          const docLink = document.createElement('div');\n",
              "          docLink.innerHTML = docLinkHtml;\n",
              "          element.appendChild(docLink);\n",
              "        }\n",
              "      </script>\n",
              "    </div>\n",
              "  </div>\n",
              "  "
            ]
          },
          "metadata": {},
          "execution_count": 42
        }
      ]
    },
    {
      "cell_type": "code",
      "source": [
        "y"
      ],
      "metadata": {
        "colab": {
          "base_uri": "https://localhost:8080/"
        },
        "id": "j_F5jpv2KnGb",
        "outputId": "709fd8a6-0a4d-4173-ab08-4c1ffffba8c3"
      },
      "execution_count": 43,
      "outputs": [
        {
          "output_type": "execute_result",
          "data": {
            "text/plain": [
              "0           SEKER\n",
              "1           SEKER\n",
              "2           SEKER\n",
              "3           SEKER\n",
              "4           SEKER\n",
              "           ...   \n",
              "13606    DERMASON\n",
              "13607    DERMASON\n",
              "13608    DERMASON\n",
              "13609    DERMASON\n",
              "13610    DERMASON\n",
              "Name: Class, Length: 13543, dtype: object"
            ]
          },
          "metadata": {},
          "execution_count": 43
        }
      ]
    },
    {
      "cell_type": "code",
      "source": [
        "import warnings\n",
        "warnings.filterwarnings(\"ignore\")"
      ],
      "metadata": {
        "id": "qR_UYMHCPEkH"
      },
      "execution_count": 56,
      "outputs": []
    },
    {
      "cell_type": "code",
      "source": [
        "# label encoding \n",
        "from sklearn.preprocessing import LabelEncoder\n",
        "en=LabelEncoder()\n",
        "\n",
        "y = en.fit_transform(df['Class'])"
      ],
      "metadata": {
        "id": "WB7iGEu5O0he"
      },
      "execution_count": 50,
      "outputs": []
    },
    {
      "cell_type": "code",
      "source": [
        "y"
      ],
      "metadata": {
        "colab": {
          "base_uri": "https://localhost:8080/"
        },
        "id": "1MSBWxfAO7rd",
        "outputId": "908565ca-191e-4114-cfdd-8882575a1932"
      },
      "execution_count": 57,
      "outputs": [
        {
          "output_type": "execute_result",
          "data": {
            "text/plain": [
              "array([5, 5, 5, ..., 3, 3, 3])"
            ]
          },
          "metadata": {},
          "execution_count": 57
        }
      ]
    },
    {
      "cell_type": "code",
      "source": [
        "# Splitting our data into the train and test sets.\n",
        "\n",
        "from sklearn.model_selection import train_test_split\n",
        "\n",
        "X_train, X_test, y_train, y_test=train_test_split(X,y, test_size=0.3, random_state=42)"
      ],
      "metadata": {
        "id": "6bmbVEQQKnEx"
      },
      "execution_count": 65,
      "outputs": []
    },
    {
      "cell_type": "code",
      "source": [
        "# Importing the Logistic Regression algorithm since this is a multinomial classification challenge \n",
        "\n",
        "from sklearn.linear_model import LogisticRegression"
      ],
      "metadata": {
        "id": "utEjJRw3KnBw"
      },
      "execution_count": 59,
      "outputs": []
    },
    {
      "cell_type": "code",
      "source": [
        "# Explaining some model parameters \n",
        "# For small datasets, ‘liblinear’ is a good choice\n",
        "# ‘sag’ and ‘saga’ are faster for large ones - our dataset is neither to large or too small\n",
        "# For multiclass problems, only ‘newton-cg’, ‘sag’, ‘saga’ and ‘lbfgs’ handle multinomial loss;\n",
        "# ‘liblinear’ is limited to one-versus-rest schemes\n",
        "# l2 is the penalty term, apart from being the defaut term, it works well with 'lbfgs'\n",
        "model = LogisticRegression(penalty='l2', dual=False, tol=0.0001, C=1.0, fit_intercept=True, intercept_scaling=1, class_weight=None, \n",
        "random_state=None, solver='lbfgs', max_iter=100, multi_class='auto', verbose=0, warm_start=False, n_jobs=None, l1_ratio=None)\n"
      ],
      "metadata": {
        "id": "dXXwsGhhKnAZ"
      },
      "execution_count": 60,
      "outputs": []
    },
    {
      "cell_type": "code",
      "source": [
        "model.fit(X_train, y_train)"
      ],
      "metadata": {
        "colab": {
          "base_uri": "https://localhost:8080/"
        },
        "id": "xUrrsWq8Km5n",
        "outputId": "ee2dc2b4-1907-421f-e4ad-91c3b2273b30"
      },
      "execution_count": 61,
      "outputs": [
        {
          "output_type": "execute_result",
          "data": {
            "text/plain": [
              "LogisticRegression()"
            ]
          },
          "metadata": {},
          "execution_count": 61
        }
      ]
    },
    {
      "cell_type": "code",
      "source": [
        "# Making our prediction using our trained model.\n",
        "\n",
        "y_pred=model.predict(X_test)\n",
        "y_pred"
      ],
      "metadata": {
        "colab": {
          "base_uri": "https://localhost:8080/"
        },
        "id": "NpSxGU-BNrRw",
        "outputId": "c8597670-dd1c-4b74-980a-051e162a837d"
      },
      "execution_count": 48,
      "outputs": [
        {
          "output_type": "execute_result",
          "data": {
            "text/plain": [
              "array(['SEKER', 'BARBUNYA', 'DERMASON', ..., 'SIRA', 'BARBUNYA',\n",
              "       'BARBUNYA'], dtype=object)"
            ]
          },
          "metadata": {},
          "execution_count": 48
        }
      ]
    },
    {
      "cell_type": "code",
      "source": [
        "X"
      ],
      "metadata": {
        "colab": {
          "base_uri": "https://localhost:8080/",
          "height": 423
        },
        "id": "Xotts_zcPPzd",
        "outputId": "b0db1a19-77aa-418b-9ec8-09ed6325398b"
      },
      "execution_count": 63,
      "outputs": [
        {
          "output_type": "execute_result",
          "data": {
            "text/plain": [
              "       ShapeFactor1  Compactness  Solidity  AspectRation\n",
              "0          0.681918     1.838628  0.366476     -1.565363\n",
              "1          0.369552     2.497622 -0.465886     -1.972460\n",
              "2          0.604373     1.764053  0.517614     -1.514305\n",
              "3          0.403254     2.082211 -2.248692     -1.742960\n",
              "4          0.120215     2.768598  0.804605     -2.121534\n",
              "...             ...          ...       ...           ...\n",
              "13606      0.263164     0.024619  0.683738     -0.115589\n",
              "13607      0.112342     0.356320  0.774149     -0.426673\n",
              "13608      0.106237     0.364089  0.590730     -0.442403\n",
              "13609      0.143819     0.278309  0.142083     -0.374124\n",
              "13610      0.389069    -0.249827  0.536779      0.158078\n",
              "\n",
              "[13543 rows x 4 columns]"
            ],
            "text/html": [
              "\n",
              "  <div id=\"df-2ccffff7-f0b2-47b0-93e3-f5ec525de4b9\">\n",
              "    <div class=\"colab-df-container\">\n",
              "      <div>\n",
              "<style scoped>\n",
              "    .dataframe tbody tr th:only-of-type {\n",
              "        vertical-align: middle;\n",
              "    }\n",
              "\n",
              "    .dataframe tbody tr th {\n",
              "        vertical-align: top;\n",
              "    }\n",
              "\n",
              "    .dataframe thead th {\n",
              "        text-align: right;\n",
              "    }\n",
              "</style>\n",
              "<table border=\"1\" class=\"dataframe\">\n",
              "  <thead>\n",
              "    <tr style=\"text-align: right;\">\n",
              "      <th></th>\n",
              "      <th>ShapeFactor1</th>\n",
              "      <th>Compactness</th>\n",
              "      <th>Solidity</th>\n",
              "      <th>AspectRation</th>\n",
              "    </tr>\n",
              "  </thead>\n",
              "  <tbody>\n",
              "    <tr>\n",
              "      <th>0</th>\n",
              "      <td>0.681918</td>\n",
              "      <td>1.838628</td>\n",
              "      <td>0.366476</td>\n",
              "      <td>-1.565363</td>\n",
              "    </tr>\n",
              "    <tr>\n",
              "      <th>1</th>\n",
              "      <td>0.369552</td>\n",
              "      <td>2.497622</td>\n",
              "      <td>-0.465886</td>\n",
              "      <td>-1.972460</td>\n",
              "    </tr>\n",
              "    <tr>\n",
              "      <th>2</th>\n",
              "      <td>0.604373</td>\n",
              "      <td>1.764053</td>\n",
              "      <td>0.517614</td>\n",
              "      <td>-1.514305</td>\n",
              "    </tr>\n",
              "    <tr>\n",
              "      <th>3</th>\n",
              "      <td>0.403254</td>\n",
              "      <td>2.082211</td>\n",
              "      <td>-2.248692</td>\n",
              "      <td>-1.742960</td>\n",
              "    </tr>\n",
              "    <tr>\n",
              "      <th>4</th>\n",
              "      <td>0.120215</td>\n",
              "      <td>2.768598</td>\n",
              "      <td>0.804605</td>\n",
              "      <td>-2.121534</td>\n",
              "    </tr>\n",
              "    <tr>\n",
              "      <th>...</th>\n",
              "      <td>...</td>\n",
              "      <td>...</td>\n",
              "      <td>...</td>\n",
              "      <td>...</td>\n",
              "    </tr>\n",
              "    <tr>\n",
              "      <th>13606</th>\n",
              "      <td>0.263164</td>\n",
              "      <td>0.024619</td>\n",
              "      <td>0.683738</td>\n",
              "      <td>-0.115589</td>\n",
              "    </tr>\n",
              "    <tr>\n",
              "      <th>13607</th>\n",
              "      <td>0.112342</td>\n",
              "      <td>0.356320</td>\n",
              "      <td>0.774149</td>\n",
              "      <td>-0.426673</td>\n",
              "    </tr>\n",
              "    <tr>\n",
              "      <th>13608</th>\n",
              "      <td>0.106237</td>\n",
              "      <td>0.364089</td>\n",
              "      <td>0.590730</td>\n",
              "      <td>-0.442403</td>\n",
              "    </tr>\n",
              "    <tr>\n",
              "      <th>13609</th>\n",
              "      <td>0.143819</td>\n",
              "      <td>0.278309</td>\n",
              "      <td>0.142083</td>\n",
              "      <td>-0.374124</td>\n",
              "    </tr>\n",
              "    <tr>\n",
              "      <th>13610</th>\n",
              "      <td>0.389069</td>\n",
              "      <td>-0.249827</td>\n",
              "      <td>0.536779</td>\n",
              "      <td>0.158078</td>\n",
              "    </tr>\n",
              "  </tbody>\n",
              "</table>\n",
              "<p>13543 rows × 4 columns</p>\n",
              "</div>\n",
              "      <button class=\"colab-df-convert\" onclick=\"convertToInteractive('df-2ccffff7-f0b2-47b0-93e3-f5ec525de4b9')\"\n",
              "              title=\"Convert this dataframe to an interactive table.\"\n",
              "              style=\"display:none;\">\n",
              "        \n",
              "  <svg xmlns=\"http://www.w3.org/2000/svg\" height=\"24px\"viewBox=\"0 0 24 24\"\n",
              "       width=\"24px\">\n",
              "    <path d=\"M0 0h24v24H0V0z\" fill=\"none\"/>\n",
              "    <path d=\"M18.56 5.44l.94 2.06.94-2.06 2.06-.94-2.06-.94-.94-2.06-.94 2.06-2.06.94zm-11 1L8.5 8.5l.94-2.06 2.06-.94-2.06-.94L8.5 2.5l-.94 2.06-2.06.94zm10 10l.94 2.06.94-2.06 2.06-.94-2.06-.94-.94-2.06-.94 2.06-2.06.94z\"/><path d=\"M17.41 7.96l-1.37-1.37c-.4-.4-.92-.59-1.43-.59-.52 0-1.04.2-1.43.59L10.3 9.45l-7.72 7.72c-.78.78-.78 2.05 0 2.83L4 21.41c.39.39.9.59 1.41.59.51 0 1.02-.2 1.41-.59l7.78-7.78 2.81-2.81c.8-.78.8-2.07 0-2.86zM5.41 20L4 18.59l7.72-7.72 1.47 1.35L5.41 20z\"/>\n",
              "  </svg>\n",
              "      </button>\n",
              "      \n",
              "  <style>\n",
              "    .colab-df-container {\n",
              "      display:flex;\n",
              "      flex-wrap:wrap;\n",
              "      gap: 12px;\n",
              "    }\n",
              "\n",
              "    .colab-df-convert {\n",
              "      background-color: #E8F0FE;\n",
              "      border: none;\n",
              "      border-radius: 50%;\n",
              "      cursor: pointer;\n",
              "      display: none;\n",
              "      fill: #1967D2;\n",
              "      height: 32px;\n",
              "      padding: 0 0 0 0;\n",
              "      width: 32px;\n",
              "    }\n",
              "\n",
              "    .colab-df-convert:hover {\n",
              "      background-color: #E2EBFA;\n",
              "      box-shadow: 0px 1px 2px rgba(60, 64, 67, 0.3), 0px 1px 3px 1px rgba(60, 64, 67, 0.15);\n",
              "      fill: #174EA6;\n",
              "    }\n",
              "\n",
              "    [theme=dark] .colab-df-convert {\n",
              "      background-color: #3B4455;\n",
              "      fill: #D2E3FC;\n",
              "    }\n",
              "\n",
              "    [theme=dark] .colab-df-convert:hover {\n",
              "      background-color: #434B5C;\n",
              "      box-shadow: 0px 1px 3px 1px rgba(0, 0, 0, 0.15);\n",
              "      filter: drop-shadow(0px 1px 2px rgba(0, 0, 0, 0.3));\n",
              "      fill: #FFFFFF;\n",
              "    }\n",
              "  </style>\n",
              "\n",
              "      <script>\n",
              "        const buttonEl =\n",
              "          document.querySelector('#df-2ccffff7-f0b2-47b0-93e3-f5ec525de4b9 button.colab-df-convert');\n",
              "        buttonEl.style.display =\n",
              "          google.colab.kernel.accessAllowed ? 'block' : 'none';\n",
              "\n",
              "        async function convertToInteractive(key) {\n",
              "          const element = document.querySelector('#df-2ccffff7-f0b2-47b0-93e3-f5ec525de4b9');\n",
              "          const dataTable =\n",
              "            await google.colab.kernel.invokeFunction('convertToInteractive',\n",
              "                                                     [key], {});\n",
              "          if (!dataTable) return;\n",
              "\n",
              "          const docLinkHtml = 'Like what you see? Visit the ' +\n",
              "            '<a target=\"_blank\" href=https://colab.research.google.com/notebooks/data_table.ipynb>data table notebook</a>'\n",
              "            + ' to learn more about interactive tables.';\n",
              "          element.innerHTML = '';\n",
              "          dataTable['output_type'] = 'display_data';\n",
              "          await google.colab.output.renderOutput(dataTable, element);\n",
              "          const docLink = document.createElement('div');\n",
              "          docLink.innerHTML = docLinkHtml;\n",
              "          element.appendChild(docLink);\n",
              "        }\n",
              "      </script>\n",
              "    </div>\n",
              "  </div>\n",
              "  "
            ]
          },
          "metadata": {},
          "execution_count": 63
        }
      ]
    },
    {
      "cell_type": "code",
      "source": [
        "y"
      ],
      "metadata": {
        "colab": {
          "base_uri": "https://localhost:8080/"
        },
        "id": "8WS25ZJ2PSKp",
        "outputId": "b00b2905-15e2-4b71-bd83-1da5b48e7231"
      },
      "execution_count": 64,
      "outputs": [
        {
          "output_type": "execute_result",
          "data": {
            "text/plain": [
              "array([5, 5, 5, ..., 3, 3, 3])"
            ]
          },
          "metadata": {},
          "execution_count": 64
        }
      ]
    },
    {
      "cell_type": "code",
      "source": [
        "# Evaluating the model.\n",
        "\n",
        "from sklearn.metrics import accuracy_score, confusion_matrix, explained_variance_score,classification_report\n",
        "\n",
        "print(accuracy_score(y_test,y_pred))\n",
        "print(explained_variance_score(y_test,y_pred))\n",
        "print(classification_report(y_test,y_pred))"
      ],
      "metadata": {
        "colab": {
          "base_uri": "https://localhost:8080/"
        },
        "id": "WElGGsquNrNT",
        "outputId": "4451ed88-311c-4b5d-852c-5aedbbede6d1"
      },
      "execution_count": 75,
      "outputs": [
        {
          "output_type": "stream",
          "name": "stdout",
          "text": [
            "0.8705390105833128\n",
            "0.7187484584704201\n",
            "              precision    recall  f1-score   support\n",
            "\n",
            "           0       0.75      0.70      0.73       396\n",
            "           1       0.96      0.78      0.86       161\n",
            "           2       0.77      0.84      0.80       473\n",
            "           3       0.93      0.89      0.91      1065\n",
            "           4       0.94      0.95      0.95       553\n",
            "           5       0.91      0.95      0.93       618\n",
            "           6       0.82      0.85      0.84       797\n",
            "\n",
            "    accuracy                           0.87      4063\n",
            "   macro avg       0.87      0.85      0.86      4063\n",
            "weighted avg       0.87      0.87      0.87      4063\n",
            "\n"
          ]
        }
      ]
    },
    {
      "cell_type": "code",
      "source": [
        "# Optimizing the model.\n",
        "\n",
        "from sklearn.model_selection import GridSearchCV\n",
        "\n",
        "model1 = LogisticRegression()\n",
        "param_grid = [{'penalty': ['l1', 'l2'], \n",
        "               'C': np.logspace(0, 4, 5),\n",
        "               'solver' : ['lbfgs', 'newton-cg', 'liblinear','saga'],\n",
        "               'max_iter' : [5, 10]\n",
        "               }\n",
        "              ]\n",
        "\n",
        "#Creating grid search using 5-fold cross validation:\n",
        "clf = GridSearchCV(model1, param_grid = param_grid, cv=5, verbose=0, scoring = 'accuracy')"
      ],
      "metadata": {
        "id": "n7JLIZD6NrL4"
      },
      "execution_count": 67,
      "outputs": []
    },
    {
      "cell_type": "code",
      "source": [
        "import warnings\n",
        "warnings.filterwarnings(\"ignore\")\n",
        "# Fitting grid search\n",
        "best_clf = clf.fit(X_train, y_train)\n",
        "#Predicting values based on the new parameters:\n",
        "y_pred = best_clf.predict(X_test)\n",
        "print('Best Penalty:', best_clf.best_estimator_.get_params()['penalty'])\n",
        "print('Best C:', best_clf.best_estimator_.get_params()['C'])\n",
        "print('Best Solver:', best_clf.best_estimator_.get_params()['solver'])\n",
        "print('Best max_iter:', best_clf.best_estimator_.get_params()['max_iter'])\n",
        "print('best_score',best_clf.best_score_)"
      ],
      "metadata": {
        "colab": {
          "base_uri": "https://localhost:8080/"
        },
        "id": "v-7JGmDpODab",
        "outputId": "ad94ba1f-22f5-4413-841c-6b505107eee7"
      },
      "execution_count": 68,
      "outputs": [
        {
          "output_type": "stream",
          "name": "stdout",
          "text": [
            "Best Penalty: l2\n",
            "Best C: 10000.0\n",
            "Best Solver: newton-cg\n",
            "Best max_iter: 10\n",
            "best_score 0.900632911392405\n"
          ]
        }
      ]
    },
    {
      "cell_type": "code",
      "source": [
        "model1 =LogisticRegression(penalty='l2',C=1,solver='lbfgs',max_iter=5, random_state=0)\n",
        "model1.fit(X_train,y_train)"
      ],
      "metadata": {
        "colab": {
          "base_uri": "https://localhost:8080/"
        },
        "id": "vf-ZmTjrOJC5",
        "outputId": "57f55b20-2f25-4722-d18b-6cb996498e2c"
      },
      "execution_count": 69,
      "outputs": [
        {
          "output_type": "execute_result",
          "data": {
            "text/plain": [
              "LogisticRegression(C=1, max_iter=5, random_state=0)"
            ]
          },
          "metadata": {},
          "execution_count": 69
        }
      ]
    },
    {
      "cell_type": "code",
      "source": [
        "y_pred=model1.predict(X_test)"
      ],
      "metadata": {
        "id": "t9W6aEiMOMyZ"
      },
      "execution_count": 70,
      "outputs": []
    },
    {
      "cell_type": "code",
      "source": [
        "print(accuracy_score(y_test,y_pred))\n",
        "print(confusion_matrix(y_test,y_pred))\n",
        "print(explained_variance_score(y_test,y_pred))\n",
        "print(classification_report(y_test,y_pred))"
      ],
      "metadata": {
        "colab": {
          "base_uri": "https://localhost:8080/"
        },
        "id": "2Aq-sO9NOPWo",
        "outputId": "53c9fa4a-209e-41f5-d659-a66055ef811a"
      },
      "execution_count": 71,
      "outputs": [
        {
          "output_type": "stream",
          "name": "stdout",
          "text": [
            "0.8705390105833128\n",
            "[[277   0  95   0   1   2  21]\n",
            " [ 22 125  14   0   0   0   0]\n",
            " [ 52   5 395   0   7   2  12]\n",
            " [  0   0   0 947   2  30  86]\n",
            " [  4   0   9   4 526   0  10]\n",
            " [  7   0   0   6   0 589  16]\n",
            " [  6   0   1  64  22  26 678]]\n",
            "0.7187484584704201\n",
            "              precision    recall  f1-score   support\n",
            "\n",
            "           0       0.75      0.70      0.73       396\n",
            "           1       0.96      0.78      0.86       161\n",
            "           2       0.77      0.84      0.80       473\n",
            "           3       0.93      0.89      0.91      1065\n",
            "           4       0.94      0.95      0.95       553\n",
            "           5       0.91      0.95      0.93       618\n",
            "           6       0.82      0.85      0.84       797\n",
            "\n",
            "    accuracy                           0.87      4063\n",
            "   macro avg       0.87      0.85      0.86      4063\n",
            "weighted avg       0.87      0.87      0.87      4063\n",
            "\n"
          ]
        }
      ]
    },
    {
      "cell_type": "code",
      "source": [
        "print(f'Train Accuracy: {model1.score(X_train, y_train):.2f}')\n",
        "print(f'Test Accuracy: {model1.score(X_test, y_test):.2f}')"
      ],
      "metadata": {
        "colab": {
          "base_uri": "https://localhost:8080/"
        },
        "id": "XSgKH6k1OYQQ",
        "outputId": "03b7a33a-a61c-4f56-c962-c27b51a3bc59"
      },
      "execution_count": 72,
      "outputs": [
        {
          "output_type": "stream",
          "name": "stdout",
          "text": [
            "Train Accuracy: 0.87\n",
            "Test Accuracy: 0.87\n"
          ]
        }
      ]
    },
    {
      "cell_type": "code",
      "source": [
        "# predicting using logistic regression\n",
        "y_pred =np.round(model1.predict(X_test),decimals=1)\n",
        "y_pred"
      ],
      "metadata": {
        "colab": {
          "base_uri": "https://localhost:8080/"
        },
        "id": "EjgWqaxUOYOz",
        "outputId": "86b490da-376d-4813-8ebb-37f374ccd047"
      },
      "execution_count": 73,
      "outputs": [
        {
          "output_type": "execute_result",
          "data": {
            "text/plain": [
              "array([5, 0, 3, ..., 6, 0, 0])"
            ]
          },
          "metadata": {},
          "execution_count": 73
        }
      ]
    },
    {
      "cell_type": "code",
      "source": [
        "#comparing the actual values verses the predicted ones\n",
        "comparison_frame = pd.DataFrame({'Actual': y_test, 'Predicted': y_pred})\n",
        "\n",
        "comparison_frame"
      ],
      "metadata": {
        "colab": {
          "base_uri": "https://localhost:8080/",
          "height": 423
        },
        "id": "UK4SwAlJObdT",
        "outputId": "9294d3a4-2bdd-4ab2-ff04-153860625fd8"
      },
      "execution_count": 74,
      "outputs": [
        {
          "output_type": "execute_result",
          "data": {
            "text/plain": [
              "      Actual  Predicted\n",
              "0          5          5\n",
              "1          2          0\n",
              "2          3          3\n",
              "3          1          1\n",
              "4          3          3\n",
              "...      ...        ...\n",
              "4058       2          0\n",
              "4059       6          3\n",
              "4060       3          6\n",
              "4061       0          0\n",
              "4062       0          0\n",
              "\n",
              "[4063 rows x 2 columns]"
            ],
            "text/html": [
              "\n",
              "  <div id=\"df-5487d41c-40aa-4d6d-b020-cfd24b6853ee\">\n",
              "    <div class=\"colab-df-container\">\n",
              "      <div>\n",
              "<style scoped>\n",
              "    .dataframe tbody tr th:only-of-type {\n",
              "        vertical-align: middle;\n",
              "    }\n",
              "\n",
              "    .dataframe tbody tr th {\n",
              "        vertical-align: top;\n",
              "    }\n",
              "\n",
              "    .dataframe thead th {\n",
              "        text-align: right;\n",
              "    }\n",
              "</style>\n",
              "<table border=\"1\" class=\"dataframe\">\n",
              "  <thead>\n",
              "    <tr style=\"text-align: right;\">\n",
              "      <th></th>\n",
              "      <th>Actual</th>\n",
              "      <th>Predicted</th>\n",
              "    </tr>\n",
              "  </thead>\n",
              "  <tbody>\n",
              "    <tr>\n",
              "      <th>0</th>\n",
              "      <td>5</td>\n",
              "      <td>5</td>\n",
              "    </tr>\n",
              "    <tr>\n",
              "      <th>1</th>\n",
              "      <td>2</td>\n",
              "      <td>0</td>\n",
              "    </tr>\n",
              "    <tr>\n",
              "      <th>2</th>\n",
              "      <td>3</td>\n",
              "      <td>3</td>\n",
              "    </tr>\n",
              "    <tr>\n",
              "      <th>3</th>\n",
              "      <td>1</td>\n",
              "      <td>1</td>\n",
              "    </tr>\n",
              "    <tr>\n",
              "      <th>4</th>\n",
              "      <td>3</td>\n",
              "      <td>3</td>\n",
              "    </tr>\n",
              "    <tr>\n",
              "      <th>...</th>\n",
              "      <td>...</td>\n",
              "      <td>...</td>\n",
              "    </tr>\n",
              "    <tr>\n",
              "      <th>4058</th>\n",
              "      <td>2</td>\n",
              "      <td>0</td>\n",
              "    </tr>\n",
              "    <tr>\n",
              "      <th>4059</th>\n",
              "      <td>6</td>\n",
              "      <td>3</td>\n",
              "    </tr>\n",
              "    <tr>\n",
              "      <th>4060</th>\n",
              "      <td>3</td>\n",
              "      <td>6</td>\n",
              "    </tr>\n",
              "    <tr>\n",
              "      <th>4061</th>\n",
              "      <td>0</td>\n",
              "      <td>0</td>\n",
              "    </tr>\n",
              "    <tr>\n",
              "      <th>4062</th>\n",
              "      <td>0</td>\n",
              "      <td>0</td>\n",
              "    </tr>\n",
              "  </tbody>\n",
              "</table>\n",
              "<p>4063 rows × 2 columns</p>\n",
              "</div>\n",
              "      <button class=\"colab-df-convert\" onclick=\"convertToInteractive('df-5487d41c-40aa-4d6d-b020-cfd24b6853ee')\"\n",
              "              title=\"Convert this dataframe to an interactive table.\"\n",
              "              style=\"display:none;\">\n",
              "        \n",
              "  <svg xmlns=\"http://www.w3.org/2000/svg\" height=\"24px\"viewBox=\"0 0 24 24\"\n",
              "       width=\"24px\">\n",
              "    <path d=\"M0 0h24v24H0V0z\" fill=\"none\"/>\n",
              "    <path d=\"M18.56 5.44l.94 2.06.94-2.06 2.06-.94-2.06-.94-.94-2.06-.94 2.06-2.06.94zm-11 1L8.5 8.5l.94-2.06 2.06-.94-2.06-.94L8.5 2.5l-.94 2.06-2.06.94zm10 10l.94 2.06.94-2.06 2.06-.94-2.06-.94-.94-2.06-.94 2.06-2.06.94z\"/><path d=\"M17.41 7.96l-1.37-1.37c-.4-.4-.92-.59-1.43-.59-.52 0-1.04.2-1.43.59L10.3 9.45l-7.72 7.72c-.78.78-.78 2.05 0 2.83L4 21.41c.39.39.9.59 1.41.59.51 0 1.02-.2 1.41-.59l7.78-7.78 2.81-2.81c.8-.78.8-2.07 0-2.86zM5.41 20L4 18.59l7.72-7.72 1.47 1.35L5.41 20z\"/>\n",
              "  </svg>\n",
              "      </button>\n",
              "      \n",
              "  <style>\n",
              "    .colab-df-container {\n",
              "      display:flex;\n",
              "      flex-wrap:wrap;\n",
              "      gap: 12px;\n",
              "    }\n",
              "\n",
              "    .colab-df-convert {\n",
              "      background-color: #E8F0FE;\n",
              "      border: none;\n",
              "      border-radius: 50%;\n",
              "      cursor: pointer;\n",
              "      display: none;\n",
              "      fill: #1967D2;\n",
              "      height: 32px;\n",
              "      padding: 0 0 0 0;\n",
              "      width: 32px;\n",
              "    }\n",
              "\n",
              "    .colab-df-convert:hover {\n",
              "      background-color: #E2EBFA;\n",
              "      box-shadow: 0px 1px 2px rgba(60, 64, 67, 0.3), 0px 1px 3px 1px rgba(60, 64, 67, 0.15);\n",
              "      fill: #174EA6;\n",
              "    }\n",
              "\n",
              "    [theme=dark] .colab-df-convert {\n",
              "      background-color: #3B4455;\n",
              "      fill: #D2E3FC;\n",
              "    }\n",
              "\n",
              "    [theme=dark] .colab-df-convert:hover {\n",
              "      background-color: #434B5C;\n",
              "      box-shadow: 0px 1px 3px 1px rgba(0, 0, 0, 0.15);\n",
              "      filter: drop-shadow(0px 1px 2px rgba(0, 0, 0, 0.3));\n",
              "      fill: #FFFFFF;\n",
              "    }\n",
              "  </style>\n",
              "\n",
              "      <script>\n",
              "        const buttonEl =\n",
              "          document.querySelector('#df-5487d41c-40aa-4d6d-b020-cfd24b6853ee button.colab-df-convert');\n",
              "        buttonEl.style.display =\n",
              "          google.colab.kernel.accessAllowed ? 'block' : 'none';\n",
              "\n",
              "        async function convertToInteractive(key) {\n",
              "          const element = document.querySelector('#df-5487d41c-40aa-4d6d-b020-cfd24b6853ee');\n",
              "          const dataTable =\n",
              "            await google.colab.kernel.invokeFunction('convertToInteractive',\n",
              "                                                     [key], {});\n",
              "          if (!dataTable) return;\n",
              "\n",
              "          const docLinkHtml = 'Like what you see? Visit the ' +\n",
              "            '<a target=\"_blank\" href=https://colab.research.google.com/notebooks/data_table.ipynb>data table notebook</a>'\n",
              "            + ' to learn more about interactive tables.';\n",
              "          element.innerHTML = '';\n",
              "          dataTable['output_type'] = 'display_data';\n",
              "          await google.colab.output.renderOutput(dataTable, element);\n",
              "          const docLink = document.createElement('div');\n",
              "          docLink.innerHTML = docLinkHtml;\n",
              "          element.appendChild(docLink);\n",
              "        }\n",
              "      </script>\n",
              "    </div>\n",
              "  </div>\n",
              "  "
            ]
          },
          "metadata": {},
          "execution_count": 74
        }
      ]
    },
    {
      "cell_type": "markdown",
      "source": [
        "The model performance has an accuracy of  about 87% even after optimising the model which is quite decent and this has been made partly possible using LDA and Multiple Logistic Regression "
      ],
      "metadata": {
        "id": "iNCcwxa_Qi63"
      }
    },
    {
      "cell_type": "code",
      "source": [
        "# Use the following datasets to perform different techniques of multivariate functions \n",
        "\n",
        "# Challenge 1 : Video Games Sales Dataset \n",
        "# url = \"https://www.kaggle.com/datasets/gregorut/videogamesales\"\n",
        "\n",
        "# Challenge 2 : Surveillance Covid 19 \n",
        "# url = \"https://archive.ics.uci.edu/ml/datasets/COVID-19+Surveillance\""
      ],
      "metadata": {
        "id": "BLokdb5-RAo2"
      },
      "execution_count": null,
      "outputs": []
    }
  ],
  "metadata": {
    "colab": {
      "name": "Multivariate Functions",
      "provenance": [],
      "authorship_tag": "ABX9TyOTIMyVcJenG+K+73lNM10n",
      "include_colab_link": true
    },
    "kernelspec": {
      "display_name": "Python 3",
      "name": "python3"
    },
    "language_info": {
      "name": "python"
    }
  },
  "nbformat": 4,
  "nbformat_minor": 0
}